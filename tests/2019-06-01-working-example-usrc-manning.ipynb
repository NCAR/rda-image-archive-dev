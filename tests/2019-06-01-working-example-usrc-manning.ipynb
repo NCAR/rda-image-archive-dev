{
 "cells": [
  {
   "cell_type": "markdown",
   "metadata": {},
   "source": [
    "## Directory structure"
   ]
  },
  {
   "cell_type": "code",
   "execution_count": 3,
   "metadata": {},
   "outputs": [
    {
     "name": "stdout",
     "output_type": "stream",
     "text": [
      "\u001b[34m2019-06-01\u001b[m\u001b[m/\r\n",
      "2019-06-01-testing-downloads.ipynb\r\n",
      "2019-06-01-working-example-usrc-manning.ipynb\r\n",
      "2019-11-14-revisions-to-metadata-import.ipynb\r\n",
      "\u001b[34m2019-11-21\u001b[m\u001b[m/\r\n",
      "2019-11-21-minimal-working-example.ipynb\r\n",
      "\u001b[34m2019-11-25\u001b[m\u001b[m/\r\n",
      "2019-11-25-working-example.ipynb\r\n"
     ]
    }
   ],
   "source": [
    "%ls\n",
    "# Does the present directory contain the minimal working example directory 2019-11-21?"
   ]
  },
  {
   "cell_type": "code",
   "execution_count": 4,
   "metadata": {},
   "outputs": [
    {
     "name": "stdout",
     "output_type": "stream",
     "text": [
      "mkdir: 2019-06-01/data: File exists\r\n",
      "mkdir: 2019-06-01/out: File exists\r\n"
     ]
    }
   ],
   "source": [
    "!mkdir 2019-06-01/data 2019-06-01/out\n",
    "# Do the source and output subdirectories exist?"
   ]
  },
  {
   "cell_type": "code",
   "execution_count": 2,
   "metadata": {},
   "outputs": [],
   "source": [
    "data = \"2019-06-01/data\" # Where are the images and metadata tag files?\n",
    "out  = \"2019-06-01/out\"  # Where should we put the renamed files and metadata catalog?"
   ]
  },
  {
   "cell_type": "markdown",
   "metadata": {},
   "source": [
    "## Function definitions"
   ]
  },
  {
   "cell_type": "code",
   "execution_count": 1,
   "metadata": {},
   "outputs": [],
   "source": [
    "%run -i ../script/rdai\n",
    "# We run rdai script interactively to obtain function definitions"
   ]
  },
  {
   "cell_type": "markdown",
   "metadata": {},
   "source": [
    "## Creating the metadata catalog"
   ]
  },
  {
   "cell_type": "code",
   "execution_count": 7,
   "metadata": {},
   "outputs": [],
   "source": [
    "get_fixed_seq()\n",
    "# Have we generated a fixed sequence for uuids?\n",
    "# The global variable fixed_seq needs to be defined prior to calling mint_uuid"
   ]
  },
  {
   "cell_type": "code",
   "execution_count": 3,
   "metadata": {},
   "outputs": [
    {
     "name": "stdout",
     "output_type": "stream",
     "text": [
      "RDAI: Tag EXIF:ImageUniqueID=2445e5940fb711ea8abeacde48001122 already exists in file 2019-06-01/data/nara_id_24407615/Manning-1914_0001.JPG.\n",
      "False\n",
      "RDAI: Tag EXIF:ImageUniqueID=281c2cd20fb711ea8abeacde48001122 already exists in file 2019-06-01/data/nara_id_24407615/Manning-1914_0002.JPG.\n",
      "False\n",
      "RDAI: Tag EXIF:ImageUniqueID=25658ca40fb711ea8abeacde48001122 already exists in file 2019-06-01/data/nara_id_24407615/Manning-1914_0003.JPG.\n",
      "False\n",
      "RDAI: Tag EXIF:ImageUniqueID=2fa0cdf00fb711ea8abeacde48001122 already exists in file 2019-06-01/data/nara_id_24407615/Manning-1914_0004.JPG.\n",
      "False\n",
      "RDAI: Tag EXIF:ImageUniqueID=2cbc70620fb711ea8abeacde48001122 already exists in file 2019-06-01/data/nara_id_24407615/Manning-1914_0005.JPG.\n",
      "False\n",
      "RDAI: Tag EXIF:ImageUniqueID=291522060fb711ea8abeacde48001122 already exists in file 2019-06-01/data/nara_id_24407615/Manning-1914_0006.JPG.\n",
      "False\n",
      "RDAI: Tag EXIF:ImageUniqueID=2bbf6cfa0fb711ea8abeacde48001122 already exists in file 2019-06-01/data/nara_id_24407615/Manning-1914_0007.JPG.\n",
      "False\n",
      "RDAI: Tag EXIF:ImageUniqueID=f1bc2bd80fb611ea8abeacde48001122 already exists in file 2019-06-01/data/nara_id_24407615/Manning-1914_0008.JPG.\n",
      "False\n",
      "RDAI: Tag EXIF:ImageUniqueID=edae85c20fb611ea8abeacde48001122 already exists in file 2019-06-01/data/nara_id_24407615/Manning-1914_0009.JPG.\n",
      "False\n",
      "RDAI: Tag EXIF:ImageUniqueID=2fc5be1c0fb711ea8abeacde48001122 already exists in file 2019-06-01/data/nara_id_24407615/Manning-1914_0010.JPG.\n",
      "False\n",
      "RDAI: Tag EXIF:ImageUniqueID=2c9800ba0fb711ea8abeacde48001122 already exists in file 2019-06-01/data/nara_id_24407615/Manning-1914_0011.JPG.\n",
      "False\n",
      "RDAI: Tag EXIF:ImageUniqueID=293a254c0fb711ea8abeacde48001122 already exists in file 2019-06-01/data/nara_id_24407615/Manning-1914_0012.JPG.\n",
      "False\n",
      "RDAI: Tag EXIF:ImageUniqueID=2b97e8620fb711ea8abeacde48001122 already exists in file 2019-06-01/data/nara_id_24407615/Manning-1914_0013.JPG.\n",
      "False\n",
      "RDAI: Tag EXIF:ImageUniqueID=21a69bf80fb711ea8abeacde48001122 already exists in file 2019-06-01/data/nara_id_24407615/Manning-1914_0014.JPG.\n",
      "False\n",
      "RDAI: Tag EXIF:ImageUniqueID=246a7f1c0fb711ea8abeacde48001122 already exists in file 2019-06-01/data/nara_id_24407615/Manning-1914_0015.JPG.\n",
      "False\n",
      "RDAI: Tag EXIF:ImageUniqueID=27f8e8460fb711ea8abeacde48001122 already exists in file 2019-06-01/data/nara_id_24407615/Manning-1914_0016.JPG.\n",
      "False\n",
      "RDAI: Tag EXIF:ImageUniqueID=258a741a0fb711ea8abeacde48001122 already exists in file 2019-06-01/data/nara_id_24407615/Manning-1914_0017.JPG.\n",
      "False\n",
      "RDAI: Tag EXIF:ImageUniqueID=fbb08b180fb611ea8abeacde48001122 already exists in file 2019-06-01/data/nara_id_24407615/Manning-1914_0018.JPG.\n",
      "False\n",
      "RDAI: Tag EXIF:ImageUniqueID=ff1d14ae0fb611ea8abeacde48001122 already exists in file 2019-06-01/data/nara_id_24407615/Manning-1914_0019.JPG.\n",
      "False\n",
      "RDAI: Tag EXIF:ImageUniqueID=f17166d40fb611ea8abeacde48001122 already exists in file 2019-06-01/data/nara_id_24407615/Manning-1914_0020.JPG.\n",
      "False\n",
      "RDAI: Tag EXIF:ImageUniqueID=edf63b4c0fb611ea8abeacde48001122 already exists in file 2019-06-01/data/nara_id_24407615/Manning-1914_0021.JPG.\n",
      "False\n",
      "RDAI: Tag EXIF:ImageUniqueID=f293cd540fb611ea8abeacde48001122 already exists in file 2019-06-01/data/nara_id_24407615/Manning-1914_0022.JPG.\n",
      "False\n",
      "RDAI: Tag EXIF:ImageUniqueID=f61a385a0fb611ea8abeacde48001122 already exists in file 2019-06-01/data/nara_id_24407615/Manning-1914_0023.JPG.\n",
      "False\n",
      "RDAI: Tag EXIF:ImageUniqueID=fb887c180fb611ea8abeacde48001122 already exists in file 2019-06-01/data/nara_id_24407615/Manning-1914_0024.JPG.\n",
      "False\n",
      "RDAI: Tag EXIF:ImageUniqueID=ff4145360fb611ea8abeacde48001122 already exists in file 2019-06-01/data/nara_id_24407615/Manning-1914_0025.JPG.\n",
      "False\n",
      "RDAI: Tag EXIF:ImageUniqueID=fa94b66c0fb611ea8abeacde48001122 already exists in file 2019-06-01/data/nara_id_24407615/Manning-1914_0026.JPG.\n",
      "False\n",
      "RDAI: Tag EXIF:ImageUniqueID=f711df060fb611ea8abeacde48001122 already exists in file 2019-06-01/data/nara_id_24407615/Manning-1914_0027.JPG.\n",
      "False\n",
      "RDAI: Tag EXIF:ImageUniqueID=2182ba940fb711ea8abeacde48001122 already exists in file 2019-06-01/data/nara_id_24407615/Manning-1914_0028.JPG.\n",
      "False\n",
      "RDAI: Tag EXIF:ImageUniqueID=248e30d80fb711ea8abeacde48001122 already exists in file 2019-06-01/data/nara_id_24407615/Manning-1914_0029.JPG.\n",
      "False\n",
      "RDAI: Tag EXIF:ImageUniqueID=fb64be280fb611ea8abeacde48001122 already exists in file 2019-06-01/data/nara_id_24407615/Manning-1914_0030.JPG.\n",
      "False\n",
      "RDAI: Tag EXIF:ImageUniqueID=ff64c6d20fb611ea8abeacde48001122 already exists in file 2019-06-01/data/nara_id_24407615/Manning-1914_0031.JPG.\n",
      "False\n",
      "RDAI: Tag EXIF:ImageUniqueID=fa70976e0fb611ea8abeacde48001122 already exists in file 2019-06-01/data/nara_id_24407615/Manning-1914_0032.JPG.\n",
      "False\n",
      "RDAI: Tag EXIF:ImageUniqueID=f736e2880fb611ea8abeacde48001122 already exists in file 2019-06-01/data/nara_id_24407615/Manning-1914_0033.JPG.\n",
      "False\n",
      "RDAI: Tag EXIF:ImageUniqueID=f197cd100fb611ea8abeacde48001122 already exists in file 2019-06-01/data/nara_id_24407615/Manning-1914_0034.JPG.\n",
      "False\n",
      "RDAI: Tag EXIF:ImageUniqueID=edd0c9a20fb611ea8abeacde48001122 already exists in file 2019-06-01/data/nara_id_24407615/Manning-1914_0035.JPG.\n",
      "False\n"
     ]
    },
    {
     "ename": "KeyboardInterrupt",
     "evalue": "",
     "output_type": "error",
     "traceback": [
      "\u001b[0;31m---------------------------------------------------------------------------\u001b[0m",
      "\u001b[0;31mKeyboardInterrupt\u001b[0m                         Traceback (most recent call last)",
      "\u001b[0;32m~/fy/20/rda-image-archive/script/rdai\u001b[0m in \u001b[0;36m<module>\u001b[0;34m\u001b[0m\n\u001b[0;32m----> 1\u001b[0;31m \u001b[0mnormalized_catalog\u001b[0m \u001b[0;34m=\u001b[0m \u001b[0mget_normalized_catalog\u001b[0m\u001b[0;34m(\u001b[0m\u001b[0mdata\u001b[0m\u001b[0;34m,\u001b[0m \u001b[0moverwrite\u001b[0m\u001b[0;34m=\u001b[0m\u001b[0;32mTrue\u001b[0m\u001b[0;34m)\u001b[0m\u001b[0;34m\u001b[0m\u001b[0;34m\u001b[0m\u001b[0m\n\u001b[0m\u001b[1;32m      2\u001b[0m \u001b[0;31m# We generate a metadata catalog (unnormalized) from the data directory.\u001b[0m\u001b[0;34m\u001b[0m\u001b[0;34m\u001b[0m\u001b[0;34m\u001b[0m\u001b[0m\n",
      "\u001b[0;32m~/fy/20/rda-image-archive/script/rdai\u001b[0m in \u001b[0;36mget_normalized_catalog\u001b[0;34m(data_dir, overwrite)\u001b[0m\n\u001b[1;32m    345\u001b[0m         \u001b[0;31m# Recurse down by calling `get_normalized_catalog` for each child.\u001b[0m\u001b[0;34m\u001b[0m\u001b[0;34m\u001b[0m\u001b[0;34m\u001b[0m\u001b[0m\n\u001b[1;32m    346\u001b[0m         normalized_catalog['contents'] = [get_normalized_catalog(child) \n\u001b[0;32m--> 347\u001b[0;31m                 \u001b[0;32mfor\u001b[0m \u001b[0mchild\u001b[0m \u001b[0;32min\u001b[0m \u001b[0mchildren\u001b[0m\u001b[0;34m\u001b[0m\u001b[0;34m\u001b[0m\u001b[0m\n\u001b[0m\u001b[1;32m    348\u001b[0m                 if not os.path.basename(child).startswith(\".\")]\n\u001b[1;32m    349\u001b[0m         \u001b[0;31m# Note. We reserve the key 'contents' for inclusion of lists of child\u001b[0m\u001b[0;34m\u001b[0m\u001b[0;34m\u001b[0m\u001b[0;34m\u001b[0m\u001b[0m\n",
      "\u001b[0;32m~/fy/20/rda-image-archive/script/rdai\u001b[0m in \u001b[0;36m<listcomp>\u001b[0;34m(.0)\u001b[0m\n\u001b[1;32m    346\u001b[0m         normalized_catalog['contents'] = [get_normalized_catalog(child) \n\u001b[1;32m    347\u001b[0m                 \u001b[0;32mfor\u001b[0m \u001b[0mchild\u001b[0m \u001b[0;32min\u001b[0m \u001b[0mchildren\u001b[0m\u001b[0;34m\u001b[0m\u001b[0;34m\u001b[0m\u001b[0m\n\u001b[0;32m--> 348\u001b[0;31m                 if not os.path.basename(child).startswith(\".\")]\n\u001b[0m\u001b[1;32m    349\u001b[0m         \u001b[0;31m# Note. We reserve the key 'contents' for inclusion of lists of child\u001b[0m\u001b[0;34m\u001b[0m\u001b[0;34m\u001b[0m\u001b[0;34m\u001b[0m\u001b[0m\n\u001b[1;32m    350\u001b[0m         \u001b[0;31m# dictionaries. The key 'contents' should appear 0 or 1 times in\u001b[0m\u001b[0;34m\u001b[0m\u001b[0;34m\u001b[0m\u001b[0;34m\u001b[0m\u001b[0m\n",
      "\u001b[0;32m~/fy/20/rda-image-archive/script/rdai\u001b[0m in \u001b[0;36mget_normalized_catalog\u001b[0;34m(data_dir, overwrite)\u001b[0m\n\u001b[1;32m    345\u001b[0m         \u001b[0;31m# Recurse down by calling `get_normalized_catalog` for each child.\u001b[0m\u001b[0;34m\u001b[0m\u001b[0;34m\u001b[0m\u001b[0;34m\u001b[0m\u001b[0m\n\u001b[1;32m    346\u001b[0m         normalized_catalog['contents'] = [get_normalized_catalog(child) \n\u001b[0;32m--> 347\u001b[0;31m                 \u001b[0;32mfor\u001b[0m \u001b[0mchild\u001b[0m \u001b[0;32min\u001b[0m \u001b[0mchildren\u001b[0m\u001b[0;34m\u001b[0m\u001b[0;34m\u001b[0m\u001b[0m\n\u001b[0m\u001b[1;32m    348\u001b[0m                 if not os.path.basename(child).startswith(\".\")]\n\u001b[1;32m    349\u001b[0m         \u001b[0;31m# Note. We reserve the key 'contents' for inclusion of lists of child\u001b[0m\u001b[0;34m\u001b[0m\u001b[0;34m\u001b[0m\u001b[0;34m\u001b[0m\u001b[0m\n",
      "\u001b[0;32m~/fy/20/rda-image-archive/script/rdai\u001b[0m in \u001b[0;36m<listcomp>\u001b[0;34m(.0)\u001b[0m\n\u001b[1;32m    346\u001b[0m         normalized_catalog['contents'] = [get_normalized_catalog(child) \n\u001b[1;32m    347\u001b[0m                 \u001b[0;32mfor\u001b[0m \u001b[0mchild\u001b[0m \u001b[0;32min\u001b[0m \u001b[0mchildren\u001b[0m\u001b[0;34m\u001b[0m\u001b[0;34m\u001b[0m\u001b[0m\n\u001b[0;32m--> 348\u001b[0;31m                 if not os.path.basename(child).startswith(\".\")]\n\u001b[0m\u001b[1;32m    349\u001b[0m         \u001b[0;31m# Note. We reserve the key 'contents' for inclusion of lists of child\u001b[0m\u001b[0;34m\u001b[0m\u001b[0;34m\u001b[0m\u001b[0;34m\u001b[0m\u001b[0m\n\u001b[1;32m    350\u001b[0m         \u001b[0;31m# dictionaries. The key 'contents' should appear 0 or 1 times in\u001b[0m\u001b[0;34m\u001b[0m\u001b[0;34m\u001b[0m\u001b[0;34m\u001b[0m\u001b[0m\n",
      "\u001b[0;32m~/fy/20/rda-image-archive/script/rdai\u001b[0m in \u001b[0;36mget_normalized_catalog\u001b[0;34m(data_dir, overwrite)\u001b[0m\n\u001b[1;32m    369\u001b[0m         \u001b[0;31m# point, python-magic might not need to test for the file media_type. 2019-07-27\u001b[0m\u001b[0;34m\u001b[0m\u001b[0;34m\u001b[0m\u001b[0;34m\u001b[0m\u001b[0m\n\u001b[1;32m    370\u001b[0m         \u001b[0;32mif\u001b[0m \u001b[0mnormalized_catalog\u001b[0m\u001b[0;34m[\u001b[0m\u001b[0;34m'media_type'\u001b[0m\u001b[0;34m]\u001b[0m\u001b[0;34m.\u001b[0m\u001b[0mstartswith\u001b[0m\u001b[0;34m(\u001b[0m\u001b[0;34m\"image\"\u001b[0m\u001b[0;34m)\u001b[0m\u001b[0;34m:\u001b[0m\u001b[0;34m\u001b[0m\u001b[0;34m\u001b[0m\u001b[0m\n\u001b[0;32m--> 371\u001b[0;31m             \u001b[0mnormalized_catalog\u001b[0m\u001b[0;34m[\u001b[0m\u001b[0;34m'uuid'\u001b[0m\u001b[0;34m]\u001b[0m \u001b[0;34m=\u001b[0m \u001b[0massign_uuid\u001b[0m\u001b[0;34m(\u001b[0m\u001b[0mstr\u001b[0m\u001b[0;34m(\u001b[0m\u001b[0mparent\u001b[0m\u001b[0;34m)\u001b[0m\u001b[0;34m,\u001b[0m \u001b[0moverwrite\u001b[0m\u001b[0;34m)\u001b[0m\u001b[0;34m\u001b[0m\u001b[0;34m\u001b[0m\u001b[0m\n\u001b[0m\u001b[1;32m    372\u001b[0m             \u001b[0mprint\u001b[0m\u001b[0;34m(\u001b[0m\u001b[0moverwrite\u001b[0m\u001b[0;34m)\u001b[0m\u001b[0;34m\u001b[0m\u001b[0;34m\u001b[0m\u001b[0m\n\u001b[1;32m    373\u001b[0m \u001b[0;34m\u001b[0m\u001b[0m\n",
      "\u001b[0;32m~/fy/20/rda-image-archive/script/rdai\u001b[0m in \u001b[0;36massign_uuid\u001b[0;34m(filepath, overwrite)\u001b[0m\n\u001b[1;32m    249\u001b[0m     \u001b[0;32mimport\u001b[0m \u001b[0mexiftool\u001b[0m\u001b[0;34m\u001b[0m\u001b[0;34m\u001b[0m\u001b[0m\n\u001b[1;32m    250\u001b[0m     \u001b[0;32mwith\u001b[0m \u001b[0mexiftool\u001b[0m\u001b[0;34m.\u001b[0m\u001b[0mExifTool\u001b[0m\u001b[0;34m(\u001b[0m\u001b[0;34m)\u001b[0m \u001b[0;32mas\u001b[0m \u001b[0met\u001b[0m\u001b[0;34m:\u001b[0m\u001b[0;34m\u001b[0m\u001b[0;34m\u001b[0m\u001b[0m\n\u001b[0;32m--> 251\u001b[0;31m         \u001b[0muuid\u001b[0m \u001b[0;34m=\u001b[0m \u001b[0met\u001b[0m\u001b[0;34m.\u001b[0m\u001b[0mget_tag\u001b[0m\u001b[0;34m(\u001b[0m\u001b[0;34m'ImageUniqueID'\u001b[0m\u001b[0;34m,\u001b[0m \u001b[0mfilepath\u001b[0m\u001b[0;34m)\u001b[0m\u001b[0;34m\u001b[0m\u001b[0;34m\u001b[0m\u001b[0m\n\u001b[0m\u001b[1;32m    252\u001b[0m \u001b[0;34m\u001b[0m\u001b[0m\n\u001b[1;32m    253\u001b[0m         \u001b[0;31m# By default, if the `EXIF:ImageUniqueID` tag is empty, uuid is assigned to None.\u001b[0m\u001b[0;34m\u001b[0m\u001b[0;34m\u001b[0m\u001b[0;34m\u001b[0m\u001b[0m\n",
      "\u001b[0;32m/usr/local/lib/python3.7/site-packages/exiftool.py\u001b[0m in \u001b[0;36mget_tag\u001b[0;34m(self, tag, filename)\u001b[0m\n\u001b[1;32m    327\u001b[0m         \u001b[0;31m`\u001b[0m\u001b[0;31m`\u001b[0m\u001b[0;32mNone\u001b[0m\u001b[0;31m`\u001b[0m\u001b[0;31m`\u001b[0m \u001b[0;32mif\u001b[0m \u001b[0mthis\u001b[0m \u001b[0mtag\u001b[0m \u001b[0mwas\u001b[0m \u001b[0;32mnot\u001b[0m \u001b[0mfound\u001b[0m \u001b[0;32min\u001b[0m \u001b[0mthe\u001b[0m \u001b[0mfile\u001b[0m\u001b[0;34m.\u001b[0m\u001b[0;34m\u001b[0m\u001b[0;34m\u001b[0m\u001b[0m\n\u001b[1;32m    328\u001b[0m         \"\"\"\n\u001b[0;32m--> 329\u001b[0;31m         \u001b[0;32mreturn\u001b[0m \u001b[0mself\u001b[0m\u001b[0;34m.\u001b[0m\u001b[0mget_tag_batch\u001b[0m\u001b[0;34m(\u001b[0m\u001b[0mtag\u001b[0m\u001b[0;34m,\u001b[0m \u001b[0;34m[\u001b[0m\u001b[0mfilename\u001b[0m\u001b[0;34m]\u001b[0m\u001b[0;34m)\u001b[0m\u001b[0;34m[\u001b[0m\u001b[0;36m0\u001b[0m\u001b[0;34m]\u001b[0m\u001b[0;34m\u001b[0m\u001b[0;34m\u001b[0m\u001b[0m\n\u001b[0m",
      "\u001b[0;32m/usr/local/lib/python3.7/site-packages/exiftool.py\u001b[0m in \u001b[0;36mget_tag_batch\u001b[0;34m(self, tag, filenames)\u001b[0m\n\u001b[1;32m    314\u001b[0m         \u001b[0mnon\u001b[0m\u001b[0;34m-\u001b[0m\u001b[0mexistent\u001b[0m \u001b[0mtags\u001b[0m\u001b[0;34m,\u001b[0m \u001b[0;32min\u001b[0m \u001b[0mthe\u001b[0m \u001b[0msame\u001b[0m \u001b[0morder\u001b[0m \u001b[0;32mas\u001b[0m\u001b[0;31m \u001b[0m\u001b[0;31m`\u001b[0m\u001b[0;31m`\u001b[0m\u001b[0mfilenames\u001b[0m\u001b[0;31m`\u001b[0m\u001b[0;31m`\u001b[0m\u001b[0;34m.\u001b[0m\u001b[0;34m\u001b[0m\u001b[0;34m\u001b[0m\u001b[0m\n\u001b[1;32m    315\u001b[0m         \"\"\"\n\u001b[0;32m--> 316\u001b[0;31m         \u001b[0mdata\u001b[0m \u001b[0;34m=\u001b[0m \u001b[0mself\u001b[0m\u001b[0;34m.\u001b[0m\u001b[0mget_tags_batch\u001b[0m\u001b[0;34m(\u001b[0m\u001b[0;34m[\u001b[0m\u001b[0mtag\u001b[0m\u001b[0;34m]\u001b[0m\u001b[0;34m,\u001b[0m \u001b[0mfilenames\u001b[0m\u001b[0;34m)\u001b[0m\u001b[0;34m\u001b[0m\u001b[0;34m\u001b[0m\u001b[0m\n\u001b[0m\u001b[1;32m    317\u001b[0m         \u001b[0mresult\u001b[0m \u001b[0;34m=\u001b[0m \u001b[0;34m[\u001b[0m\u001b[0;34m]\u001b[0m\u001b[0;34m\u001b[0m\u001b[0;34m\u001b[0m\u001b[0m\n\u001b[1;32m    318\u001b[0m         \u001b[0;32mfor\u001b[0m \u001b[0md\u001b[0m \u001b[0;32min\u001b[0m \u001b[0mdata\u001b[0m\u001b[0;34m:\u001b[0m\u001b[0;34m\u001b[0m\u001b[0;34m\u001b[0m\u001b[0m\n",
      "\u001b[0;32m/usr/local/lib/python3.7/site-packages/exiftool.py\u001b[0m in \u001b[0;36mget_tags_batch\u001b[0;34m(self, tags, filenames)\u001b[0m\n\u001b[1;32m    293\u001b[0m         \u001b[0mparams\u001b[0m \u001b[0;34m=\u001b[0m \u001b[0;34m[\u001b[0m\u001b[0;34m\"-\"\u001b[0m \u001b[0;34m+\u001b[0m \u001b[0mt\u001b[0m \u001b[0;32mfor\u001b[0m \u001b[0mt\u001b[0m \u001b[0;32min\u001b[0m \u001b[0mtags\u001b[0m\u001b[0;34m]\u001b[0m\u001b[0;34m\u001b[0m\u001b[0;34m\u001b[0m\u001b[0m\n\u001b[1;32m    294\u001b[0m         \u001b[0mparams\u001b[0m\u001b[0;34m.\u001b[0m\u001b[0mextend\u001b[0m\u001b[0;34m(\u001b[0m\u001b[0mfilenames\u001b[0m\u001b[0;34m)\u001b[0m\u001b[0;34m\u001b[0m\u001b[0;34m\u001b[0m\u001b[0m\n\u001b[0;32m--> 295\u001b[0;31m         \u001b[0;32mreturn\u001b[0m \u001b[0mself\u001b[0m\u001b[0;34m.\u001b[0m\u001b[0mexecute_json\u001b[0m\u001b[0;34m(\u001b[0m\u001b[0;34m*\u001b[0m\u001b[0mparams\u001b[0m\u001b[0;34m)\u001b[0m\u001b[0;34m\u001b[0m\u001b[0;34m\u001b[0m\u001b[0m\n\u001b[0m\u001b[1;32m    296\u001b[0m \u001b[0;34m\u001b[0m\u001b[0m\n\u001b[1;32m    297\u001b[0m     \u001b[0;32mdef\u001b[0m \u001b[0mget_tags\u001b[0m\u001b[0;34m(\u001b[0m\u001b[0mself\u001b[0m\u001b[0;34m,\u001b[0m \u001b[0mtags\u001b[0m\u001b[0;34m,\u001b[0m \u001b[0mfilename\u001b[0m\u001b[0;34m)\u001b[0m\u001b[0;34m:\u001b[0m\u001b[0;34m\u001b[0m\u001b[0;34m\u001b[0m\u001b[0m\n",
      "\u001b[0;32m/usr/local/lib/python3.7/site-packages/exiftool.py\u001b[0m in \u001b[0;36mexecute_json\u001b[0;34m(self, *params)\u001b[0m\n\u001b[1;32m    254\u001b[0m         \"\"\"\n\u001b[1;32m    255\u001b[0m         \u001b[0mparams\u001b[0m \u001b[0;34m=\u001b[0m \u001b[0mmap\u001b[0m\u001b[0;34m(\u001b[0m\u001b[0mfsencode\u001b[0m\u001b[0;34m,\u001b[0m \u001b[0mparams\u001b[0m\u001b[0;34m)\u001b[0m\u001b[0;34m\u001b[0m\u001b[0;34m\u001b[0m\u001b[0m\n\u001b[0;32m--> 256\u001b[0;31m         \u001b[0;32mreturn\u001b[0m \u001b[0mjson\u001b[0m\u001b[0;34m.\u001b[0m\u001b[0mloads\u001b[0m\u001b[0;34m(\u001b[0m\u001b[0mself\u001b[0m\u001b[0;34m.\u001b[0m\u001b[0mexecute\u001b[0m\u001b[0;34m(\u001b[0m\u001b[0;34mb\"-j\"\u001b[0m\u001b[0;34m,\u001b[0m \u001b[0;34m*\u001b[0m\u001b[0mparams\u001b[0m\u001b[0;34m)\u001b[0m\u001b[0;34m.\u001b[0m\u001b[0mdecode\u001b[0m\u001b[0;34m(\u001b[0m\u001b[0;34m\"utf-8\"\u001b[0m\u001b[0;34m)\u001b[0m\u001b[0;34m)\u001b[0m\u001b[0;34m\u001b[0m\u001b[0;34m\u001b[0m\u001b[0m\n\u001b[0m\u001b[1;32m    257\u001b[0m \u001b[0;34m\u001b[0m\u001b[0m\n\u001b[1;32m    258\u001b[0m     \u001b[0;32mdef\u001b[0m \u001b[0mget_metadata_batch\u001b[0m\u001b[0;34m(\u001b[0m\u001b[0mself\u001b[0m\u001b[0;34m,\u001b[0m \u001b[0mfilenames\u001b[0m\u001b[0;34m)\u001b[0m\u001b[0;34m:\u001b[0m\u001b[0;34m\u001b[0m\u001b[0;34m\u001b[0m\u001b[0m\n",
      "\u001b[0;32m/usr/local/lib/python3.7/site-packages/exiftool.py\u001b[0m in \u001b[0;36mexecute\u001b[0;34m(self, *params)\u001b[0m\n\u001b[1;32m    225\u001b[0m         \u001b[0mfd\u001b[0m \u001b[0;34m=\u001b[0m \u001b[0mself\u001b[0m\u001b[0;34m.\u001b[0m\u001b[0m_process\u001b[0m\u001b[0;34m.\u001b[0m\u001b[0mstdout\u001b[0m\u001b[0;34m.\u001b[0m\u001b[0mfileno\u001b[0m\u001b[0;34m(\u001b[0m\u001b[0;34m)\u001b[0m\u001b[0;34m\u001b[0m\u001b[0;34m\u001b[0m\u001b[0m\n\u001b[1;32m    226\u001b[0m         \u001b[0;32mwhile\u001b[0m \u001b[0;32mnot\u001b[0m \u001b[0moutput\u001b[0m\u001b[0;34m[\u001b[0m\u001b[0;34m-\u001b[0m\u001b[0;36m32\u001b[0m\u001b[0;34m:\u001b[0m\u001b[0;34m]\u001b[0m\u001b[0;34m.\u001b[0m\u001b[0mstrip\u001b[0m\u001b[0;34m(\u001b[0m\u001b[0;34m)\u001b[0m\u001b[0;34m.\u001b[0m\u001b[0mendswith\u001b[0m\u001b[0;34m(\u001b[0m\u001b[0msentinel\u001b[0m\u001b[0;34m)\u001b[0m\u001b[0;34m:\u001b[0m\u001b[0;34m\u001b[0m\u001b[0;34m\u001b[0m\u001b[0m\n\u001b[0;32m--> 227\u001b[0;31m             \u001b[0minputready\u001b[0m\u001b[0;34m,\u001b[0m\u001b[0moutputready\u001b[0m\u001b[0;34m,\u001b[0m\u001b[0mexceptready\u001b[0m \u001b[0;34m=\u001b[0m \u001b[0mselect\u001b[0m\u001b[0;34m.\u001b[0m\u001b[0mselect\u001b[0m\u001b[0;34m(\u001b[0m\u001b[0;34m[\u001b[0m\u001b[0mfd\u001b[0m\u001b[0;34m]\u001b[0m\u001b[0;34m,\u001b[0m\u001b[0;34m[\u001b[0m\u001b[0;34m]\u001b[0m\u001b[0;34m,\u001b[0m\u001b[0;34m[\u001b[0m\u001b[0;34m]\u001b[0m\u001b[0;34m)\u001b[0m\u001b[0;34m\u001b[0m\u001b[0;34m\u001b[0m\u001b[0m\n\u001b[0m\u001b[1;32m    228\u001b[0m             \u001b[0;32mfor\u001b[0m \u001b[0mi\u001b[0m \u001b[0;32min\u001b[0m \u001b[0minputready\u001b[0m\u001b[0;34m:\u001b[0m\u001b[0;34m\u001b[0m\u001b[0;34m\u001b[0m\u001b[0m\n\u001b[1;32m    229\u001b[0m                 \u001b[0;32mif\u001b[0m \u001b[0mi\u001b[0m \u001b[0;34m==\u001b[0m \u001b[0mfd\u001b[0m\u001b[0;34m:\u001b[0m\u001b[0;34m\u001b[0m\u001b[0;34m\u001b[0m\u001b[0m\n",
      "\u001b[0;31mKeyboardInterrupt\u001b[0m: "
     ]
    }
   ],
   "source": [
    "normalized_catalog = get_normalized_catalog(data, overwrite=True)\n",
    "# We generate a metadata catalog (unnormalized) from the data directory."
   ]
  },
  {
   "cell_type": "code",
   "execution_count": 14,
   "metadata": {},
   "outputs": [],
   "source": [
    "catalog = unnormalize_catalog(normalized_catalog)\n",
    "# We flatten the normalized catalog. \n",
    "# Each file in the data directory \"has its own entry\" in this catalog.\n",
    "# We'll eventually ignore non-image files."
   ]
  },
  {
   "cell_type": "code",
   "execution_count": 15,
   "metadata": {},
   "outputs": [],
   "source": [
    "write_timestamped_catalog(catalog, out)\n",
    "# We write this version of the metadata catalog to the output directory."
   ]
  },
  {
   "cell_type": "markdown",
   "metadata": {},
   "source": [
    "## Bundling the images to send to the RDA"
   ]
  },
  {
   "cell_type": "code",
   "execution_count": 9,
   "metadata": {},
   "outputs": [],
   "source": [
    "catalog = read_timestamped_catalog(out)\n",
    "# We read in the most recent version of the metadata catalog from the out directory."
   ]
  },
  {
   "cell_type": "code",
   "execution_count": 10,
   "metadata": {},
   "outputs": [],
   "source": [
    "elementary_family = [c for c in catalog if c['media_type'].startswith(\"image\")]\n",
    "# We create a list of all the entries in the catalog that are image files."
   ]
  },
  {
   "cell_type": "code",
   "execution_count": 13,
   "metadata": {},
   "outputs": [],
   "source": [
    "import os\n",
    "# We'll perform some file renames between the data directory and the out directory."
   ]
  },
  {
   "cell_type": "code",
   "execution_count": 14,
   "metadata": {},
   "outputs": [],
   "source": [
    "# We move all the images in the catalog to the output directory.\n",
    "for member in elementary_family:\n",
    "    os.rename(member['file_path'], os.path.join(out, member['uuid']))"
   ]
  },
  {
   "cell_type": "code",
   "execution_count": 15,
   "metadata": {},
   "outputs": [],
   "source": [
    "# Conversely, we move all the images in the catalog back to the data directory.\n",
    "for member in elementary_family:\n",
    "    os.rename(os.path.join(out, member['uuid']), member['file_path'])"
   ]
  }
 ],
 "metadata": {
  "kernelspec": {
   "display_name": "Python 3",
   "language": "python",
   "name": "python3"
  },
  "language_info": {
   "codemirror_mode": {
    "name": "ipython",
    "version": 3
   },
   "file_extension": ".py",
   "mimetype": "text/x-python",
   "name": "python",
   "nbconvert_exporter": "python",
   "pygments_lexer": "ipython3",
   "version": "3.7.5"
  }
 },
 "nbformat": 4,
 "nbformat_minor": 2
}
