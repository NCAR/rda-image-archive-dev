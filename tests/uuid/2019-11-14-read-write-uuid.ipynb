{
 "cells": [
  {
   "cell_type": "code",
   "execution_count": 1,
   "metadata": {},
   "outputs": [],
   "source": [
    "%run ~/fy/20/rda-image-archive/script/rdai\n"
   ]
  },
  {
   "cell_type": "code",
   "execution_count": 2,
   "metadata": {},
   "outputs": [],
   "source": [
    "get_fixed_seq()"
   ]
  },
  {
   "cell_type": "code",
   "execution_count": 3,
   "metadata": {},
   "outputs": [
    {
     "name": "stdout",
     "output_type": "stream",
     "text": [
      "RDAI: Tag EXIF:ImageUniqueID=54237aa2071411eaaf01985aebdcd794 already exists in file cbk.jpg.\n"
     ]
    },
    {
     "data": {
      "text/plain": [
       "'54237aa2071411eaaf01985aebdcd794'"
      ]
     },
     "execution_count": 3,
     "metadata": {},
     "output_type": "execute_result"
    }
   ],
   "source": [
    "assign_uuid('cbk.jpg')"
   ]
  },
  {
   "cell_type": "code",
   "execution_count": 4,
   "metadata": {},
   "outputs": [
    {
     "name": "stdout",
     "output_type": "stream",
     "text": [
      "RDAI: Tag EXIF:ImageUniqueID=e66924f4071411ea8c88985aebdcd794 already exists in file techno.jpg.\n",
      "RDAI: Tag EXIF:ImageUniqueID=54237aa2071411eaaf01985aebdcd794 already exists in file cbk.jpg.\n",
      "RDAI: Tag EXIF:ImageUniqueID=c70da35a070d11ea88e2985aebdcd794 already exists in file ncar.jpg.\n"
     ]
    },
    {
     "data": {
      "text/plain": [
       "{'contents': [{'file_path': '.DS_Store',\n",
       "   'media_type': 'application/octet-stream',\n",
       "   'uuid': None},\n",
       "  {'file_path': 'techno.jpg',\n",
       "   'media_type': 'image/jpeg',\n",
       "   'uuid': 'e66924f4071411ea8c88985aebdcd794'},\n",
       "  {'file_path': 'cbk.jpg',\n",
       "   'media_type': 'image/jpeg',\n",
       "   'uuid': '54237aa2071411eaaf01985aebdcd794'},\n",
       "  {'file_path': 'metadata.csv', 'media_type': 'text/plain', 'uuid': None},\n",
       "  {'file_path': '2019-11-14-read-write-uuid.ipynb',\n",
       "   'media_type': 'text/plain',\n",
       "   'uuid': None},\n",
       "  {'contents': [{'file_path': '.ipynb_checkpoints/2019-11-14-read-write-uuid-checkpoint.ipynb',\n",
       "     'media_type': 'text/plain',\n",
       "     'uuid': None}]},\n",
       "  {'file_path': 'ncar.jpg',\n",
       "   'media_type': 'image/jpeg',\n",
       "   'uuid': 'c70da35a070d11ea88e2985aebdcd794'}],\n",
       " 'document.start_date': '1892-07-01',\n",
       " 'document.end_date': '1892-12-31'}"
      ]
     },
     "execution_count": 4,
     "metadata": {},
     "output_type": "execute_result"
    }
   ],
   "source": [
    "get_normalized_catalog(\".\")"
   ]
  }
 ],
 "metadata": {
  "kernelspec": {
   "display_name": "Python 3",
   "language": "python",
   "name": "python3"
  },
  "language_info": {
   "codemirror_mode": {
    "name": "ipython",
    "version": 3
   },
   "file_extension": ".py",
   "mimetype": "text/x-python",
   "name": "python",
   "nbconvert_exporter": "python",
   "pygments_lexer": "ipython3",
   "version": "3.7.5"
  }
 },
 "nbformat": 4,
 "nbformat_minor": 2
}
