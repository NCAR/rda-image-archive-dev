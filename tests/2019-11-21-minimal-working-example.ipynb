{
 "cells": [
  {
   "cell_type": "markdown",
   "metadata": {},
   "source": [
    "# Minimal Working Example for Image Providers\n",
    "## Directory structure"
   ]
  },
  {
   "cell_type": "code",
   "execution_count": 7,
   "metadata": {},
   "outputs": [
    {
     "name": "stdout",
     "output_type": "stream",
     "text": [
      "2019-11-14-revisions-to-metadata-import.ipynb\r\n",
      "\u001b[34m2019-11-21\u001b[m\u001b[m/\r\n",
      "2019-11-21-minimal-working-example.ipynb\r\n"
     ]
    }
   ],
   "source": [
    "%ls\n",
    "# Does the present directory contain the minimal working example directory 2019-11-21?"
   ]
  },
  {
   "cell_type": "code",
   "execution_count": 8,
   "metadata": {},
   "outputs": [
    {
     "name": "stdout",
     "output_type": "stream",
     "text": [
      "mkdir: 2019-11-21/data: File exists\r\n",
      "mkdir: 2019-11-21/out: File exists\r\n"
     ]
    }
   ],
   "source": [
    "!mkdir 2019-11-21/data 2019-11-21/out\n",
    "# Do the source and output subdirectories exist?"
   ]
  },
  {
   "cell_type": "code",
   "execution_count": 3,
   "metadata": {},
   "outputs": [],
   "source": [
    "data = \"2019-11-21/data\" # Where are the images and metadata tag files?\n",
    "out  = \"2019-11-21/out\"  # Where should we put the renamed files and metadata catalog?"
   ]
  },
  {
   "cell_type": "markdown",
   "metadata": {},
   "source": [
    "## Function definitions"
   ]
  },
  {
   "cell_type": "code",
   "execution_count": 4,
   "metadata": {},
   "outputs": [],
   "source": [
    "%run -i ../script/rdai\n",
    "# We run rdai script interactively to obtain function definitions"
   ]
  },
  {
   "cell_type": "markdown",
   "metadata": {},
   "source": [
    "## Creating the metadata catalog"
   ]
  },
  {
   "cell_type": "code",
   "execution_count": 11,
   "metadata": {},
   "outputs": [],
   "source": [
    "get_fixed_seq()\n",
    "# Have we generated a fixed sequence for uuids?\n",
    "# The global variable fixed_seq needs to be defined prior to calling mint_uuid"
   ]
  },
  {
   "cell_type": "code",
   "execution_count": 5,
   "metadata": {},
   "outputs": [
    {
     "name": "stdout",
     "output_type": "stream",
     "text": [
      "RDAI: Failed to mint a uuid! Call 'get_fixed_seq()' before trying again.\n",
      "RDAI: Tag EXIF:ImageUniqueID=54237aa2071411eaaf01985aebdcd794 already exists in file 2019-11-21/data/ncar/mesa.jpg.\n",
      "RDAI: Tag EXIF:ImageUniqueID=c70da35a070d11ea88e2985aebdcd794 already exists in file 2019-11-21/data/ncar/ncar.jpg.\n",
      "RDAI: Failed to mint a uuid! Call 'get_fixed_seq()' before trying again.\n"
     ]
    },
    {
     "data": {
      "text/plain": [
       "{'contents': [{'file_path': '2019-11-21/data/arc.csv',\n",
       "   'media_type': 'text/plain',\n",
       "   'uuid': None},\n",
       "  {'contents': [{'file_path': '2019-11-21/data/ncar/mesa.jpg',\n",
       "     'media_type': 'image/jpeg',\n",
       "     'uuid': '54237aa2071411eaaf01985aebdcd794'},\n",
       "    {'file_path': '2019-11-21/data/ncar/ncar.jpg',\n",
       "     'media_type': 'image/jpeg',\n",
       "     'uuid': 'c70da35a070d11ea88e2985aebdcd794'},\n",
       "    {'file_path': '2019-11-21/data/ncar/doc.csv',\n",
       "     'media_type': 'text/plain',\n",
       "     'uuid': None}],\n",
       "   'document.start_date': '1892-07-01',\n",
       "   'document.end_date': '1892-12-31'}],\n",
       " 'archive.name': 'National Archives, Brisbane',\n",
       " 'archive.host_country': 'Australia',\n",
       " 'archive.notes': 'Imaged for the WeatherDetective project',\n",
       " 'platform.name': '',\n",
       " 'document.contact_person': 'Christa Pudmenzky <Christa.Pudmenzky@usq.edu.au>',\n",
       " 'document.id_within_archive': '',\n",
       " 'document.id_within_archive_type': '',\n",
       " 'document.record_type': 'Ship log extract',\n",
       " 'document.standardized_region_list': 'global ocean',\n",
       " 'document.start_date': '',\n",
       " 'document.end_date': '',\n",
       " 'document.rights_statement': 'CC-BY',\n",
       " 'document.notes': 'https://data-rescue.copernicus-climate.eu/sites/default/files/2018-10/PudmenzkyC_C3SDRS_CB1Dec2017.pdf'}"
      ]
     },
     "execution_count": 5,
     "metadata": {},
     "output_type": "execute_result"
    }
   ],
   "source": [
    "normalized_catalog = get_normalized_catalog(data)\n",
    "# We generate a metadata catalog (unnormalized) from the data directory."
   ]
  },
  {
   "cell_type": "code",
   "execution_count": 6,
   "metadata": {},
   "outputs": [
    {
     "data": {
      "text/plain": [
       "[{'archive.name': 'National Archives, Brisbane',\n",
       "  'archive.host_country': 'Australia',\n",
       "  'archive.notes': 'Imaged for the WeatherDetective project',\n",
       "  'platform.name': '',\n",
       "  'document.contact_person': 'Christa Pudmenzky <Christa.Pudmenzky@usq.edu.au>',\n",
       "  'document.id_within_archive': '',\n",
       "  'document.id_within_archive_type': '',\n",
       "  'document.record_type': 'Ship log extract',\n",
       "  'document.standardized_region_list': 'global ocean',\n",
       "  'document.start_date': '',\n",
       "  'document.end_date': '',\n",
       "  'document.rights_statement': 'CC-BY',\n",
       "  'document.notes': 'https://data-rescue.copernicus-climate.eu/sites/default/files/2018-10/PudmenzkyC_C3SDRS_CB1Dec2017.pdf',\n",
       "  'file_path': '2019-11-21/data/arc.csv',\n",
       "  'media_type': 'text/plain',\n",
       "  'uuid': None},\n",
       " {'archive.name': 'National Archives, Brisbane',\n",
       "  'archive.host_country': 'Australia',\n",
       "  'archive.notes': 'Imaged for the WeatherDetective project',\n",
       "  'platform.name': '',\n",
       "  'document.contact_person': 'Christa Pudmenzky <Christa.Pudmenzky@usq.edu.au>',\n",
       "  'document.id_within_archive': '',\n",
       "  'document.id_within_archive_type': '',\n",
       "  'document.record_type': 'Ship log extract',\n",
       "  'document.standardized_region_list': 'global ocean',\n",
       "  'document.start_date': '1892-07-01',\n",
       "  'document.end_date': '1892-12-31',\n",
       "  'document.rights_statement': 'CC-BY',\n",
       "  'document.notes': 'https://data-rescue.copernicus-climate.eu/sites/default/files/2018-10/PudmenzkyC_C3SDRS_CB1Dec2017.pdf',\n",
       "  'file_path': '2019-11-21/data/ncar/mesa.jpg',\n",
       "  'media_type': 'image/jpeg',\n",
       "  'uuid': '54237aa2071411eaaf01985aebdcd794'},\n",
       " {'archive.name': 'National Archives, Brisbane',\n",
       "  'archive.host_country': 'Australia',\n",
       "  'archive.notes': 'Imaged for the WeatherDetective project',\n",
       "  'platform.name': '',\n",
       "  'document.contact_person': 'Christa Pudmenzky <Christa.Pudmenzky@usq.edu.au>',\n",
       "  'document.id_within_archive': '',\n",
       "  'document.id_within_archive_type': '',\n",
       "  'document.record_type': 'Ship log extract',\n",
       "  'document.standardized_region_list': 'global ocean',\n",
       "  'document.start_date': '1892-07-01',\n",
       "  'document.end_date': '1892-12-31',\n",
       "  'document.rights_statement': 'CC-BY',\n",
       "  'document.notes': 'https://data-rescue.copernicus-climate.eu/sites/default/files/2018-10/PudmenzkyC_C3SDRS_CB1Dec2017.pdf',\n",
       "  'file_path': '2019-11-21/data/ncar/ncar.jpg',\n",
       "  'media_type': 'image/jpeg',\n",
       "  'uuid': 'c70da35a070d11ea88e2985aebdcd794'},\n",
       " {'archive.name': 'National Archives, Brisbane',\n",
       "  'archive.host_country': 'Australia',\n",
       "  'archive.notes': 'Imaged for the WeatherDetective project',\n",
       "  'platform.name': '',\n",
       "  'document.contact_person': 'Christa Pudmenzky <Christa.Pudmenzky@usq.edu.au>',\n",
       "  'document.id_within_archive': '',\n",
       "  'document.id_within_archive_type': '',\n",
       "  'document.record_type': 'Ship log extract',\n",
       "  'document.standardized_region_list': 'global ocean',\n",
       "  'document.start_date': '1892-07-01',\n",
       "  'document.end_date': '1892-12-31',\n",
       "  'document.rights_statement': 'CC-BY',\n",
       "  'document.notes': 'https://data-rescue.copernicus-climate.eu/sites/default/files/2018-10/PudmenzkyC_C3SDRS_CB1Dec2017.pdf',\n",
       "  'file_path': '2019-11-21/data/ncar/doc.csv',\n",
       "  'media_type': 'text/plain',\n",
       "  'uuid': None}]"
      ]
     },
     "execution_count": 6,
     "metadata": {},
     "output_type": "execute_result"
    }
   ],
   "source": [
    "catalog = unnormalize_catalog(normalized_catalog)\n",
    "# We flatten the normalized catalog. \n",
    "# Each file in the data directory \"has its own entry\" in this catalog.\n",
    "# We'll eventually ignore non-image files."
   ]
  },
  {
   "cell_type": "code",
   "execution_count": 7,
   "metadata": {},
   "outputs": [],
   "source": [
    "write_timestamped_catalog(catalog, out)\n",
    "# We write this version of the metadata catalog to the output directory."
   ]
  },
  {
   "cell_type": "markdown",
   "metadata": {},
   "source": [
    "## Bundling the images to send to the RDA"
   ]
  },
  {
   "cell_type": "code",
   "execution_count": 14,
   "metadata": {},
   "outputs": [],
   "source": [
    "catalog = read_timestamped_catalog(out)\n",
    "# We read in the most recent version of the metadata catalog from the out directory."
   ]
  },
  {
   "cell_type": "code",
   "execution_count": 15,
   "metadata": {},
   "outputs": [],
   "source": [
    "elementary_family = [child for child in catalog if child['media_type'].startswith(\"image\")]\n",
    "# We create a list of all the entries in the catalog that are image files."
   ]
  },
  {
   "cell_type": "code",
   "execution_count": 16,
   "metadata": {},
   "outputs": [],
   "source": [
    "import os\n",
    "# We'll perform some file renames between the data directory and the out directory."
   ]
  },
  {
   "cell_type": "code",
   "execution_count": 13,
   "metadata": {},
   "outputs": [],
   "source": [
    "# We move all the images in the catalog to the output directory.\n",
    "for member in elementary_family:\n",
    "    os.rename(member['file_path'], os.path.join(out, member['uuid']))"
   ]
  },
  {
   "cell_type": "code",
   "execution_count": 12,
   "metadata": {},
   "outputs": [],
   "source": [
    "# Conversely, we move all the images in the catalog back to the data directory.\n",
    "for member in elementary_family:\n",
    "    os.rename(os.path.join(out, member['uuid']), member['file_path'])"
   ]
  }
 ],
 "metadata": {
  "kernelspec": {
   "display_name": "Python 3",
   "language": "python",
   "name": "python3"
  },
  "language_info": {
   "codemirror_mode": {
    "name": "ipython",
    "version": 3
   },
   "file_extension": ".py",
   "mimetype": "text/x-python",
   "name": "python",
   "nbconvert_exporter": "python",
   "pygments_lexer": "ipython3",
   "version": "3.7.5"
  }
 },
 "nbformat": 4,
 "nbformat_minor": 2
}
