{
 "cells": [
  {
   "cell_type": "code",
   "execution_count": 6,
   "metadata": {
    "attributes": {
     "classes": [],
     "id": "",
     "n": "1"
    }
   },
   "outputs": [],
   "source": [
    "import pandas as pd\n",
    "import json\n",
    "import random\n",
    "from pathlib import Path\n",
    "import os"
   ]
  },
  {
   "cell_type": "code",
   "execution_count": 7,
   "metadata": {
    "attributes": {
     "classes": [],
     "id": "",
     "n": "2"
    }
   },
   "outputs": [],
   "source": [
    "# set up logging for requests # \n",
    "import requests\n",
    "import logging\n",
    "import http.client\n",
    "\n",
    "# https://stackoverflow.com/questions/16337511/\n",
    "http.client.HTTPConnection.debuglevel = 1\n",
    "logging.basicConfig()\n",
    "logging.getLogger().setLevel(logging.DEBUG)\n",
    "requests_log = logging.getLogger(\"requests.packages.urllib3\")\n",
    "requests_log.setLevel(logging.DEBUG)\n",
    "requests_log.propagate = True"
   ]
  },
  {
   "cell_type": "code",
   "execution_count": 8,
   "metadata": {
    "attributes": {
     "classes": [],
     "id": "",
     "n": "7"
    }
   },
   "outputs": [],
   "source": [
    "# import Wood's NARA metadata\n",
    "parentDirectory = os.path.abspath(os.path.join(os.getcwd(), os.pardir))\n",
    "df = pd.read_csv(os.path.join(parentDirectory, 'scratch', '2018-05-16-NARA-master-manifest/all.csv'))\n",
    "\n",
    "# trim spaces and remove redundant column\n",
    "df.rename(str.strip, axis='columns',inplace=True)\n",
    "df.drop(columns=['Box or Volume Number.1'], inplace=True)"
   ]
  },
  {
   "cell_type": "code",
   "execution_count": 9,
   "metadata": {
    "attributes": {
     "classes": [],
     "id": "",
     "n": "8"
    }
   },
   "outputs": [
    {
     "data": {
      "text/html": [
       "<div>\n",
       "<style scoped>\n",
       "    .dataframe tbody tr th:only-of-type {\n",
       "        vertical-align: middle;\n",
       "    }\n",
       "\n",
       "    .dataframe tbody tr th {\n",
       "        vertical-align: top;\n",
       "    }\n",
       "\n",
       "    .dataframe thead th {\n",
       "        text-align: right;\n",
       "    }\n",
       "</style>\n",
       "<table border=\"1\" class=\"dataframe\">\n",
       "  <thead>\n",
       "    <tr style=\"text-align: right;\">\n",
       "      <th></th>\n",
       "      <th>Ship Name</th>\n",
       "      <th>Record Group</th>\n",
       "      <th>Entry Number</th>\n",
       "      <th>Box or Volume Number</th>\n",
       "      <th>Digital Directory</th>\n",
       "      <th>Start Date</th>\n",
       "      <th>End Date</th>\n",
       "      <th>Assets</th>\n",
       "      <th>Number of Images</th>\n",
       "      <th>Number of Pages</th>\n",
       "      <th>NARA URL</th>\n",
       "      <th>Geographic Focus</th>\n",
       "    </tr>\n",
       "  </thead>\n",
       "  <tbody>\n",
       "    <tr>\n",
       "      <th>0</th>\n",
       "      <td>ABARENDA</td>\n",
       "      <td>24.0</td>\n",
       "      <td>118</td>\n",
       "      <td>vol01of29</td>\n",
       "      <td>vol01of29 (1899-04-01_1899-09-30)</td>\n",
       "      <td>04/01/1899</td>\n",
       "      <td>09/30/1899</td>\n",
       "      <td>1</td>\n",
       "      <td>193</td>\n",
       "      <td>386</td>\n",
       "      <td>Shipped March 2017</td>\n",
       "      <td>Chinese Waters</td>\n",
       "    </tr>\n",
       "    <tr>\n",
       "      <th>1</th>\n",
       "      <td>ABARENDA</td>\n",
       "      <td>24.0</td>\n",
       "      <td>118</td>\n",
       "      <td>vol02of29</td>\n",
       "      <td>vol02of29 (1899-10-01_1900-03-31)</td>\n",
       "      <td>10/01/1899</td>\n",
       "      <td>03/31/1900</td>\n",
       "      <td>1</td>\n",
       "      <td>193</td>\n",
       "      <td>386</td>\n",
       "      <td>Shipped March 2017</td>\n",
       "      <td>Chinese Waters</td>\n",
       "    </tr>\n",
       "    <tr>\n",
       "      <th>2</th>\n",
       "      <td>ABARENDA</td>\n",
       "      <td>24.0</td>\n",
       "      <td>118</td>\n",
       "      <td>vol03of39</td>\n",
       "      <td>vol03of39 (1900-04-01_1900-09-30)</td>\n",
       "      <td>04/01/1900</td>\n",
       "      <td>09/30/1900</td>\n",
       "      <td>1</td>\n",
       "      <td>191</td>\n",
       "      <td>382</td>\n",
       "      <td>Shipped March 2017</td>\n",
       "      <td>Chinese Waters</td>\n",
       "    </tr>\n",
       "    <tr>\n",
       "      <th>3</th>\n",
       "      <td>ABARENDA</td>\n",
       "      <td>24.0</td>\n",
       "      <td>118</td>\n",
       "      <td>vol04of29</td>\n",
       "      <td>vol04of29 (1900-10-01_1901-04-12)</td>\n",
       "      <td>10/01/1900</td>\n",
       "      <td>04/12/1901</td>\n",
       "      <td>1</td>\n",
       "      <td>205</td>\n",
       "      <td>410</td>\n",
       "      <td>Shipped March 2017</td>\n",
       "      <td>Chinese Waters</td>\n",
       "    </tr>\n",
       "    <tr>\n",
       "      <th>4</th>\n",
       "      <td>ABARENDA</td>\n",
       "      <td>24.0</td>\n",
       "      <td>118</td>\n",
       "      <td>vol05of29</td>\n",
       "      <td>vol05of29 (1901-04-01_1901-11-28)</td>\n",
       "      <td>04/01/1901</td>\n",
       "      <td>11/28/1901</td>\n",
       "      <td>1</td>\n",
       "      <td>275</td>\n",
       "      <td>550</td>\n",
       "      <td>Shipped March 2017</td>\n",
       "      <td>Chinese Waters</td>\n",
       "    </tr>\n",
       "  </tbody>\n",
       "</table>\n",
       "</div>"
      ],
      "text/plain": [
       "  Ship Name  Record Group Entry Number Box or Volume Number  \\\n",
       "0  ABARENDA          24.0          118            vol01of29   \n",
       "1  ABARENDA          24.0          118            vol02of29   \n",
       "2  ABARENDA          24.0          118            vol03of39   \n",
       "3  ABARENDA          24.0          118            vol04of29   \n",
       "4  ABARENDA          24.0          118            vol05of29   \n",
       "\n",
       "                   Digital Directory  Start Date    End Date Assets  \\\n",
       "0  vol01of29 (1899-04-01_1899-09-30)  04/01/1899  09/30/1899      1   \n",
       "1  vol02of29 (1899-10-01_1900-03-31)  10/01/1899  03/31/1900      1   \n",
       "2  vol03of39 (1900-04-01_1900-09-30)  04/01/1900  09/30/1900      1   \n",
       "3  vol04of29 (1900-10-01_1901-04-12)  10/01/1900  04/12/1901      1   \n",
       "4  vol05of29 (1901-04-01_1901-11-28)  04/01/1901  11/28/1901      1   \n",
       "\n",
       "  Number of Images Number of Pages            NARA URL Geographic Focus  \n",
       "0              193             386  Shipped March 2017   Chinese Waters  \n",
       "1              193             386  Shipped March 2017   Chinese Waters  \n",
       "2              191             382  Shipped March 2017   Chinese Waters  \n",
       "3              205             410  Shipped March 2017   Chinese Waters  \n",
       "4              275             550  Shipped March 2017   Chinese Waters  "
      ]
     },
     "execution_count": 9,
     "metadata": {},
     "output_type": "execute_result"
    }
   ],
   "source": [
    "df.head()"
   ]
  },
  {
   "cell_type": "code",
   "execution_count": 10,
   "metadata": {
    "attributes": {
     "classes": [],
     "id": "",
     "n": "9"
    }
   },
   "outputs": [],
   "source": [
    "# take sample from each record group\n",
    "NARA_record_group_dict = dict([(23, 'USCS'), # Records of the Coast and Geodetic Survey\n",
    "                               (24, 'Navy'), # Records of the Bureau of Naval Personnel\n",
    "                               (26, 'CG'), # Records of the U.S. Coast Guard\n",
    "                               (261, 'RAC') # Records of Former Russian Agencies\n",
    "                              ])\n",
    "sample = pd.concat([df.loc[df['Record Group'] == gp].sample(5, random_state=1)\\\n",
    "                    for gp in NARA_record_group_dict])\n",
    "\n",
    "# drop entries without a valid NARA URL\n",
    "ndf = sample[~sample['NARA URL'].str.contains(\" \")]\n",
    "# TODO pair all entries with valid NARA URLs <ccg, 2019-06-02>"
   ]
  },
  {
   "cell_type": "code",
   "execution_count": 11,
   "metadata": {
    "attributes": {
     "classes": [],
     "id": "",
     "n": "10"
    }
   },
   "outputs": [
    {
     "data": {
      "text/html": [
       "<div>\n",
       "<style scoped>\n",
       "    .dataframe tbody tr th:only-of-type {\n",
       "        vertical-align: middle;\n",
       "    }\n",
       "\n",
       "    .dataframe tbody tr th {\n",
       "        vertical-align: top;\n",
       "    }\n",
       "\n",
       "    .dataframe thead th {\n",
       "        text-align: right;\n",
       "    }\n",
       "</style>\n",
       "<table border=\"1\" class=\"dataframe\">\n",
       "  <thead>\n",
       "    <tr style=\"text-align: right;\">\n",
       "      <th></th>\n",
       "      <th>Ship Name</th>\n",
       "      <th>Record Group</th>\n",
       "      <th>Entry Number</th>\n",
       "      <th>Box or Volume Number</th>\n",
       "      <th>Digital Directory</th>\n",
       "      <th>Start Date</th>\n",
       "      <th>End Date</th>\n",
       "      <th>Assets</th>\n",
       "      <th>Number of Images</th>\n",
       "      <th>Number of Pages</th>\n",
       "      <th>NARA URL</th>\n",
       "      <th>Geographic Focus</th>\n",
       "    </tr>\n",
       "  </thead>\n",
       "  <tbody>\n",
       "    <tr>\n",
       "      <th>1744</th>\n",
       "      <td>HASSLER</td>\n",
       "      <td>23.0</td>\n",
       "      <td>102</td>\n",
       "      <td>Volume 71 and 74</td>\n",
       "      <td>hassler-1876</td>\n",
       "      <td>01/01/1876</td>\n",
       "      <td>09/24/1876</td>\n",
       "      <td>2</td>\n",
       "      <td>281</td>\n",
       "      <td>561</td>\n",
       "      <td>https://catalog.archives.gov/id/24332142</td>\n",
       "      <td>Arctic</td>\n",
       "    </tr>\n",
       "    <tr>\n",
       "      <th>1349</th>\n",
       "      <td>DALE (DD-353)</td>\n",
       "      <td>24.0</td>\n",
       "      <td>118-A1</td>\n",
       "      <td>b2721</td>\n",
       "      <td>Dale-DD-353-1943-03</td>\n",
       "      <td>03/01/1943</td>\n",
       "      <td>03/31/1943</td>\n",
       "      <td>1</td>\n",
       "      <td>67</td>\n",
       "      <td>67</td>\n",
       "      <td>https://catalog.archives.gov/id/24357119</td>\n",
       "      <td>Arctic</td>\n",
       "    </tr>\n",
       "    <tr>\n",
       "      <th>1850</th>\n",
       "      <td>IDAHO (BB-42)</td>\n",
       "      <td>24.0</td>\n",
       "      <td>118-A1</td>\n",
       "      <td>Box 4796</td>\n",
       "      <td>idaho-bb-42-1944-05</td>\n",
       "      <td>05/01/1944</td>\n",
       "      <td>05/31/1944</td>\n",
       "      <td>1</td>\n",
       "      <td>101</td>\n",
       "      <td>101</td>\n",
       "      <td>http://catalog.archives.gov/id/17298664</td>\n",
       "      <td>Arctic</td>\n",
       "    </tr>\n",
       "    <tr>\n",
       "      <th>1081</th>\n",
       "      <td>CHELAN</td>\n",
       "      <td>26.0</td>\n",
       "      <td>159A</td>\n",
       "      <td>Box 541</td>\n",
       "      <td>chelan-1935-10</td>\n",
       "      <td>10/01/1935</td>\n",
       "      <td>10/31/1935</td>\n",
       "      <td>1</td>\n",
       "      <td>42</td>\n",
       "      <td>83</td>\n",
       "      <td>https://catalog.archives.gov/id/23678516</td>\n",
       "      <td>Arctic</td>\n",
       "    </tr>\n",
       "    <tr>\n",
       "      <th>3114</th>\n",
       "      <td>STORIS</td>\n",
       "      <td>26.0</td>\n",
       "      <td>330-O</td>\n",
       "      <td>b911, b912</td>\n",
       "      <td>storis-1954</td>\n",
       "      <td>01/01/1954</td>\n",
       "      <td>12/31/1954</td>\n",
       "      <td>2</td>\n",
       "      <td>594</td>\n",
       "      <td>1,188</td>\n",
       "      <td>http://catalog.archives/gov/id/38547956</td>\n",
       "      <td>Arctic</td>\n",
       "    </tr>\n",
       "    <tr>\n",
       "      <th>3121</th>\n",
       "      <td>STORIS</td>\n",
       "      <td>26.0</td>\n",
       "      <td>330-V</td>\n",
       "      <td>b822</td>\n",
       "      <td>storis-1957 logbooks</td>\n",
       "      <td>09/06/1957</td>\n",
       "      <td>09/06/1957</td>\n",
       "      <td>1</td>\n",
       "      <td>20</td>\n",
       "      <td>40</td>\n",
       "      <td>http://catalog.archives/gov/id/38547962</td>\n",
       "      <td>Arctic</td>\n",
       "    </tr>\n",
       "    <tr>\n",
       "      <th>2098</th>\n",
       "      <td>MANNING</td>\n",
       "      <td>26.0</td>\n",
       "      <td>159-A</td>\n",
       "      <td>Boxes 1455, 1456 and 1457</td>\n",
       "      <td>manning-1914</td>\n",
       "      <td>01/01/1914</td>\n",
       "      <td>12/31/1914</td>\n",
       "      <td>3</td>\n",
       "      <td>477</td>\n",
       "      <td>941</td>\n",
       "      <td>https://catalog.archives.gov/id/24407615</td>\n",
       "      <td>Arctic</td>\n",
       "    </tr>\n",
       "  </tbody>\n",
       "</table>\n",
       "</div>"
      ],
      "text/plain": [
       "          Ship Name  Record Group Entry Number       Box or Volume Number  \\\n",
       "1744        HASSLER          23.0          102           Volume 71 and 74   \n",
       "1349  DALE (DD-353)          24.0       118-A1                      b2721   \n",
       "1850  IDAHO (BB-42)          24.0       118-A1                   Box 4796   \n",
       "1081         CHELAN          26.0         159A                    Box 541   \n",
       "3114         STORIS          26.0        330-O                 b911, b912   \n",
       "3121         STORIS          26.0        330-V                       b822   \n",
       "2098        MANNING          26.0        159-A  Boxes 1455, 1456 and 1457   \n",
       "\n",
       "         Digital Directory  Start Date    End Date Assets Number of Images  \\\n",
       "1744          hassler-1876  01/01/1876  09/24/1876      2              281   \n",
       "1349   Dale-DD-353-1943-03  03/01/1943  03/31/1943      1               67   \n",
       "1850   idaho-bb-42-1944-05  05/01/1944  05/31/1944      1              101   \n",
       "1081        chelan-1935-10  10/01/1935  10/31/1935      1               42   \n",
       "3114           storis-1954  01/01/1954  12/31/1954      2              594   \n",
       "3121  storis-1957 logbooks  09/06/1957  09/06/1957      1               20   \n",
       "2098          manning-1914  01/01/1914  12/31/1914      3              477   \n",
       "\n",
       "     Number of Pages                                  NARA URL  \\\n",
       "1744             561  https://catalog.archives.gov/id/24332142   \n",
       "1349              67  https://catalog.archives.gov/id/24357119   \n",
       "1850             101   http://catalog.archives.gov/id/17298664   \n",
       "1081              83  https://catalog.archives.gov/id/23678516   \n",
       "3114           1,188   http://catalog.archives/gov/id/38547956   \n",
       "3121              40   http://catalog.archives/gov/id/38547962   \n",
       "2098             941  https://catalog.archives.gov/id/24407615   \n",
       "\n",
       "     Geographic Focus  \n",
       "1744           Arctic  \n",
       "1349           Arctic  \n",
       "1850           Arctic  \n",
       "1081           Arctic  \n",
       "3114           Arctic  \n",
       "3121           Arctic  \n",
       "2098           Arctic  "
      ]
     },
     "execution_count": 11,
     "metadata": {},
     "output_type": "execute_result"
    }
   ],
   "source": [
    "ndf"
   ]
  },
  {
   "cell_type": "code",
   "execution_count": 12,
   "metadata": {
    "attributes": {
     "classes": [],
     "id": "",
     "n": "11"
    }
   },
   "outputs": [],
   "source": [
    "#  download each image under a given nara_id # \n",
    "\n",
    "def download_nara_entry(entry): # entry is assumed to be a *DataFrame*\n",
    "\n",
    "    # access NARA API\n",
    "    nara_id = entry['NARA URL'].iloc[0].split(\"/\")[-1]\n",
    "    api_base = 'https://catalog.archives.gov/api/v1/'\n",
    "    api_url = '{0}?naIds={1}'.format(api_base, nara_id)\n",
    "    res = requests.get(api_url)\n",
    "\n",
    "    # metadata from Wood's all.csv (which is redundant, given NARA's metadata)\n",
    "    # base_url = 'https://catalog.archives.gov/'\n",
    "    # record_group = \"rg-0{0}\".format(int(entry['Record Group'].iloc[0]))\n",
    "    # num_images = int(entry['Number of Images'].iloc[0])\n",
    "    # digital_directory = ['Digital Directory'].iloc[0]\n",
    "\n",
    "    # parse NARA API output for metadata\n",
    "    entry_img_array = res.json().get('opaResponse').get('results').get('result')[0]\\\n",
    "                      .get('objects').get('object')\n",
    "    digital_directory = entry_img_array[0].get('file').get('@path').split(\"/\")[-2]\n",
    "\n",
    "    # create local directories if needed\n",
    "    paths = dict([(k,os.path.join('2019-06-01', k))\\\n",
    "                  for k in ['data', 'out']])\n",
    "    for k, val in paths.items():\n",
    "        p = Path(val)\n",
    "        if (p.exists() == False and p.is_dir() == False):\n",
    "            os.mkdir(val)\n",
    "\n",
    "    # write NARA API output to file for reference\n",
    "    api_output = \"{0}/nara_id_{1}.json\".format(paths['data'], digital_directory, nara_id)\n",
    "    if res.status_code == 200:\n",
    "        with open(api_output, 'wb') as f:\n",
    "            f.write(res.content)\n",
    "\n",
    "    # download all images for this unique nara_id\n",
    "    for img_info in entry_img_array: \n",
    "\n",
    "        # test for mimetype \"image/jpeg\"\n",
    "        # we don't want \"application/pdf\"\n",
    "        if img_info.get('file').get('@mime') == \"image/jpeg\":\n",
    "\n",
    "            img_name = img_info.get('file').get('@name')\n",
    "            img_url = img_info.get('file').get('@url')\n",
    "            img_res = requests.get(img_url)\n",
    "\n",
    "            # create subdirectory if needed\n",
    "            img_path = '{0}/nara_id_{1}'\\\n",
    "                       .format(paths['data'], nara_id)\n",
    "            img_p = Path(img_path)\n",
    "            if (img_p.exists() == False and img_p.is_dir() == False):\n",
    "                os.mkdir(img_path)\n",
    "\n",
    "            # write a single image to file\n",
    "            local_img_name = \"{0}/{1}\".format(img_path, img_name)\n",
    "            if img_res.status_code == 200:\n",
    "                with open(local_img_name, 'wb') as img_f:\n",
    "                    img_f.write(img_res.content)\n",
    "    return None"
   ]
  },
  {
   "cell_type": "code",
   "execution_count": null,
   "metadata": {
    "attributes": {
     "classes": [],
     "id": "",
     "n": "12"
    }
   },
   "outputs": [
    {
     "name": "stderr",
     "output_type": "stream",
     "text": [
      "DEBUG:urllib3.connectionpool:Starting new HTTPS connection (1): catalog.archives.gov:443\n",
      "DEBUG:urllib3.connectionpool:https://catalog.archives.gov:443 \"GET /api/v1/?naIds=24407615 HTTP/1.1\" 200 None\n"
     ]
    },
    {
     "name": "stdout",
     "output_type": "stream",
     "text": [
      "send: b'GET /api/v1/?naIds=24407615 HTTP/1.1\\r\\nHost: catalog.archives.gov\\r\\nUser-Agent: python-requests/2.22.0\\r\\nAccept-Encoding: gzip, deflate\\r\\nAccept: */*\\r\\nConnection: keep-alive\\r\\n\\r\\n'\n",
      "reply: 'HTTP/1.1 200 OK\\r\\n'\n",
      "header: Access-Control-Allow-Credentials: true\n",
      "header: Access-Control-Allow-Methods: DELETE, HEAD, GET, OPTION, POST, PUT\n",
      "header: Access-Control-Expose-Headers: JSESSIONID\n",
      "header: Access-Control-Max-Age: 3600\n",
      "header: BALANCER_NAME: (null)\n",
      "header: BALANCER_ROUTE_CHANGED: 1\n",
      "header: BALANCER_SESSION_ROUTE: (null)\n",
      "header: BALANCER_SESSION_STICKY: (null)\n",
      "header: BALANCER_WORKER_NAME: ajp://pa02.aws.nac.nara.gov:8009/OpaAPI\n",
      "header: BALANCER_WORKER_ROUTE: pa02\n",
      "header: Cache-Control: no-store, no-cache\n",
      "header: Content-Type: application/json;charset=UTF-8\n",
      "header: Date: Mon, 25 Nov 2019 19:01:44 GMT\n",
      "header: hnweb: pw02\n",
      "header: Pragma: no-cache\n",
      "header: Server: Apache\n",
      "header: Strict-Transport-Security: max-age=31536000; includeSubDomains; preload\n",
      "header: transfer-encoding: chunked\n",
      "header: Connection: keep-alive\n"
     ]
    },
    {
     "name": "stderr",
     "output_type": "stream",
     "text": [
      "DEBUG:urllib3.connectionpool:Starting new HTTPS connection (1): catalog.archives.gov:443\n"
     ]
    },
    {
     "name": "stdout",
     "output_type": "stream",
     "text": [
      "send: b'GET /OpaAPI/media/24407615/content/dc-metro/rg-026/585454/0001-A1/Manning-1914/Manning-1914_0001.JPG HTTP/1.1\\r\\nHost: catalog.archives.gov\\r\\nUser-Agent: python-requests/2.22.0\\r\\nAccept-Encoding: gzip, deflate\\r\\nAccept: */*\\r\\nConnection: keep-alive\\r\\n\\r\\n'\n"
     ]
    },
    {
     "name": "stderr",
     "output_type": "stream",
     "text": [
      "DEBUG:urllib3.connectionpool:https://catalog.archives.gov:443 \"GET /OpaAPI/media/24407615/content/dc-metro/rg-026/585454/0001-A1/Manning-1914/Manning-1914_0001.JPG HTTP/1.1\" 200 None\n"
     ]
    },
    {
     "name": "stdout",
     "output_type": "stream",
     "text": [
      "reply: 'HTTP/1.1 200 OK\\r\\n'\n",
      "header: Access-Control-Allow-Credentials: true\n",
      "header: Access-Control-Allow-Methods: DELETE, HEAD, GET, OPTION, POST, PUT\n",
      "header: Access-Control-Expose-Headers: JSESSIONID\n",
      "header: Access-Control-Max-Age: 3600\n",
      "header: BALANCER_NAME: (null)\n",
      "header: BALANCER_ROUTE_CHANGED: 1\n",
      "header: BALANCER_SESSION_ROUTE: (null)\n",
      "header: BALANCER_SESSION_STICKY: (null)\n",
      "header: BALANCER_WORKER_NAME: ajp://pa01.aws.nac.nara.gov:8009/OpaAPI\n",
      "header: BALANCER_WORKER_ROUTE: pa01\n",
      "header: Cache-Control: no-store, no-cache\n",
      "header: Content-Type: image/jpeg;charset=UTF-8\n",
      "header: Date: Mon, 25 Nov 2019 19:02:21 GMT\n",
      "header: hnweb: pw01\n",
      "header: Pragma: no-cache\n",
      "header: Server: Apache/2.4.6 (Red Hat)\n",
      "header: Strict-Transport-Security: max-age=31536000; includeSubDomains; preload\n",
      "header: transfer-encoding: chunked\n",
      "header: Connection: keep-alive\n"
     ]
    },
    {
     "name": "stderr",
     "output_type": "stream",
     "text": [
      "DEBUG:urllib3.connectionpool:Starting new HTTPS connection (1): catalog.archives.gov:443\n"
     ]
    },
    {
     "name": "stdout",
     "output_type": "stream",
     "text": [
      "send: b'GET /OpaAPI/media/24407615/content/dc-metro/rg-026/585454/0001-A1/Manning-1914/Manning-1914_0002.JPG HTTP/1.1\\r\\nHost: catalog.archives.gov\\r\\nUser-Agent: python-requests/2.22.0\\r\\nAccept-Encoding: gzip, deflate\\r\\nAccept: */*\\r\\nConnection: keep-alive\\r\\n\\r\\n'\n"
     ]
    },
    {
     "name": "stderr",
     "output_type": "stream",
     "text": [
      "DEBUG:urllib3.connectionpool:https://catalog.archives.gov:443 \"GET /OpaAPI/media/24407615/content/dc-metro/rg-026/585454/0001-A1/Manning-1914/Manning-1914_0002.JPG HTTP/1.1\" 200 None\n"
     ]
    },
    {
     "name": "stdout",
     "output_type": "stream",
     "text": [
      "reply: 'HTTP/1.1 200 OK\\r\\n'\n",
      "header: Access-Control-Allow-Credentials: true\n",
      "header: Access-Control-Allow-Methods: DELETE, HEAD, GET, OPTION, POST, PUT\n",
      "header: Access-Control-Expose-Headers: JSESSIONID\n",
      "header: Access-Control-Max-Age: 3600\n",
      "header: BALANCER_NAME: (null)\n",
      "header: BALANCER_ROUTE_CHANGED: 1\n",
      "header: BALANCER_SESSION_ROUTE: (null)\n",
      "header: BALANCER_SESSION_STICKY: (null)\n",
      "header: BALANCER_WORKER_NAME: ajp://pa01.aws.nac.nara.gov:8009/OpaAPI\n",
      "header: BALANCER_WORKER_ROUTE: pa01\n",
      "header: Cache-Control: no-store, no-cache\n",
      "header: Content-Type: image/jpeg;charset=UTF-8\n",
      "header: Date: Mon, 25 Nov 2019 19:02:22 GMT\n",
      "header: hnweb: pw01\n",
      "header: Pragma: no-cache\n",
      "header: Server: Apache/2.4.6 (Red Hat)\n",
      "header: Strict-Transport-Security: max-age=31536000; includeSubDomains; preload\n",
      "header: transfer-encoding: chunked\n",
      "header: Connection: keep-alive\n"
     ]
    },
    {
     "name": "stderr",
     "output_type": "stream",
     "text": [
      "DEBUG:urllib3.connectionpool:Starting new HTTPS connection (1): catalog.archives.gov:443\n"
     ]
    },
    {
     "name": "stdout",
     "output_type": "stream",
     "text": [
      "send: b'GET /OpaAPI/media/24407615/content/dc-metro/rg-026/585454/0001-A1/Manning-1914/Manning-1914_0003.JPG HTTP/1.1\\r\\nHost: catalog.archives.gov\\r\\nUser-Agent: python-requests/2.22.0\\r\\nAccept-Encoding: gzip, deflate\\r\\nAccept: */*\\r\\nConnection: keep-alive\\r\\n\\r\\n'\n"
     ]
    },
    {
     "name": "stderr",
     "output_type": "stream",
     "text": [
      "DEBUG:urllib3.connectionpool:https://catalog.archives.gov:443 \"GET /OpaAPI/media/24407615/content/dc-metro/rg-026/585454/0001-A1/Manning-1914/Manning-1914_0003.JPG HTTP/1.1\" 200 None\n"
     ]
    },
    {
     "name": "stdout",
     "output_type": "stream",
     "text": [
      "reply: 'HTTP/1.1 200 OK\\r\\n'\n",
      "header: Access-Control-Allow-Credentials: true\n",
      "header: Access-Control-Allow-Methods: DELETE, HEAD, GET, OPTION, POST, PUT\n",
      "header: Access-Control-Expose-Headers: JSESSIONID\n",
      "header: Access-Control-Max-Age: 3600\n",
      "header: BALANCER_NAME: (null)\n",
      "header: BALANCER_ROUTE_CHANGED: 1\n",
      "header: BALANCER_SESSION_ROUTE: (null)\n",
      "header: BALANCER_SESSION_STICKY: (null)\n",
      "header: BALANCER_WORKER_NAME: ajp://pa02.aws.nac.nara.gov:8009/OpaAPI\n",
      "header: BALANCER_WORKER_ROUTE: pa02\n",
      "header: Cache-Control: no-store, no-cache\n",
      "header: Content-Type: image/jpeg;charset=UTF-8\n",
      "header: Date: Mon, 25 Nov 2019 19:02:24 GMT\n",
      "header: hnweb: pw04\n",
      "header: Pragma: no-cache\n",
      "header: Server: Apache\n",
      "header: Strict-Transport-Security: max-age=31536000; includeSubDomains; preload\n",
      "header: transfer-encoding: chunked\n",
      "header: Connection: keep-alive\n"
     ]
    },
    {
     "name": "stderr",
     "output_type": "stream",
     "text": [
      "DEBUG:urllib3.connectionpool:Starting new HTTPS connection (1): catalog.archives.gov:443\n"
     ]
    },
    {
     "name": "stdout",
     "output_type": "stream",
     "text": [
      "send: b'GET /OpaAPI/media/24407615/content/dc-metro/rg-026/585454/0001-A1/Manning-1914/Manning-1914_0004.JPG HTTP/1.1\\r\\nHost: catalog.archives.gov\\r\\nUser-Agent: python-requests/2.22.0\\r\\nAccept-Encoding: gzip, deflate\\r\\nAccept: */*\\r\\nConnection: keep-alive\\r\\n\\r\\n'\n"
     ]
    },
    {
     "name": "stderr",
     "output_type": "stream",
     "text": [
      "DEBUG:urllib3.connectionpool:https://catalog.archives.gov:443 \"GET /OpaAPI/media/24407615/content/dc-metro/rg-026/585454/0001-A1/Manning-1914/Manning-1914_0004.JPG HTTP/1.1\" 200 None\n"
     ]
    },
    {
     "name": "stdout",
     "output_type": "stream",
     "text": [
      "reply: 'HTTP/1.1 200 OK\\r\\n'\n",
      "header: Access-Control-Allow-Credentials: true\n",
      "header: Access-Control-Allow-Methods: DELETE, HEAD, GET, OPTION, POST, PUT\n",
      "header: Access-Control-Expose-Headers: JSESSIONID\n",
      "header: Access-Control-Max-Age: 3600\n",
      "header: BALANCER_NAME: (null)\n",
      "header: BALANCER_ROUTE_CHANGED: 1\n",
      "header: BALANCER_SESSION_ROUTE: (null)\n",
      "header: BALANCER_SESSION_STICKY: (null)\n",
      "header: BALANCER_WORKER_NAME: ajp://pa03.aws.nac.nara.gov:8009/OpaAPI\n",
      "header: BALANCER_WORKER_ROUTE: pa03\n",
      "header: Cache-Control: no-store, no-cache\n",
      "header: Content-Type: image/jpeg;charset=UTF-8\n",
      "header: Date: Mon, 25 Nov 2019 19:02:25 GMT\n",
      "header: hnweb: pw01\n",
      "header: Pragma: no-cache\n",
      "header: Server: Apache/2.4.6 (Red Hat)\n",
      "header: Strict-Transport-Security: max-age=31536000; includeSubDomains; preload\n",
      "header: transfer-encoding: chunked\n",
      "header: Connection: keep-alive\n"
     ]
    },
    {
     "name": "stderr",
     "output_type": "stream",
     "text": [
      "DEBUG:urllib3.connectionpool:Starting new HTTPS connection (1): catalog.archives.gov:443\n"
     ]
    },
    {
     "name": "stdout",
     "output_type": "stream",
     "text": [
      "send: b'GET /OpaAPI/media/24407615/content/dc-metro/rg-026/585454/0001-A1/Manning-1914/Manning-1914_0005.JPG HTTP/1.1\\r\\nHost: catalog.archives.gov\\r\\nUser-Agent: python-requests/2.22.0\\r\\nAccept-Encoding: gzip, deflate\\r\\nAccept: */*\\r\\nConnection: keep-alive\\r\\n\\r\\n'\n"
     ]
    },
    {
     "name": "stderr",
     "output_type": "stream",
     "text": [
      "DEBUG:urllib3.connectionpool:https://catalog.archives.gov:443 \"GET /OpaAPI/media/24407615/content/dc-metro/rg-026/585454/0001-A1/Manning-1914/Manning-1914_0005.JPG HTTP/1.1\" 200 None\n"
     ]
    },
    {
     "name": "stdout",
     "output_type": "stream",
     "text": [
      "reply: 'HTTP/1.1 200 OK\\r\\n'\n",
      "header: Access-Control-Allow-Credentials: true\n",
      "header: Access-Control-Allow-Methods: DELETE, HEAD, GET, OPTION, POST, PUT\n",
      "header: Access-Control-Expose-Headers: JSESSIONID\n",
      "header: Access-Control-Max-Age: 3600\n",
      "header: BALANCER_NAME: (null)\n",
      "header: BALANCER_ROUTE_CHANGED: 1\n",
      "header: BALANCER_SESSION_ROUTE: (null)\n",
      "header: BALANCER_SESSION_STICKY: (null)\n",
      "header: BALANCER_WORKER_NAME: ajp://pa03.aws.nac.nara.gov:8009/OpaAPI\n",
      "header: BALANCER_WORKER_ROUTE: pa03\n",
      "header: Cache-Control: no-store, no-cache\n",
      "header: Content-Type: image/jpeg;charset=UTF-8\n",
      "header: Date: Mon, 25 Nov 2019 19:02:26 GMT\n",
      "header: hnweb: pw02\n",
      "header: Pragma: no-cache\n",
      "header: Server: Apache\n",
      "header: Strict-Transport-Security: max-age=31536000; includeSubDomains; preload\n",
      "header: transfer-encoding: chunked\n",
      "header: Connection: keep-alive\n"
     ]
    },
    {
     "name": "stderr",
     "output_type": "stream",
     "text": [
      "DEBUG:urllib3.connectionpool:Starting new HTTPS connection (1): catalog.archives.gov:443\n"
     ]
    },
    {
     "name": "stdout",
     "output_type": "stream",
     "text": [
      "send: b'GET /OpaAPI/media/24407615/content/dc-metro/rg-026/585454/0001-A1/Manning-1914/Manning-1914_0006.JPG HTTP/1.1\\r\\nHost: catalog.archives.gov\\r\\nUser-Agent: python-requests/2.22.0\\r\\nAccept-Encoding: gzip, deflate\\r\\nAccept: */*\\r\\nConnection: keep-alive\\r\\n\\r\\n'\n"
     ]
    },
    {
     "name": "stderr",
     "output_type": "stream",
     "text": [
      "DEBUG:urllib3.connectionpool:https://catalog.archives.gov:443 \"GET /OpaAPI/media/24407615/content/dc-metro/rg-026/585454/0001-A1/Manning-1914/Manning-1914_0006.JPG HTTP/1.1\" 200 None\n"
     ]
    },
    {
     "name": "stdout",
     "output_type": "stream",
     "text": [
      "reply: 'HTTP/1.1 200 OK\\r\\n'\n",
      "header: Access-Control-Allow-Credentials: true\n",
      "header: Access-Control-Allow-Methods: DELETE, HEAD, GET, OPTION, POST, PUT\n",
      "header: Access-Control-Expose-Headers: JSESSIONID\n",
      "header: Access-Control-Max-Age: 3600\n",
      "header: BALANCER_NAME: (null)\n",
      "header: BALANCER_ROUTE_CHANGED: 1\n",
      "header: BALANCER_SESSION_ROUTE: (null)\n",
      "header: BALANCER_SESSION_STICKY: (null)\n",
      "header: BALANCER_WORKER_NAME: ajp://pa03.aws.nac.nara.gov:8009/OpaAPI\n",
      "header: BALANCER_WORKER_ROUTE: pa03\n",
      "header: Cache-Control: no-store, no-cache\n",
      "header: Content-Type: image/jpeg;charset=UTF-8\n",
      "header: Date: Mon, 25 Nov 2019 19:02:28 GMT\n",
      "header: hnweb: pw02\n",
      "header: Pragma: no-cache\n",
      "header: Server: Apache\n",
      "header: Strict-Transport-Security: max-age=31536000; includeSubDomains; preload\n",
      "header: transfer-encoding: chunked\n",
      "header: Connection: keep-alive\n"
     ]
    },
    {
     "name": "stderr",
     "output_type": "stream",
     "text": [
      "DEBUG:urllib3.connectionpool:Starting new HTTPS connection (1): catalog.archives.gov:443\n"
     ]
    },
    {
     "name": "stdout",
     "output_type": "stream",
     "text": [
      "send: b'GET /OpaAPI/media/24407615/content/dc-metro/rg-026/585454/0001-A1/Manning-1914/Manning-1914_0007.JPG HTTP/1.1\\r\\nHost: catalog.archives.gov\\r\\nUser-Agent: python-requests/2.22.0\\r\\nAccept-Encoding: gzip, deflate\\r\\nAccept: */*\\r\\nConnection: keep-alive\\r\\n\\r\\n'\n"
     ]
    },
    {
     "name": "stderr",
     "output_type": "stream",
     "text": [
      "DEBUG:urllib3.connectionpool:https://catalog.archives.gov:443 \"GET /OpaAPI/media/24407615/content/dc-metro/rg-026/585454/0001-A1/Manning-1914/Manning-1914_0007.JPG HTTP/1.1\" 200 None\n"
     ]
    },
    {
     "name": "stdout",
     "output_type": "stream",
     "text": [
      "reply: 'HTTP/1.1 200 OK\\r\\n'\n",
      "header: Access-Control-Allow-Credentials: true\n",
      "header: Access-Control-Allow-Methods: DELETE, HEAD, GET, OPTION, POST, PUT\n",
      "header: Access-Control-Expose-Headers: JSESSIONID\n",
      "header: Access-Control-Max-Age: 3600\n",
      "header: BALANCER_NAME: (null)\n",
      "header: BALANCER_ROUTE_CHANGED: 1\n",
      "header: BALANCER_SESSION_ROUTE: (null)\n",
      "header: BALANCER_SESSION_STICKY: (null)\n",
      "header: BALANCER_WORKER_NAME: ajp://pa04.aws.nac.nara.gov:8009/OpaAPI\n",
      "header: BALANCER_WORKER_ROUTE: pa04\n",
      "header: Cache-Control: no-store, no-cache\n",
      "header: Content-Type: image/jpeg;charset=UTF-8\n",
      "header: Date: Mon, 25 Nov 2019 19:02:29 GMT\n",
      "header: hnweb: pw03\n",
      "header: Pragma: no-cache\n",
      "header: Server: Apache/2.4.6 (Red Hat)\n",
      "header: Strict-Transport-Security: max-age=31536000; includeSubDomains; preload\n",
      "header: transfer-encoding: chunked\n",
      "header: Connection: keep-alive\n"
     ]
    },
    {
     "name": "stderr",
     "output_type": "stream",
     "text": [
      "DEBUG:urllib3.connectionpool:Starting new HTTPS connection (1): catalog.archives.gov:443\n"
     ]
    },
    {
     "name": "stdout",
     "output_type": "stream",
     "text": [
      "send: b'GET /OpaAPI/media/24407615/content/dc-metro/rg-026/585454/0001-A1/Manning-1914/Manning-1914_0008.JPG HTTP/1.1\\r\\nHost: catalog.archives.gov\\r\\nUser-Agent: python-requests/2.22.0\\r\\nAccept-Encoding: gzip, deflate\\r\\nAccept: */*\\r\\nConnection: keep-alive\\r\\n\\r\\n'\n"
     ]
    },
    {
     "name": "stderr",
     "output_type": "stream",
     "text": [
      "DEBUG:urllib3.connectionpool:https://catalog.archives.gov:443 \"GET /OpaAPI/media/24407615/content/dc-metro/rg-026/585454/0001-A1/Manning-1914/Manning-1914_0008.JPG HTTP/1.1\" 200 None\n"
     ]
    },
    {
     "name": "stdout",
     "output_type": "stream",
     "text": [
      "reply: 'HTTP/1.1 200 OK\\r\\n'\n",
      "header: Access-Control-Allow-Credentials: true\n",
      "header: Access-Control-Allow-Methods: DELETE, HEAD, GET, OPTION, POST, PUT\n",
      "header: Access-Control-Expose-Headers: JSESSIONID\n",
      "header: Access-Control-Max-Age: 3600\n",
      "header: BALANCER_NAME: (null)\n",
      "header: BALANCER_ROUTE_CHANGED: 1\n",
      "header: BALANCER_SESSION_ROUTE: (null)\n",
      "header: BALANCER_SESSION_STICKY: (null)\n",
      "header: BALANCER_WORKER_NAME: ajp://pa02.aws.nac.nara.gov:8009/OpaAPI\n",
      "header: BALANCER_WORKER_ROUTE: pa02\n",
      "header: Cache-Control: no-store, no-cache\n",
      "header: Content-Type: image/jpeg;charset=UTF-8\n",
      "header: Date: Mon, 25 Nov 2019 19:02:30 GMT\n",
      "header: hnweb: pw04\n",
      "header: Pragma: no-cache\n",
      "header: Server: Apache\n",
      "header: Strict-Transport-Security: max-age=31536000; includeSubDomains; preload\n",
      "header: transfer-encoding: chunked\n",
      "header: Connection: keep-alive\n"
     ]
    },
    {
     "name": "stderr",
     "output_type": "stream",
     "text": [
      "DEBUG:urllib3.connectionpool:Starting new HTTPS connection (1): catalog.archives.gov:443\n"
     ]
    },
    {
     "name": "stdout",
     "output_type": "stream",
     "text": [
      "send: b'GET /OpaAPI/media/24407615/content/dc-metro/rg-026/585454/0001-A1/Manning-1914/Manning-1914_0009.JPG HTTP/1.1\\r\\nHost: catalog.archives.gov\\r\\nUser-Agent: python-requests/2.22.0\\r\\nAccept-Encoding: gzip, deflate\\r\\nAccept: */*\\r\\nConnection: keep-alive\\r\\n\\r\\n'\n"
     ]
    },
    {
     "name": "stderr",
     "output_type": "stream",
     "text": [
      "DEBUG:urllib3.connectionpool:https://catalog.archives.gov:443 \"GET /OpaAPI/media/24407615/content/dc-metro/rg-026/585454/0001-A1/Manning-1914/Manning-1914_0009.JPG HTTP/1.1\" 200 None\n"
     ]
    },
    {
     "name": "stdout",
     "output_type": "stream",
     "text": [
      "reply: 'HTTP/1.1 200 OK\\r\\n'\n",
      "header: Access-Control-Allow-Credentials: true\n",
      "header: Access-Control-Allow-Methods: DELETE, HEAD, GET, OPTION, POST, PUT\n",
      "header: Access-Control-Expose-Headers: JSESSIONID\n",
      "header: Access-Control-Max-Age: 3600\n",
      "header: BALANCER_NAME: (null)\n",
      "header: BALANCER_ROUTE_CHANGED: 1\n",
      "header: BALANCER_SESSION_ROUTE: (null)\n",
      "header: BALANCER_SESSION_STICKY: (null)\n",
      "header: BALANCER_WORKER_NAME: ajp://pa04.aws.nac.nara.gov:8009/OpaAPI\n",
      "header: BALANCER_WORKER_ROUTE: pa04\n",
      "header: Cache-Control: no-store, no-cache\n",
      "header: Content-Type: image/jpeg;charset=UTF-8\n",
      "header: Date: Mon, 25 Nov 2019 19:02:31 GMT\n",
      "header: hnweb: pw03\n",
      "header: Pragma: no-cache\n",
      "header: Server: Apache/2.4.6 (Red Hat)\n",
      "header: Strict-Transport-Security: max-age=31536000; includeSubDomains; preload\n",
      "header: transfer-encoding: chunked\n",
      "header: Connection: keep-alive\n"
     ]
    },
    {
     "name": "stderr",
     "output_type": "stream",
     "text": [
      "DEBUG:urllib3.connectionpool:Starting new HTTPS connection (1): catalog.archives.gov:443\n"
     ]
    },
    {
     "name": "stdout",
     "output_type": "stream",
     "text": [
      "send: b'GET /OpaAPI/media/24407615/content/dc-metro/rg-026/585454/0001-A1/Manning-1914/Manning-1914_0010.JPG HTTP/1.1\\r\\nHost: catalog.archives.gov\\r\\nUser-Agent: python-requests/2.22.0\\r\\nAccept-Encoding: gzip, deflate\\r\\nAccept: */*\\r\\nConnection: keep-alive\\r\\n\\r\\n'\n"
     ]
    },
    {
     "name": "stderr",
     "output_type": "stream",
     "text": [
      "DEBUG:urllib3.connectionpool:https://catalog.archives.gov:443 \"GET /OpaAPI/media/24407615/content/dc-metro/rg-026/585454/0001-A1/Manning-1914/Manning-1914_0010.JPG HTTP/1.1\" 200 None\n"
     ]
    },
    {
     "name": "stdout",
     "output_type": "stream",
     "text": [
      "reply: 'HTTP/1.1 200 OK\\r\\n'\n",
      "header: Access-Control-Allow-Credentials: true\n",
      "header: Access-Control-Allow-Methods: DELETE, HEAD, GET, OPTION, POST, PUT\n",
      "header: Access-Control-Expose-Headers: JSESSIONID\n",
      "header: Access-Control-Max-Age: 3600\n",
      "header: BALANCER_NAME: (null)\n",
      "header: BALANCER_ROUTE_CHANGED: 1\n",
      "header: BALANCER_SESSION_ROUTE: (null)\n",
      "header: BALANCER_SESSION_STICKY: (null)\n",
      "header: BALANCER_WORKER_NAME: ajp://pa04.aws.nac.nara.gov:8009/OpaAPI\n",
      "header: BALANCER_WORKER_ROUTE: pa04\n",
      "header: Cache-Control: no-store, no-cache\n",
      "header: Content-Type: image/jpeg;charset=UTF-8\n",
      "header: Date: Mon, 25 Nov 2019 19:02:33 GMT\n",
      "header: hnweb: pw03\n",
      "header: Pragma: no-cache\n",
      "header: Server: Apache/2.4.6 (Red Hat)\n",
      "header: Strict-Transport-Security: max-age=31536000; includeSubDomains; preload\n",
      "header: transfer-encoding: chunked\n",
      "header: Connection: keep-alive\n"
     ]
    },
    {
     "name": "stderr",
     "output_type": "stream",
     "text": [
      "DEBUG:urllib3.connectionpool:Starting new HTTPS connection (1): catalog.archives.gov:443\n"
     ]
    },
    {
     "name": "stdout",
     "output_type": "stream",
     "text": [
      "send: b'GET /OpaAPI/media/24407615/content/dc-metro/rg-026/585454/0001-A1/Manning-1914/Manning-1914_0011.JPG HTTP/1.1\\r\\nHost: catalog.archives.gov\\r\\nUser-Agent: python-requests/2.22.0\\r\\nAccept-Encoding: gzip, deflate\\r\\nAccept: */*\\r\\nConnection: keep-alive\\r\\n\\r\\n'\n"
     ]
    },
    {
     "name": "stderr",
     "output_type": "stream",
     "text": [
      "DEBUG:urllib3.connectionpool:https://catalog.archives.gov:443 \"GET /OpaAPI/media/24407615/content/dc-metro/rg-026/585454/0001-A1/Manning-1914/Manning-1914_0011.JPG HTTP/1.1\" 200 None\n"
     ]
    },
    {
     "name": "stdout",
     "output_type": "stream",
     "text": [
      "reply: 'HTTP/1.1 200 OK\\r\\n'\n",
      "header: Access-Control-Allow-Credentials: true\n",
      "header: Access-Control-Allow-Methods: DELETE, HEAD, GET, OPTION, POST, PUT\n",
      "header: Access-Control-Expose-Headers: JSESSIONID\n",
      "header: Access-Control-Max-Age: 3600\n",
      "header: BALANCER_NAME: (null)\n",
      "header: BALANCER_ROUTE_CHANGED: 1\n",
      "header: BALANCER_SESSION_ROUTE: (null)\n",
      "header: BALANCER_SESSION_STICKY: (null)\n",
      "header: BALANCER_WORKER_NAME: ajp://pa03.aws.nac.nara.gov:8009/OpaAPI\n",
      "header: BALANCER_WORKER_ROUTE: pa03\n",
      "header: Cache-Control: no-store, no-cache\n",
      "header: Content-Type: image/jpeg;charset=UTF-8\n",
      "header: Date: Mon, 25 Nov 2019 19:02:34 GMT\n",
      "header: hnweb: pw03\n",
      "header: Pragma: no-cache\n",
      "header: Server: Apache/2.4.6 (Red Hat)\n",
      "header: Strict-Transport-Security: max-age=31536000; includeSubDomains; preload\n",
      "header: transfer-encoding: chunked\n",
      "header: Connection: keep-alive\n"
     ]
    },
    {
     "name": "stderr",
     "output_type": "stream",
     "text": [
      "DEBUG:urllib3.connectionpool:Starting new HTTPS connection (1): catalog.archives.gov:443\n"
     ]
    },
    {
     "name": "stdout",
     "output_type": "stream",
     "text": [
      "send: b'GET /OpaAPI/media/24407615/content/dc-metro/rg-026/585454/0001-A1/Manning-1914/Manning-1914_0012.JPG HTTP/1.1\\r\\nHost: catalog.archives.gov\\r\\nUser-Agent: python-requests/2.22.0\\r\\nAccept-Encoding: gzip, deflate\\r\\nAccept: */*\\r\\nConnection: keep-alive\\r\\n\\r\\n'\n"
     ]
    },
    {
     "name": "stderr",
     "output_type": "stream",
     "text": [
      "DEBUG:urllib3.connectionpool:https://catalog.archives.gov:443 \"GET /OpaAPI/media/24407615/content/dc-metro/rg-026/585454/0001-A1/Manning-1914/Manning-1914_0012.JPG HTTP/1.1\" 200 None\n"
     ]
    },
    {
     "name": "stdout",
     "output_type": "stream",
     "text": [
      "reply: 'HTTP/1.1 200 OK\\r\\n'\n",
      "header: Access-Control-Allow-Credentials: true\n",
      "header: Access-Control-Allow-Methods: DELETE, HEAD, GET, OPTION, POST, PUT\n",
      "header: Access-Control-Expose-Headers: JSESSIONID\n",
      "header: Access-Control-Max-Age: 3600\n",
      "header: BALANCER_NAME: (null)\n",
      "header: BALANCER_ROUTE_CHANGED: 1\n",
      "header: BALANCER_SESSION_ROUTE: (null)\n",
      "header: BALANCER_SESSION_STICKY: (null)\n",
      "header: BALANCER_WORKER_NAME: ajp://pa04.aws.nac.nara.gov:8009/OpaAPI\n",
      "header: BALANCER_WORKER_ROUTE: pa04\n",
      "header: Cache-Control: no-store, no-cache\n",
      "header: Content-Type: image/jpeg;charset=UTF-8\n",
      "header: Date: Mon, 25 Nov 2019 19:02:35 GMT\n",
      "header: hnweb: pw01\n",
      "header: Pragma: no-cache\n",
      "header: Server: Apache/2.4.6 (Red Hat)\n",
      "header: Strict-Transport-Security: max-age=31536000; includeSubDomains; preload\n",
      "header: transfer-encoding: chunked\n",
      "header: Connection: keep-alive\n"
     ]
    },
    {
     "name": "stderr",
     "output_type": "stream",
     "text": [
      "DEBUG:urllib3.connectionpool:Starting new HTTPS connection (1): catalog.archives.gov:443\n"
     ]
    },
    {
     "name": "stdout",
     "output_type": "stream",
     "text": [
      "send: b'GET /OpaAPI/media/24407615/content/dc-metro/rg-026/585454/0001-A1/Manning-1914/Manning-1914_0013.JPG HTTP/1.1\\r\\nHost: catalog.archives.gov\\r\\nUser-Agent: python-requests/2.22.0\\r\\nAccept-Encoding: gzip, deflate\\r\\nAccept: */*\\r\\nConnection: keep-alive\\r\\n\\r\\n'\n"
     ]
    },
    {
     "name": "stderr",
     "output_type": "stream",
     "text": [
      "DEBUG:urllib3.connectionpool:https://catalog.archives.gov:443 \"GET /OpaAPI/media/24407615/content/dc-metro/rg-026/585454/0001-A1/Manning-1914/Manning-1914_0013.JPG HTTP/1.1\" 200 None\n"
     ]
    },
    {
     "name": "stdout",
     "output_type": "stream",
     "text": [
      "reply: 'HTTP/1.1 200 OK\\r\\n'\n",
      "header: Access-Control-Allow-Credentials: true\n",
      "header: Access-Control-Allow-Methods: DELETE, HEAD, GET, OPTION, POST, PUT\n",
      "header: Access-Control-Expose-Headers: JSESSIONID\n",
      "header: Access-Control-Max-Age: 3600\n",
      "header: BALANCER_NAME: (null)\n",
      "header: BALANCER_ROUTE_CHANGED: 1\n",
      "header: BALANCER_SESSION_ROUTE: (null)\n",
      "header: BALANCER_SESSION_STICKY: (null)\n",
      "header: BALANCER_WORKER_NAME: ajp://pa01.aws.nac.nara.gov:8009/OpaAPI\n",
      "header: BALANCER_WORKER_ROUTE: pa01\n",
      "header: Cache-Control: no-store, no-cache\n",
      "header: Content-Type: image/jpeg;charset=UTF-8\n",
      "header: Date: Mon, 25 Nov 2019 19:02:37 GMT\n",
      "header: hnweb: pw01\n",
      "header: Pragma: no-cache\n",
      "header: Server: Apache/2.4.6 (Red Hat)\n",
      "header: Strict-Transport-Security: max-age=31536000; includeSubDomains; preload\n",
      "header: transfer-encoding: chunked\n",
      "header: Connection: keep-alive\n"
     ]
    },
    {
     "name": "stderr",
     "output_type": "stream",
     "text": [
      "DEBUG:urllib3.connectionpool:Starting new HTTPS connection (1): catalog.archives.gov:443\n"
     ]
    },
    {
     "name": "stdout",
     "output_type": "stream",
     "text": [
      "send: b'GET /OpaAPI/media/24407615/content/dc-metro/rg-026/585454/0001-A1/Manning-1914/Manning-1914_0014.JPG HTTP/1.1\\r\\nHost: catalog.archives.gov\\r\\nUser-Agent: python-requests/2.22.0\\r\\nAccept-Encoding: gzip, deflate\\r\\nAccept: */*\\r\\nConnection: keep-alive\\r\\n\\r\\n'\n"
     ]
    },
    {
     "name": "stderr",
     "output_type": "stream",
     "text": [
      "DEBUG:urllib3.connectionpool:https://catalog.archives.gov:443 \"GET /OpaAPI/media/24407615/content/dc-metro/rg-026/585454/0001-A1/Manning-1914/Manning-1914_0014.JPG HTTP/1.1\" 200 None\n"
     ]
    },
    {
     "name": "stdout",
     "output_type": "stream",
     "text": [
      "reply: 'HTTP/1.1 200 OK\\r\\n'\n",
      "header: Access-Control-Allow-Credentials: true\n",
      "header: Access-Control-Allow-Methods: DELETE, HEAD, GET, OPTION, POST, PUT\n",
      "header: Access-Control-Expose-Headers: JSESSIONID\n",
      "header: Access-Control-Max-Age: 3600\n",
      "header: BALANCER_NAME: (null)\n",
      "header: BALANCER_ROUTE_CHANGED: 1\n",
      "header: BALANCER_SESSION_ROUTE: (null)\n",
      "header: BALANCER_SESSION_STICKY: (null)\n",
      "header: BALANCER_WORKER_NAME: ajp://pa01.aws.nac.nara.gov:8009/OpaAPI\n",
      "header: BALANCER_WORKER_ROUTE: pa01\n",
      "header: Cache-Control: no-store, no-cache\n",
      "header: Content-Type: image/jpeg;charset=UTF-8\n",
      "header: Date: Mon, 25 Nov 2019 19:02:38 GMT\n",
      "header: hnweb: pw03\n",
      "header: Pragma: no-cache\n",
      "header: Server: Apache/2.4.6 (Red Hat)\n",
      "header: Strict-Transport-Security: max-age=31536000; includeSubDomains; preload\n",
      "header: transfer-encoding: chunked\n",
      "header: Connection: keep-alive\n"
     ]
    },
    {
     "name": "stderr",
     "output_type": "stream",
     "text": [
      "DEBUG:urllib3.connectionpool:Starting new HTTPS connection (1): catalog.archives.gov:443\n"
     ]
    },
    {
     "name": "stdout",
     "output_type": "stream",
     "text": [
      "send: b'GET /OpaAPI/media/24407615/content/dc-metro/rg-026/585454/0001-A1/Manning-1914/Manning-1914_0015.JPG HTTP/1.1\\r\\nHost: catalog.archives.gov\\r\\nUser-Agent: python-requests/2.22.0\\r\\nAccept-Encoding: gzip, deflate\\r\\nAccept: */*\\r\\nConnection: keep-alive\\r\\n\\r\\n'\n"
     ]
    },
    {
     "name": "stderr",
     "output_type": "stream",
     "text": [
      "DEBUG:urllib3.connectionpool:https://catalog.archives.gov:443 \"GET /OpaAPI/media/24407615/content/dc-metro/rg-026/585454/0001-A1/Manning-1914/Manning-1914_0015.JPG HTTP/1.1\" 200 None\n"
     ]
    },
    {
     "name": "stdout",
     "output_type": "stream",
     "text": [
      "reply: 'HTTP/1.1 200 OK\\r\\n'\n",
      "header: Access-Control-Allow-Credentials: true\n",
      "header: Access-Control-Allow-Methods: DELETE, HEAD, GET, OPTION, POST, PUT\n",
      "header: Access-Control-Expose-Headers: JSESSIONID\n",
      "header: Access-Control-Max-Age: 3600\n",
      "header: BALANCER_NAME: (null)\n",
      "header: BALANCER_ROUTE_CHANGED: 1\n",
      "header: BALANCER_SESSION_ROUTE: (null)\n",
      "header: BALANCER_SESSION_STICKY: (null)\n",
      "header: BALANCER_WORKER_NAME: ajp://pa01.aws.nac.nara.gov:8009/OpaAPI\n",
      "header: BALANCER_WORKER_ROUTE: pa01\n",
      "header: Cache-Control: no-store, no-cache\n",
      "header: Content-Type: image/jpeg;charset=UTF-8\n",
      "header: Date: Mon, 25 Nov 2019 19:02:39 GMT\n",
      "header: hnweb: pw04\n",
      "header: Pragma: no-cache\n",
      "header: Server: Apache\n",
      "header: Strict-Transport-Security: max-age=31536000; includeSubDomains; preload\n",
      "header: transfer-encoding: chunked\n",
      "header: Connection: keep-alive\n"
     ]
    },
    {
     "name": "stderr",
     "output_type": "stream",
     "text": [
      "DEBUG:urllib3.connectionpool:Starting new HTTPS connection (1): catalog.archives.gov:443\n"
     ]
    },
    {
     "name": "stdout",
     "output_type": "stream",
     "text": [
      "send: b'GET /OpaAPI/media/24407615/content/dc-metro/rg-026/585454/0001-A1/Manning-1914/Manning-1914_0016.JPG HTTP/1.1\\r\\nHost: catalog.archives.gov\\r\\nUser-Agent: python-requests/2.22.0\\r\\nAccept-Encoding: gzip, deflate\\r\\nAccept: */*\\r\\nConnection: keep-alive\\r\\n\\r\\n'\n"
     ]
    },
    {
     "name": "stderr",
     "output_type": "stream",
     "text": [
      "DEBUG:urllib3.connectionpool:https://catalog.archives.gov:443 \"GET /OpaAPI/media/24407615/content/dc-metro/rg-026/585454/0001-A1/Manning-1914/Manning-1914_0016.JPG HTTP/1.1\" 200 None\n"
     ]
    },
    {
     "name": "stdout",
     "output_type": "stream",
     "text": [
      "reply: 'HTTP/1.1 200 OK\\r\\n'\n",
      "header: Access-Control-Allow-Credentials: true\n",
      "header: Access-Control-Allow-Methods: DELETE, HEAD, GET, OPTION, POST, PUT\n",
      "header: Access-Control-Expose-Headers: JSESSIONID\n",
      "header: Access-Control-Max-Age: 3600\n",
      "header: BALANCER_NAME: (null)\n",
      "header: BALANCER_ROUTE_CHANGED: 1\n",
      "header: BALANCER_SESSION_ROUTE: (null)\n",
      "header: BALANCER_SESSION_STICKY: (null)\n",
      "header: BALANCER_WORKER_NAME: ajp://pa01.aws.nac.nara.gov:8009/OpaAPI\n",
      "header: BALANCER_WORKER_ROUTE: pa01\n",
      "header: Cache-Control: no-store, no-cache\n",
      "header: Content-Type: image/jpeg;charset=UTF-8\n",
      "header: Date: Mon, 25 Nov 2019 19:02:42 GMT\n",
      "header: hnweb: pw01\n",
      "header: Pragma: no-cache\n",
      "header: Server: Apache/2.4.6 (Red Hat)\n",
      "header: Strict-Transport-Security: max-age=31536000; includeSubDomains; preload\n",
      "header: transfer-encoding: chunked\n",
      "header: Connection: keep-alive\n"
     ]
    },
    {
     "name": "stderr",
     "output_type": "stream",
     "text": [
      "DEBUG:urllib3.connectionpool:Starting new HTTPS connection (1): catalog.archives.gov:443\n"
     ]
    },
    {
     "name": "stdout",
     "output_type": "stream",
     "text": [
      "send: b'GET /OpaAPI/media/24407615/content/dc-metro/rg-026/585454/0001-A1/Manning-1914/Manning-1914_0017.JPG HTTP/1.1\\r\\nHost: catalog.archives.gov\\r\\nUser-Agent: python-requests/2.22.0\\r\\nAccept-Encoding: gzip, deflate\\r\\nAccept: */*\\r\\nConnection: keep-alive\\r\\n\\r\\n'\n"
     ]
    },
    {
     "name": "stderr",
     "output_type": "stream",
     "text": [
      "DEBUG:urllib3.connectionpool:https://catalog.archives.gov:443 \"GET /OpaAPI/media/24407615/content/dc-metro/rg-026/585454/0001-A1/Manning-1914/Manning-1914_0017.JPG HTTP/1.1\" 200 None\n"
     ]
    },
    {
     "name": "stdout",
     "output_type": "stream",
     "text": [
      "reply: 'HTTP/1.1 200 OK\\r\\n'\n",
      "header: Access-Control-Allow-Credentials: true\n",
      "header: Access-Control-Allow-Methods: DELETE, HEAD, GET, OPTION, POST, PUT\n",
      "header: Access-Control-Expose-Headers: JSESSIONID\n",
      "header: Access-Control-Max-Age: 3600\n",
      "header: BALANCER_NAME: (null)\n",
      "header: BALANCER_ROUTE_CHANGED: 1\n",
      "header: BALANCER_SESSION_ROUTE: (null)\n",
      "header: BALANCER_SESSION_STICKY: (null)\n",
      "header: BALANCER_WORKER_NAME: ajp://pa01.aws.nac.nara.gov:8009/OpaAPI\n",
      "header: BALANCER_WORKER_ROUTE: pa01\n",
      "header: Cache-Control: no-store, no-cache\n",
      "header: Content-Type: image/jpeg;charset=UTF-8\n",
      "header: Date: Mon, 25 Nov 2019 19:02:43 GMT\n",
      "header: hnweb: pw02\n",
      "header: Pragma: no-cache\n",
      "header: Server: Apache\n",
      "header: Strict-Transport-Security: max-age=31536000; includeSubDomains; preload\n",
      "header: transfer-encoding: chunked\n",
      "header: Connection: keep-alive\n"
     ]
    },
    {
     "name": "stderr",
     "output_type": "stream",
     "text": [
      "DEBUG:urllib3.connectionpool:Starting new HTTPS connection (1): catalog.archives.gov:443\n"
     ]
    },
    {
     "name": "stdout",
     "output_type": "stream",
     "text": [
      "send: b'GET /OpaAPI/media/24407615/content/dc-metro/rg-026/585454/0001-A1/Manning-1914/Manning-1914_0018.JPG HTTP/1.1\\r\\nHost: catalog.archives.gov\\r\\nUser-Agent: python-requests/2.22.0\\r\\nAccept-Encoding: gzip, deflate\\r\\nAccept: */*\\r\\nConnection: keep-alive\\r\\n\\r\\n'\n"
     ]
    },
    {
     "name": "stderr",
     "output_type": "stream",
     "text": [
      "DEBUG:urllib3.connectionpool:https://catalog.archives.gov:443 \"GET /OpaAPI/media/24407615/content/dc-metro/rg-026/585454/0001-A1/Manning-1914/Manning-1914_0018.JPG HTTP/1.1\" 200 None\n"
     ]
    },
    {
     "name": "stdout",
     "output_type": "stream",
     "text": [
      "reply: 'HTTP/1.1 200 OK\\r\\n'\n",
      "header: Access-Control-Allow-Credentials: true\n",
      "header: Access-Control-Allow-Methods: DELETE, HEAD, GET, OPTION, POST, PUT\n",
      "header: Access-Control-Expose-Headers: JSESSIONID\n",
      "header: Access-Control-Max-Age: 3600\n",
      "header: BALANCER_NAME: (null)\n",
      "header: BALANCER_ROUTE_CHANGED: 1\n",
      "header: BALANCER_SESSION_ROUTE: (null)\n",
      "header: BALANCER_SESSION_STICKY: (null)\n",
      "header: BALANCER_WORKER_NAME: ajp://pa01.aws.nac.nara.gov:8009/OpaAPI\n",
      "header: BALANCER_WORKER_ROUTE: pa01\n",
      "header: Cache-Control: no-store, no-cache\n",
      "header: Content-Type: image/jpeg;charset=UTF-8\n",
      "header: Date: Mon, 25 Nov 2019 19:02:45 GMT\n",
      "header: hnweb: pw01\n",
      "header: Pragma: no-cache\n",
      "header: Server: Apache/2.4.6 (Red Hat)\n",
      "header: Strict-Transport-Security: max-age=31536000; includeSubDomains; preload\n",
      "header: transfer-encoding: chunked\n",
      "header: Connection: keep-alive\n"
     ]
    },
    {
     "name": "stderr",
     "output_type": "stream",
     "text": [
      "DEBUG:urllib3.connectionpool:Starting new HTTPS connection (1): catalog.archives.gov:443\n"
     ]
    },
    {
     "name": "stdout",
     "output_type": "stream",
     "text": [
      "send: b'GET /OpaAPI/media/24407615/content/dc-metro/rg-026/585454/0001-A1/Manning-1914/Manning-1914_0019.JPG HTTP/1.1\\r\\nHost: catalog.archives.gov\\r\\nUser-Agent: python-requests/2.22.0\\r\\nAccept-Encoding: gzip, deflate\\r\\nAccept: */*\\r\\nConnection: keep-alive\\r\\n\\r\\n'\n"
     ]
    },
    {
     "name": "stderr",
     "output_type": "stream",
     "text": [
      "DEBUG:urllib3.connectionpool:https://catalog.archives.gov:443 \"GET /OpaAPI/media/24407615/content/dc-metro/rg-026/585454/0001-A1/Manning-1914/Manning-1914_0019.JPG HTTP/1.1\" 200 None\n"
     ]
    },
    {
     "name": "stdout",
     "output_type": "stream",
     "text": [
      "reply: 'HTTP/1.1 200 OK\\r\\n'\n",
      "header: Access-Control-Allow-Credentials: true\n",
      "header: Access-Control-Allow-Methods: DELETE, HEAD, GET, OPTION, POST, PUT\n",
      "header: Access-Control-Expose-Headers: JSESSIONID\n",
      "header: Access-Control-Max-Age: 3600\n",
      "header: BALANCER_NAME: (null)\n",
      "header: BALANCER_ROUTE_CHANGED: 1\n",
      "header: BALANCER_SESSION_ROUTE: (null)\n",
      "header: BALANCER_SESSION_STICKY: (null)\n",
      "header: BALANCER_WORKER_NAME: ajp://pa01.aws.nac.nara.gov:8009/OpaAPI\n",
      "header: BALANCER_WORKER_ROUTE: pa01\n",
      "header: Cache-Control: no-store, no-cache\n",
      "header: Content-Type: image/jpeg;charset=UTF-8\n",
      "header: Date: Mon, 25 Nov 2019 19:02:47 GMT\n",
      "header: hnweb: pw03\n",
      "header: Pragma: no-cache\n",
      "header: Server: Apache/2.4.6 (Red Hat)\n",
      "header: Strict-Transport-Security: max-age=31536000; includeSubDomains; preload\n",
      "header: transfer-encoding: chunked\n",
      "header: Connection: keep-alive\n"
     ]
    },
    {
     "name": "stderr",
     "output_type": "stream",
     "text": [
      "DEBUG:urllib3.connectionpool:Starting new HTTPS connection (1): catalog.archives.gov:443\n"
     ]
    },
    {
     "name": "stdout",
     "output_type": "stream",
     "text": [
      "send: b'GET /OpaAPI/media/24407615/content/dc-metro/rg-026/585454/0001-A1/Manning-1914/Manning-1914_0020.JPG HTTP/1.1\\r\\nHost: catalog.archives.gov\\r\\nUser-Agent: python-requests/2.22.0\\r\\nAccept-Encoding: gzip, deflate\\r\\nAccept: */*\\r\\nConnection: keep-alive\\r\\n\\r\\n'\n"
     ]
    },
    {
     "name": "stderr",
     "output_type": "stream",
     "text": [
      "DEBUG:urllib3.connectionpool:https://catalog.archives.gov:443 \"GET /OpaAPI/media/24407615/content/dc-metro/rg-026/585454/0001-A1/Manning-1914/Manning-1914_0020.JPG HTTP/1.1\" 200 None\n"
     ]
    },
    {
     "name": "stdout",
     "output_type": "stream",
     "text": [
      "reply: 'HTTP/1.1 200 OK\\r\\n'\n",
      "header: Access-Control-Allow-Credentials: true\n",
      "header: Access-Control-Allow-Methods: DELETE, HEAD, GET, OPTION, POST, PUT\n",
      "header: Access-Control-Expose-Headers: JSESSIONID\n",
      "header: Access-Control-Max-Age: 3600\n",
      "header: BALANCER_NAME: (null)\n",
      "header: BALANCER_ROUTE_CHANGED: 1\n",
      "header: BALANCER_SESSION_ROUTE: (null)\n",
      "header: BALANCER_SESSION_STICKY: (null)\n",
      "header: BALANCER_WORKER_NAME: ajp://pa01.aws.nac.nara.gov:8009/OpaAPI\n",
      "header: BALANCER_WORKER_ROUTE: pa01\n",
      "header: Cache-Control: no-store, no-cache\n",
      "header: Content-Type: image/jpeg;charset=UTF-8\n",
      "header: Date: Mon, 25 Nov 2019 19:02:48 GMT\n",
      "header: hnweb: pw02\n",
      "header: Pragma: no-cache\n",
      "header: Server: Apache\n",
      "header: Strict-Transport-Security: max-age=31536000; includeSubDomains; preload\n",
      "header: transfer-encoding: chunked\n",
      "header: Connection: keep-alive\n"
     ]
    },
    {
     "name": "stderr",
     "output_type": "stream",
     "text": [
      "DEBUG:urllib3.connectionpool:Starting new HTTPS connection (1): catalog.archives.gov:443\n"
     ]
    },
    {
     "name": "stdout",
     "output_type": "stream",
     "text": [
      "send: b'GET /OpaAPI/media/24407615/content/dc-metro/rg-026/585454/0001-A1/Manning-1914/Manning-1914_0021.JPG HTTP/1.1\\r\\nHost: catalog.archives.gov\\r\\nUser-Agent: python-requests/2.22.0\\r\\nAccept-Encoding: gzip, deflate\\r\\nAccept: */*\\r\\nConnection: keep-alive\\r\\n\\r\\n'\n"
     ]
    },
    {
     "name": "stderr",
     "output_type": "stream",
     "text": [
      "DEBUG:urllib3.connectionpool:https://catalog.archives.gov:443 \"GET /OpaAPI/media/24407615/content/dc-metro/rg-026/585454/0001-A1/Manning-1914/Manning-1914_0021.JPG HTTP/1.1\" 200 None\n"
     ]
    },
    {
     "name": "stdout",
     "output_type": "stream",
     "text": [
      "reply: 'HTTP/1.1 200 OK\\r\\n'\n",
      "header: Access-Control-Allow-Credentials: true\n",
      "header: Access-Control-Allow-Methods: DELETE, HEAD, GET, OPTION, POST, PUT\n",
      "header: Access-Control-Expose-Headers: JSESSIONID\n",
      "header: Access-Control-Max-Age: 3600\n",
      "header: BALANCER_NAME: (null)\n",
      "header: BALANCER_ROUTE_CHANGED: 1\n",
      "header: BALANCER_SESSION_ROUTE: (null)\n",
      "header: BALANCER_SESSION_STICKY: (null)\n",
      "header: BALANCER_WORKER_NAME: ajp://pa01.aws.nac.nara.gov:8009/OpaAPI\n",
      "header: BALANCER_WORKER_ROUTE: pa01\n",
      "header: Cache-Control: no-store, no-cache\n",
      "header: Content-Type: image/jpeg;charset=UTF-8\n",
      "header: Date: Mon, 25 Nov 2019 19:02:50 GMT\n",
      "header: hnweb: pw04\n",
      "header: Pragma: no-cache\n",
      "header: Server: Apache\n",
      "header: Strict-Transport-Security: max-age=31536000; includeSubDomains; preload\n",
      "header: transfer-encoding: chunked\n",
      "header: Connection: keep-alive\n"
     ]
    },
    {
     "name": "stderr",
     "output_type": "stream",
     "text": [
      "DEBUG:urllib3.connectionpool:Starting new HTTPS connection (1): catalog.archives.gov:443\n"
     ]
    },
    {
     "name": "stdout",
     "output_type": "stream",
     "text": [
      "send: b'GET /OpaAPI/media/24407615/content/dc-metro/rg-026/585454/0001-A1/Manning-1914/Manning-1914_0022.JPG HTTP/1.1\\r\\nHost: catalog.archives.gov\\r\\nUser-Agent: python-requests/2.22.0\\r\\nAccept-Encoding: gzip, deflate\\r\\nAccept: */*\\r\\nConnection: keep-alive\\r\\n\\r\\n'\n"
     ]
    },
    {
     "name": "stderr",
     "output_type": "stream",
     "text": [
      "DEBUG:urllib3.connectionpool:https://catalog.archives.gov:443 \"GET /OpaAPI/media/24407615/content/dc-metro/rg-026/585454/0001-A1/Manning-1914/Manning-1914_0022.JPG HTTP/1.1\" 200 None\n"
     ]
    },
    {
     "name": "stdout",
     "output_type": "stream",
     "text": [
      "reply: 'HTTP/1.1 200 OK\\r\\n'\n",
      "header: Access-Control-Allow-Credentials: true\n",
      "header: Access-Control-Allow-Methods: DELETE, HEAD, GET, OPTION, POST, PUT\n",
      "header: Access-Control-Expose-Headers: JSESSIONID\n",
      "header: Access-Control-Max-Age: 3600\n",
      "header: BALANCER_NAME: (null)\n",
      "header: BALANCER_ROUTE_CHANGED: 1\n",
      "header: BALANCER_SESSION_ROUTE: (null)\n",
      "header: BALANCER_SESSION_STICKY: (null)\n",
      "header: BALANCER_WORKER_NAME: ajp://pa01.aws.nac.nara.gov:8009/OpaAPI\n",
      "header: BALANCER_WORKER_ROUTE: pa01\n",
      "header: Cache-Control: no-store, no-cache\n",
      "header: Content-Type: image/jpeg;charset=UTF-8\n",
      "header: Date: Mon, 25 Nov 2019 19:02:51 GMT\n",
      "header: hnweb: pw02\n",
      "header: Pragma: no-cache\n",
      "header: Server: Apache\n",
      "header: Strict-Transport-Security: max-age=31536000; includeSubDomains; preload\n",
      "header: transfer-encoding: chunked\n",
      "header: Connection: keep-alive\n"
     ]
    },
    {
     "name": "stderr",
     "output_type": "stream",
     "text": [
      "DEBUG:urllib3.connectionpool:Starting new HTTPS connection (1): catalog.archives.gov:443\n"
     ]
    },
    {
     "name": "stdout",
     "output_type": "stream",
     "text": [
      "send: b'GET /OpaAPI/media/24407615/content/dc-metro/rg-026/585454/0001-A1/Manning-1914/Manning-1914_0023.JPG HTTP/1.1\\r\\nHost: catalog.archives.gov\\r\\nUser-Agent: python-requests/2.22.0\\r\\nAccept-Encoding: gzip, deflate\\r\\nAccept: */*\\r\\nConnection: keep-alive\\r\\n\\r\\n'\n"
     ]
    },
    {
     "name": "stderr",
     "output_type": "stream",
     "text": [
      "DEBUG:urllib3.connectionpool:https://catalog.archives.gov:443 \"GET /OpaAPI/media/24407615/content/dc-metro/rg-026/585454/0001-A1/Manning-1914/Manning-1914_0023.JPG HTTP/1.1\" 200 None\n"
     ]
    },
    {
     "name": "stdout",
     "output_type": "stream",
     "text": [
      "reply: 'HTTP/1.1 200 OK\\r\\n'\n",
      "header: Access-Control-Allow-Credentials: true\n",
      "header: Access-Control-Allow-Methods: DELETE, HEAD, GET, OPTION, POST, PUT\n",
      "header: Access-Control-Expose-Headers: JSESSIONID\n",
      "header: Access-Control-Max-Age: 3600\n",
      "header: BALANCER_NAME: (null)\n",
      "header: BALANCER_ROUTE_CHANGED: 1\n",
      "header: BALANCER_SESSION_ROUTE: (null)\n",
      "header: BALANCER_SESSION_STICKY: (null)\n",
      "header: BALANCER_WORKER_NAME: ajp://pa01.aws.nac.nara.gov:8009/OpaAPI\n",
      "header: BALANCER_WORKER_ROUTE: pa01\n",
      "header: Cache-Control: no-store, no-cache\n",
      "header: Content-Type: image/jpeg;charset=UTF-8\n",
      "header: Date: Mon, 25 Nov 2019 19:02:52 GMT\n",
      "header: hnweb: pw04\n",
      "header: Pragma: no-cache\n",
      "header: Server: Apache\n",
      "header: Strict-Transport-Security: max-age=31536000; includeSubDomains; preload\n",
      "header: transfer-encoding: chunked\n",
      "header: Connection: keep-alive\n"
     ]
    },
    {
     "name": "stderr",
     "output_type": "stream",
     "text": [
      "DEBUG:urllib3.connectionpool:Starting new HTTPS connection (1): catalog.archives.gov:443\n"
     ]
    },
    {
     "name": "stdout",
     "output_type": "stream",
     "text": [
      "send: b'GET /OpaAPI/media/24407615/content/dc-metro/rg-026/585454/0001-A1/Manning-1914/Manning-1914_0024.JPG HTTP/1.1\\r\\nHost: catalog.archives.gov\\r\\nUser-Agent: python-requests/2.22.0\\r\\nAccept-Encoding: gzip, deflate\\r\\nAccept: */*\\r\\nConnection: keep-alive\\r\\n\\r\\n'\n"
     ]
    },
    {
     "name": "stderr",
     "output_type": "stream",
     "text": [
      "DEBUG:urllib3.connectionpool:https://catalog.archives.gov:443 \"GET /OpaAPI/media/24407615/content/dc-metro/rg-026/585454/0001-A1/Manning-1914/Manning-1914_0024.JPG HTTP/1.1\" 200 None\n"
     ]
    },
    {
     "name": "stdout",
     "output_type": "stream",
     "text": [
      "reply: 'HTTP/1.1 200 OK\\r\\n'\n",
      "header: Access-Control-Allow-Credentials: true\n",
      "header: Access-Control-Allow-Methods: DELETE, HEAD, GET, OPTION, POST, PUT\n",
      "header: Access-Control-Expose-Headers: JSESSIONID\n",
      "header: Access-Control-Max-Age: 3600\n",
      "header: BALANCER_NAME: (null)\n",
      "header: BALANCER_ROUTE_CHANGED: 1\n",
      "header: BALANCER_SESSION_ROUTE: (null)\n",
      "header: BALANCER_SESSION_STICKY: (null)\n",
      "header: BALANCER_WORKER_NAME: ajp://pa03.aws.nac.nara.gov:8009/OpaAPI\n",
      "header: BALANCER_WORKER_ROUTE: pa03\n",
      "header: Cache-Control: no-store, no-cache\n",
      "header: Content-Type: image/jpeg;charset=UTF-8\n",
      "header: Date: Mon, 25 Nov 2019 19:02:54 GMT\n",
      "header: hnweb: pw01\n",
      "header: Pragma: no-cache\n",
      "header: Server: Apache/2.4.6 (Red Hat)\n",
      "header: Strict-Transport-Security: max-age=31536000; includeSubDomains; preload\n",
      "header: transfer-encoding: chunked\n",
      "header: Connection: keep-alive\n"
     ]
    },
    {
     "name": "stderr",
     "output_type": "stream",
     "text": [
      "DEBUG:urllib3.connectionpool:Starting new HTTPS connection (1): catalog.archives.gov:443\n"
     ]
    },
    {
     "name": "stdout",
     "output_type": "stream",
     "text": [
      "send: b'GET /OpaAPI/media/24407615/content/dc-metro/rg-026/585454/0001-A1/Manning-1914/Manning-1914_0025.JPG HTTP/1.1\\r\\nHost: catalog.archives.gov\\r\\nUser-Agent: python-requests/2.22.0\\r\\nAccept-Encoding: gzip, deflate\\r\\nAccept: */*\\r\\nConnection: keep-alive\\r\\n\\r\\n'\n"
     ]
    },
    {
     "name": "stderr",
     "output_type": "stream",
     "text": [
      "DEBUG:urllib3.connectionpool:https://catalog.archives.gov:443 \"GET /OpaAPI/media/24407615/content/dc-metro/rg-026/585454/0001-A1/Manning-1914/Manning-1914_0025.JPG HTTP/1.1\" 200 None\n"
     ]
    },
    {
     "name": "stdout",
     "output_type": "stream",
     "text": [
      "reply: 'HTTP/1.1 200 OK\\r\\n'\n",
      "header: Access-Control-Allow-Credentials: true\n",
      "header: Access-Control-Allow-Methods: DELETE, HEAD, GET, OPTION, POST, PUT\n",
      "header: Access-Control-Expose-Headers: JSESSIONID\n",
      "header: Access-Control-Max-Age: 3600\n",
      "header: BALANCER_NAME: (null)\n",
      "header: BALANCER_ROUTE_CHANGED: 1\n",
      "header: BALANCER_SESSION_ROUTE: (null)\n",
      "header: BALANCER_SESSION_STICKY: (null)\n",
      "header: BALANCER_WORKER_NAME: ajp://pa01.aws.nac.nara.gov:8009/OpaAPI\n",
      "header: BALANCER_WORKER_ROUTE: pa01\n",
      "header: Cache-Control: no-store, no-cache\n",
      "header: Content-Type: image/jpeg;charset=UTF-8\n",
      "header: Date: Mon, 25 Nov 2019 19:02:55 GMT\n",
      "header: hnweb: pw03\n",
      "header: Pragma: no-cache\n",
      "header: Server: Apache/2.4.6 (Red Hat)\n",
      "header: Strict-Transport-Security: max-age=31536000; includeSubDomains; preload\n",
      "header: transfer-encoding: chunked\n",
      "header: Connection: keep-alive\n"
     ]
    },
    {
     "name": "stderr",
     "output_type": "stream",
     "text": [
      "DEBUG:urllib3.connectionpool:Starting new HTTPS connection (1): catalog.archives.gov:443\n"
     ]
    },
    {
     "name": "stdout",
     "output_type": "stream",
     "text": [
      "send: b'GET /OpaAPI/media/24407615/content/dc-metro/rg-026/585454/0001-A1/Manning-1914/Manning-1914_0026.JPG HTTP/1.1\\r\\nHost: catalog.archives.gov\\r\\nUser-Agent: python-requests/2.22.0\\r\\nAccept-Encoding: gzip, deflate\\r\\nAccept: */*\\r\\nConnection: keep-alive\\r\\n\\r\\n'\n"
     ]
    },
    {
     "name": "stderr",
     "output_type": "stream",
     "text": [
      "DEBUG:urllib3.connectionpool:https://catalog.archives.gov:443 \"GET /OpaAPI/media/24407615/content/dc-metro/rg-026/585454/0001-A1/Manning-1914/Manning-1914_0026.JPG HTTP/1.1\" 200 None\n"
     ]
    },
    {
     "name": "stdout",
     "output_type": "stream",
     "text": [
      "reply: 'HTTP/1.1 200 OK\\r\\n'\n",
      "header: Access-Control-Allow-Credentials: true\n",
      "header: Access-Control-Allow-Methods: DELETE, HEAD, GET, OPTION, POST, PUT\n",
      "header: Access-Control-Expose-Headers: JSESSIONID\n",
      "header: Access-Control-Max-Age: 3600\n",
      "header: BALANCER_NAME: (null)\n",
      "header: BALANCER_ROUTE_CHANGED: 1\n",
      "header: BALANCER_SESSION_ROUTE: (null)\n",
      "header: BALANCER_SESSION_STICKY: (null)\n",
      "header: BALANCER_WORKER_NAME: ajp://pa01.aws.nac.nara.gov:8009/OpaAPI\n",
      "header: BALANCER_WORKER_ROUTE: pa01\n",
      "header: Cache-Control: no-store, no-cache\n",
      "header: Content-Type: image/jpeg;charset=UTF-8\n",
      "header: Date: Mon, 25 Nov 2019 19:02:57 GMT\n",
      "header: hnweb: pw03\n",
      "header: Pragma: no-cache\n",
      "header: Server: Apache/2.4.6 (Red Hat)\n",
      "header: Strict-Transport-Security: max-age=31536000; includeSubDomains; preload\n",
      "header: transfer-encoding: chunked\n",
      "header: Connection: keep-alive\n"
     ]
    },
    {
     "name": "stderr",
     "output_type": "stream",
     "text": [
      "DEBUG:urllib3.connectionpool:Starting new HTTPS connection (1): catalog.archives.gov:443\n"
     ]
    },
    {
     "name": "stdout",
     "output_type": "stream",
     "text": [
      "send: b'GET /OpaAPI/media/24407615/content/dc-metro/rg-026/585454/0001-A1/Manning-1914/Manning-1914_0027.JPG HTTP/1.1\\r\\nHost: catalog.archives.gov\\r\\nUser-Agent: python-requests/2.22.0\\r\\nAccept-Encoding: gzip, deflate\\r\\nAccept: */*\\r\\nConnection: keep-alive\\r\\n\\r\\n'\n"
     ]
    },
    {
     "name": "stderr",
     "output_type": "stream",
     "text": [
      "DEBUG:urllib3.connectionpool:https://catalog.archives.gov:443 \"GET /OpaAPI/media/24407615/content/dc-metro/rg-026/585454/0001-A1/Manning-1914/Manning-1914_0027.JPG HTTP/1.1\" 200 None\n"
     ]
    },
    {
     "name": "stdout",
     "output_type": "stream",
     "text": [
      "reply: 'HTTP/1.1 200 OK\\r\\n'\n",
      "header: Access-Control-Allow-Credentials: true\n",
      "header: Access-Control-Allow-Methods: DELETE, HEAD, GET, OPTION, POST, PUT\n",
      "header: Access-Control-Expose-Headers: JSESSIONID\n",
      "header: Access-Control-Max-Age: 3600\n",
      "header: BALANCER_NAME: (null)\n",
      "header: BALANCER_ROUTE_CHANGED: 1\n",
      "header: BALANCER_SESSION_ROUTE: (null)\n",
      "header: BALANCER_SESSION_STICKY: (null)\n",
      "header: BALANCER_WORKER_NAME: ajp://pa03.aws.nac.nara.gov:8009/OpaAPI\n",
      "header: BALANCER_WORKER_ROUTE: pa03\n",
      "header: Cache-Control: no-store, no-cache\n",
      "header: Content-Type: image/jpeg;charset=UTF-8\n",
      "header: Date: Mon, 25 Nov 2019 19:02:58 GMT\n",
      "header: hnweb: pw01\n",
      "header: Pragma: no-cache\n",
      "header: Server: Apache/2.4.6 (Red Hat)\n",
      "header: Strict-Transport-Security: max-age=31536000; includeSubDomains; preload\n",
      "header: transfer-encoding: chunked\n",
      "header: Connection: keep-alive\n"
     ]
    },
    {
     "name": "stderr",
     "output_type": "stream",
     "text": [
      "DEBUG:urllib3.connectionpool:Starting new HTTPS connection (1): catalog.archives.gov:443\n"
     ]
    },
    {
     "name": "stdout",
     "output_type": "stream",
     "text": [
      "send: b'GET /OpaAPI/media/24407615/content/dc-metro/rg-026/585454/0001-A1/Manning-1914/Manning-1914_0028.JPG HTTP/1.1\\r\\nHost: catalog.archives.gov\\r\\nUser-Agent: python-requests/2.22.0\\r\\nAccept-Encoding: gzip, deflate\\r\\nAccept: */*\\r\\nConnection: keep-alive\\r\\n\\r\\n'\n"
     ]
    },
    {
     "name": "stderr",
     "output_type": "stream",
     "text": [
      "DEBUG:urllib3.connectionpool:https://catalog.archives.gov:443 \"GET /OpaAPI/media/24407615/content/dc-metro/rg-026/585454/0001-A1/Manning-1914/Manning-1914_0028.JPG HTTP/1.1\" 200 None\n"
     ]
    },
    {
     "name": "stdout",
     "output_type": "stream",
     "text": [
      "reply: 'HTTP/1.1 200 OK\\r\\n'\n",
      "header: Access-Control-Allow-Credentials: true\n",
      "header: Access-Control-Allow-Methods: DELETE, HEAD, GET, OPTION, POST, PUT\n",
      "header: Access-Control-Expose-Headers: JSESSIONID\n",
      "header: Access-Control-Max-Age: 3600\n",
      "header: BALANCER_NAME: (null)\n",
      "header: BALANCER_ROUTE_CHANGED: 1\n",
      "header: BALANCER_SESSION_ROUTE: (null)\n",
      "header: BALANCER_SESSION_STICKY: (null)\n",
      "header: BALANCER_WORKER_NAME: ajp://pa01.aws.nac.nara.gov:8009/OpaAPI\n",
      "header: BALANCER_WORKER_ROUTE: pa01\n",
      "header: Cache-Control: no-store, no-cache\n",
      "header: Content-Type: image/jpeg;charset=UTF-8\n",
      "header: Date: Mon, 25 Nov 2019 19:02:59 GMT\n",
      "header: hnweb: pw01\n",
      "header: Pragma: no-cache\n",
      "header: Server: Apache/2.4.6 (Red Hat)\n",
      "header: Strict-Transport-Security: max-age=31536000; includeSubDomains; preload\n",
      "header: transfer-encoding: chunked\n",
      "header: Connection: keep-alive\n"
     ]
    },
    {
     "name": "stderr",
     "output_type": "stream",
     "text": [
      "DEBUG:urllib3.connectionpool:Starting new HTTPS connection (1): catalog.archives.gov:443\n"
     ]
    },
    {
     "name": "stdout",
     "output_type": "stream",
     "text": [
      "send: b'GET /OpaAPI/media/24407615/content/dc-metro/rg-026/585454/0001-A1/Manning-1914/Manning-1914_0029.JPG HTTP/1.1\\r\\nHost: catalog.archives.gov\\r\\nUser-Agent: python-requests/2.22.0\\r\\nAccept-Encoding: gzip, deflate\\r\\nAccept: */*\\r\\nConnection: keep-alive\\r\\n\\r\\n'\n"
     ]
    },
    {
     "name": "stderr",
     "output_type": "stream",
     "text": [
      "DEBUG:urllib3.connectionpool:https://catalog.archives.gov:443 \"GET /OpaAPI/media/24407615/content/dc-metro/rg-026/585454/0001-A1/Manning-1914/Manning-1914_0029.JPG HTTP/1.1\" 200 None\n"
     ]
    },
    {
     "name": "stdout",
     "output_type": "stream",
     "text": [
      "reply: 'HTTP/1.1 200 OK\\r\\n'\n",
      "header: Access-Control-Allow-Credentials: true\n",
      "header: Access-Control-Allow-Methods: DELETE, HEAD, GET, OPTION, POST, PUT\n",
      "header: Access-Control-Expose-Headers: JSESSIONID\n",
      "header: Access-Control-Max-Age: 3600\n",
      "header: BALANCER_NAME: (null)\n",
      "header: BALANCER_ROUTE_CHANGED: 1\n",
      "header: BALANCER_SESSION_ROUTE: (null)\n",
      "header: BALANCER_SESSION_STICKY: (null)\n",
      "header: BALANCER_WORKER_NAME: ajp://pa01.aws.nac.nara.gov:8009/OpaAPI\n",
      "header: BALANCER_WORKER_ROUTE: pa01\n",
      "header: Cache-Control: no-store, no-cache\n",
      "header: Content-Type: image/jpeg;charset=UTF-8\n",
      "header: Date: Mon, 25 Nov 2019 19:03:00 GMT\n",
      "header: hnweb: pw03\n",
      "header: Pragma: no-cache\n",
      "header: Server: Apache/2.4.6 (Red Hat)\n",
      "header: Strict-Transport-Security: max-age=31536000; includeSubDomains; preload\n",
      "header: transfer-encoding: chunked\n",
      "header: Connection: keep-alive\n"
     ]
    },
    {
     "name": "stderr",
     "output_type": "stream",
     "text": [
      "DEBUG:urllib3.connectionpool:Starting new HTTPS connection (1): catalog.archives.gov:443\n"
     ]
    },
    {
     "name": "stdout",
     "output_type": "stream",
     "text": [
      "send: b'GET /OpaAPI/media/24407615/content/dc-metro/rg-026/585454/0001-A1/Manning-1914/Manning-1914_0030.JPG HTTP/1.1\\r\\nHost: catalog.archives.gov\\r\\nUser-Agent: python-requests/2.22.0\\r\\nAccept-Encoding: gzip, deflate\\r\\nAccept: */*\\r\\nConnection: keep-alive\\r\\n\\r\\n'\n"
     ]
    },
    {
     "name": "stderr",
     "output_type": "stream",
     "text": [
      "DEBUG:urllib3.connectionpool:https://catalog.archives.gov:443 \"GET /OpaAPI/media/24407615/content/dc-metro/rg-026/585454/0001-A1/Manning-1914/Manning-1914_0030.JPG HTTP/1.1\" 200 None\n"
     ]
    },
    {
     "name": "stdout",
     "output_type": "stream",
     "text": [
      "reply: 'HTTP/1.1 200 OK\\r\\n'\n",
      "header: Access-Control-Allow-Credentials: true\n",
      "header: Access-Control-Allow-Methods: DELETE, HEAD, GET, OPTION, POST, PUT\n",
      "header: Access-Control-Expose-Headers: JSESSIONID\n",
      "header: Access-Control-Max-Age: 3600\n",
      "header: BALANCER_NAME: (null)\n",
      "header: BALANCER_ROUTE_CHANGED: 1\n",
      "header: BALANCER_SESSION_ROUTE: (null)\n",
      "header: BALANCER_SESSION_STICKY: (null)\n",
      "header: BALANCER_WORKER_NAME: ajp://pa01.aws.nac.nara.gov:8009/OpaAPI\n",
      "header: BALANCER_WORKER_ROUTE: pa01\n",
      "header: Cache-Control: no-store, no-cache\n",
      "header: Content-Type: image/jpeg;charset=UTF-8\n",
      "header: Date: Mon, 25 Nov 2019 19:03:02 GMT\n",
      "header: hnweb: pw04\n",
      "header: Pragma: no-cache\n",
      "header: Server: Apache\n",
      "header: Strict-Transport-Security: max-age=31536000; includeSubDomains; preload\n",
      "header: transfer-encoding: chunked\n",
      "header: Connection: keep-alive\n"
     ]
    },
    {
     "name": "stderr",
     "output_type": "stream",
     "text": [
      "DEBUG:urllib3.connectionpool:Starting new HTTPS connection (1): catalog.archives.gov:443\n",
      "DEBUG:urllib3.connectionpool:https://catalog.archives.gov:443 \"GET /OpaAPI/media/24407615/content/dc-metro/rg-026/585454/0001-A1/Manning-1914/Manning-1914_0031.JPG HTTP/1.1\" 200 None\n"
     ]
    },
    {
     "name": "stdout",
     "output_type": "stream",
     "text": [
      "send: b'GET /OpaAPI/media/24407615/content/dc-metro/rg-026/585454/0001-A1/Manning-1914/Manning-1914_0031.JPG HTTP/1.1\\r\\nHost: catalog.archives.gov\\r\\nUser-Agent: python-requests/2.22.0\\r\\nAccept-Encoding: gzip, deflate\\r\\nAccept: */*\\r\\nConnection: keep-alive\\r\\n\\r\\n'\n",
      "reply: 'HTTP/1.1 200 OK\\r\\n'\n",
      "header: Access-Control-Allow-Credentials: true\n",
      "header: Access-Control-Allow-Methods: DELETE, HEAD, GET, OPTION, POST, PUT\n",
      "header: Access-Control-Expose-Headers: JSESSIONID\n",
      "header: Access-Control-Max-Age: 3600\n",
      "header: BALANCER_NAME: (null)\n",
      "header: BALANCER_ROUTE_CHANGED: 1\n",
      "header: BALANCER_SESSION_ROUTE: (null)\n",
      "header: BALANCER_SESSION_STICKY: (null)\n",
      "header: BALANCER_WORKER_NAME: ajp://pa01.aws.nac.nara.gov:8009/OpaAPI\n",
      "header: BALANCER_WORKER_ROUTE: pa01\n",
      "header: Cache-Control: no-store, no-cache\n",
      "header: Content-Type: image/jpeg;charset=UTF-8\n",
      "header: Date: Mon, 25 Nov 2019 19:03:03 GMT\n",
      "header: hnweb: pw03\n",
      "header: Pragma: no-cache\n",
      "header: Server: Apache/2.4.6 (Red Hat)\n",
      "header: Strict-Transport-Security: max-age=31536000; includeSubDomains; preload\n",
      "header: transfer-encoding: chunked\n",
      "header: Connection: keep-alive\n"
     ]
    },
    {
     "name": "stderr",
     "output_type": "stream",
     "text": [
      "DEBUG:urllib3.connectionpool:Starting new HTTPS connection (1): catalog.archives.gov:443\n"
     ]
    },
    {
     "name": "stdout",
     "output_type": "stream",
     "text": [
      "send: b'GET /OpaAPI/media/24407615/content/dc-metro/rg-026/585454/0001-A1/Manning-1914/Manning-1914_0032.JPG HTTP/1.1\\r\\nHost: catalog.archives.gov\\r\\nUser-Agent: python-requests/2.22.0\\r\\nAccept-Encoding: gzip, deflate\\r\\nAccept: */*\\r\\nConnection: keep-alive\\r\\n\\r\\n'\n"
     ]
    },
    {
     "name": "stderr",
     "output_type": "stream",
     "text": [
      "DEBUG:urllib3.connectionpool:https://catalog.archives.gov:443 \"GET /OpaAPI/media/24407615/content/dc-metro/rg-026/585454/0001-A1/Manning-1914/Manning-1914_0032.JPG HTTP/1.1\" 200 None\n"
     ]
    },
    {
     "name": "stdout",
     "output_type": "stream",
     "text": [
      "reply: 'HTTP/1.1 200 OK\\r\\n'\n",
      "header: Access-Control-Allow-Credentials: true\n",
      "header: Access-Control-Allow-Methods: DELETE, HEAD, GET, OPTION, POST, PUT\n",
      "header: Access-Control-Expose-Headers: JSESSIONID\n",
      "header: Access-Control-Max-Age: 3600\n",
      "header: BALANCER_NAME: (null)\n",
      "header: BALANCER_ROUTE_CHANGED: 1\n",
      "header: BALANCER_SESSION_ROUTE: (null)\n",
      "header: BALANCER_SESSION_STICKY: (null)\n",
      "header: BALANCER_WORKER_NAME: ajp://pa04.aws.nac.nara.gov:8009/OpaAPI\n",
      "header: BALANCER_WORKER_ROUTE: pa04\n",
      "header: Cache-Control: no-store, no-cache\n",
      "header: Content-Type: image/jpeg;charset=UTF-8\n",
      "header: Date: Mon, 25 Nov 2019 19:03:05 GMT\n",
      "header: hnweb: pw01\n",
      "header: Pragma: no-cache\n",
      "header: Server: Apache/2.4.6 (Red Hat)\n",
      "header: Strict-Transport-Security: max-age=31536000; includeSubDomains; preload\n",
      "header: transfer-encoding: chunked\n",
      "header: Connection: keep-alive\n"
     ]
    },
    {
     "name": "stderr",
     "output_type": "stream",
     "text": [
      "DEBUG:urllib3.connectionpool:Starting new HTTPS connection (1): catalog.archives.gov:443\n"
     ]
    },
    {
     "name": "stdout",
     "output_type": "stream",
     "text": [
      "send: b'GET /OpaAPI/media/24407615/content/dc-metro/rg-026/585454/0001-A1/Manning-1914/Manning-1914_0033.JPG HTTP/1.1\\r\\nHost: catalog.archives.gov\\r\\nUser-Agent: python-requests/2.22.0\\r\\nAccept-Encoding: gzip, deflate\\r\\nAccept: */*\\r\\nConnection: keep-alive\\r\\n\\r\\n'\n"
     ]
    },
    {
     "name": "stderr",
     "output_type": "stream",
     "text": [
      "DEBUG:urllib3.connectionpool:https://catalog.archives.gov:443 \"GET /OpaAPI/media/24407615/content/dc-metro/rg-026/585454/0001-A1/Manning-1914/Manning-1914_0033.JPG HTTP/1.1\" 200 None\n"
     ]
    },
    {
     "name": "stdout",
     "output_type": "stream",
     "text": [
      "reply: 'HTTP/1.1 200 OK\\r\\n'\n",
      "header: Access-Control-Allow-Credentials: true\n",
      "header: Access-Control-Allow-Methods: DELETE, HEAD, GET, OPTION, POST, PUT\n",
      "header: Access-Control-Expose-Headers: JSESSIONID\n",
      "header: Access-Control-Max-Age: 3600\n",
      "header: BALANCER_NAME: (null)\n",
      "header: BALANCER_ROUTE_CHANGED: 1\n",
      "header: BALANCER_SESSION_ROUTE: (null)\n",
      "header: BALANCER_SESSION_STICKY: (null)\n",
      "header: BALANCER_WORKER_NAME: ajp://pa03.aws.nac.nara.gov:8009/OpaAPI\n",
      "header: BALANCER_WORKER_ROUTE: pa03\n",
      "header: Cache-Control: no-store, no-cache\n",
      "header: Content-Type: image/jpeg;charset=UTF-8\n",
      "header: Date: Mon, 25 Nov 2019 19:03:06 GMT\n",
      "header: hnweb: pw03\n",
      "header: Pragma: no-cache\n",
      "header: Server: Apache/2.4.6 (Red Hat)\n",
      "header: Strict-Transport-Security: max-age=31536000; includeSubDomains; preload\n",
      "header: transfer-encoding: chunked\n",
      "header: Connection: keep-alive\n"
     ]
    },
    {
     "name": "stderr",
     "output_type": "stream",
     "text": [
      "DEBUG:urllib3.connectionpool:Starting new HTTPS connection (1): catalog.archives.gov:443\n"
     ]
    },
    {
     "name": "stdout",
     "output_type": "stream",
     "text": [
      "send: b'GET /OpaAPI/media/24407615/content/dc-metro/rg-026/585454/0001-A1/Manning-1914/Manning-1914_0034.JPG HTTP/1.1\\r\\nHost: catalog.archives.gov\\r\\nUser-Agent: python-requests/2.22.0\\r\\nAccept-Encoding: gzip, deflate\\r\\nAccept: */*\\r\\nConnection: keep-alive\\r\\n\\r\\n'\n"
     ]
    },
    {
     "name": "stderr",
     "output_type": "stream",
     "text": [
      "DEBUG:urllib3.connectionpool:https://catalog.archives.gov:443 \"GET /OpaAPI/media/24407615/content/dc-metro/rg-026/585454/0001-A1/Manning-1914/Manning-1914_0034.JPG HTTP/1.1\" 200 None\n"
     ]
    },
    {
     "name": "stdout",
     "output_type": "stream",
     "text": [
      "reply: 'HTTP/1.1 200 OK\\r\\n'\n",
      "header: Access-Control-Allow-Credentials: true\n",
      "header: Access-Control-Allow-Methods: DELETE, HEAD, GET, OPTION, POST, PUT\n",
      "header: Access-Control-Expose-Headers: JSESSIONID\n",
      "header: Access-Control-Max-Age: 3600\n",
      "header: BALANCER_NAME: (null)\n",
      "header: BALANCER_ROUTE_CHANGED: 1\n",
      "header: BALANCER_SESSION_ROUTE: (null)\n",
      "header: BALANCER_SESSION_STICKY: (null)\n",
      "header: BALANCER_WORKER_NAME: ajp://pa01.aws.nac.nara.gov:8009/OpaAPI\n",
      "header: BALANCER_WORKER_ROUTE: pa01\n",
      "header: Cache-Control: no-store, no-cache\n",
      "header: Content-Type: image/jpeg;charset=UTF-8\n",
      "header: Date: Mon, 25 Nov 2019 19:03:07 GMT\n",
      "header: hnweb: pw04\n",
      "header: Pragma: no-cache\n",
      "header: Server: Apache\n",
      "header: Strict-Transport-Security: max-age=31536000; includeSubDomains; preload\n",
      "header: transfer-encoding: chunked\n",
      "header: Connection: keep-alive\n"
     ]
    },
    {
     "name": "stderr",
     "output_type": "stream",
     "text": [
      "DEBUG:urllib3.connectionpool:Starting new HTTPS connection (1): catalog.archives.gov:443\n"
     ]
    },
    {
     "name": "stdout",
     "output_type": "stream",
     "text": [
      "send: b'GET /OpaAPI/media/24407615/content/dc-metro/rg-026/585454/0001-A1/Manning-1914/Manning-1914_0035.JPG HTTP/1.1\\r\\nHost: catalog.archives.gov\\r\\nUser-Agent: python-requests/2.22.0\\r\\nAccept-Encoding: gzip, deflate\\r\\nAccept: */*\\r\\nConnection: keep-alive\\r\\n\\r\\n'\n"
     ]
    },
    {
     "name": "stderr",
     "output_type": "stream",
     "text": [
      "DEBUG:urllib3.connectionpool:https://catalog.archives.gov:443 \"GET /OpaAPI/media/24407615/content/dc-metro/rg-026/585454/0001-A1/Manning-1914/Manning-1914_0035.JPG HTTP/1.1\" 200 None\n"
     ]
    },
    {
     "name": "stdout",
     "output_type": "stream",
     "text": [
      "reply: 'HTTP/1.1 200 OK\\r\\n'\n",
      "header: Access-Control-Allow-Credentials: true\n",
      "header: Access-Control-Allow-Methods: DELETE, HEAD, GET, OPTION, POST, PUT\n",
      "header: Access-Control-Expose-Headers: JSESSIONID\n",
      "header: Access-Control-Max-Age: 3600\n",
      "header: BALANCER_NAME: (null)\n",
      "header: BALANCER_ROUTE_CHANGED: 1\n",
      "header: BALANCER_SESSION_ROUTE: (null)\n",
      "header: BALANCER_SESSION_STICKY: (null)\n",
      "header: BALANCER_WORKER_NAME: ajp://pa02.aws.nac.nara.gov:8009/OpaAPI\n",
      "header: BALANCER_WORKER_ROUTE: pa02\n",
      "header: Cache-Control: no-store, no-cache\n",
      "header: Content-Type: image/jpeg;charset=UTF-8\n",
      "header: Date: Mon, 25 Nov 2019 19:03:09 GMT\n",
      "header: hnweb: pw02\n",
      "header: Pragma: no-cache\n",
      "header: Server: Apache\n",
      "header: Strict-Transport-Security: max-age=31536000; includeSubDomains; preload\n",
      "header: transfer-encoding: chunked\n",
      "header: Connection: keep-alive\n"
     ]
    },
    {
     "name": "stderr",
     "output_type": "stream",
     "text": [
      "DEBUG:urllib3.connectionpool:Starting new HTTPS connection (1): catalog.archives.gov:443\n"
     ]
    },
    {
     "name": "stdout",
     "output_type": "stream",
     "text": [
      "send: b'GET /OpaAPI/media/24407615/content/dc-metro/rg-026/585454/0001-A1/Manning-1914/Manning-1914_0036.JPG HTTP/1.1\\r\\nHost: catalog.archives.gov\\r\\nUser-Agent: python-requests/2.22.0\\r\\nAccept-Encoding: gzip, deflate\\r\\nAccept: */*\\r\\nConnection: keep-alive\\r\\n\\r\\n'\n"
     ]
    },
    {
     "name": "stderr",
     "output_type": "stream",
     "text": [
      "DEBUG:urllib3.connectionpool:https://catalog.archives.gov:443 \"GET /OpaAPI/media/24407615/content/dc-metro/rg-026/585454/0001-A1/Manning-1914/Manning-1914_0036.JPG HTTP/1.1\" 200 None\n"
     ]
    },
    {
     "name": "stdout",
     "output_type": "stream",
     "text": [
      "reply: 'HTTP/1.1 200 OK\\r\\n'\n",
      "header: Access-Control-Allow-Credentials: true\n",
      "header: Access-Control-Allow-Methods: DELETE, HEAD, GET, OPTION, POST, PUT\n",
      "header: Access-Control-Expose-Headers: JSESSIONID\n",
      "header: Access-Control-Max-Age: 3600\n",
      "header: BALANCER_NAME: (null)\n",
      "header: BALANCER_ROUTE_CHANGED: 1\n",
      "header: BALANCER_SESSION_ROUTE: (null)\n",
      "header: BALANCER_SESSION_STICKY: (null)\n",
      "header: BALANCER_WORKER_NAME: ajp://pa01.aws.nac.nara.gov:8009/OpaAPI\n",
      "header: BALANCER_WORKER_ROUTE: pa01\n",
      "header: Cache-Control: no-store, no-cache\n",
      "header: Content-Type: image/jpeg;charset=UTF-8\n",
      "header: Date: Mon, 25 Nov 2019 19:03:10 GMT\n",
      "header: hnweb: pw04\n",
      "header: Pragma: no-cache\n",
      "header: Server: Apache\n",
      "header: Strict-Transport-Security: max-age=31536000; includeSubDomains; preload\n",
      "header: transfer-encoding: chunked\n",
      "header: Connection: keep-alive\n"
     ]
    },
    {
     "name": "stderr",
     "output_type": "stream",
     "text": [
      "DEBUG:urllib3.connectionpool:Starting new HTTPS connection (1): catalog.archives.gov:443\n"
     ]
    },
    {
     "name": "stdout",
     "output_type": "stream",
     "text": [
      "send: b'GET /OpaAPI/media/24407615/content/dc-metro/rg-026/585454/0001-A1/Manning-1914/Manning-1914_0037.JPG HTTP/1.1\\r\\nHost: catalog.archives.gov\\r\\nUser-Agent: python-requests/2.22.0\\r\\nAccept-Encoding: gzip, deflate\\r\\nAccept: */*\\r\\nConnection: keep-alive\\r\\n\\r\\n'\n"
     ]
    },
    {
     "name": "stderr",
     "output_type": "stream",
     "text": [
      "DEBUG:urllib3.connectionpool:https://catalog.archives.gov:443 \"GET /OpaAPI/media/24407615/content/dc-metro/rg-026/585454/0001-A1/Manning-1914/Manning-1914_0037.JPG HTTP/1.1\" 200 None\n"
     ]
    },
    {
     "name": "stdout",
     "output_type": "stream",
     "text": [
      "reply: 'HTTP/1.1 200 OK\\r\\n'\n",
      "header: Access-Control-Allow-Credentials: true\n",
      "header: Access-Control-Allow-Methods: DELETE, HEAD, GET, OPTION, POST, PUT\n",
      "header: Access-Control-Expose-Headers: JSESSIONID\n",
      "header: Access-Control-Max-Age: 3600\n",
      "header: BALANCER_NAME: (null)\n",
      "header: BALANCER_ROUTE_CHANGED: 1\n",
      "header: BALANCER_SESSION_ROUTE: (null)\n",
      "header: BALANCER_SESSION_STICKY: (null)\n",
      "header: BALANCER_WORKER_NAME: ajp://pa02.aws.nac.nara.gov:8009/OpaAPI\n",
      "header: BALANCER_WORKER_ROUTE: pa02\n",
      "header: Cache-Control: no-store, no-cache\n",
      "header: Content-Type: image/jpeg;charset=UTF-8\n",
      "header: Date: Mon, 25 Nov 2019 19:03:11 GMT\n",
      "header: hnweb: pw01\n",
      "header: Pragma: no-cache\n",
      "header: Server: Apache/2.4.6 (Red Hat)\n",
      "header: Strict-Transport-Security: max-age=31536000; includeSubDomains; preload\n",
      "header: transfer-encoding: chunked\n",
      "header: Connection: keep-alive\n"
     ]
    },
    {
     "name": "stderr",
     "output_type": "stream",
     "text": [
      "DEBUG:urllib3.connectionpool:Starting new HTTPS connection (1): catalog.archives.gov:443\n"
     ]
    },
    {
     "name": "stdout",
     "output_type": "stream",
     "text": [
      "send: b'GET /OpaAPI/media/24407615/content/dc-metro/rg-026/585454/0001-A1/Manning-1914/Manning-1914_0038.JPG HTTP/1.1\\r\\nHost: catalog.archives.gov\\r\\nUser-Agent: python-requests/2.22.0\\r\\nAccept-Encoding: gzip, deflate\\r\\nAccept: */*\\r\\nConnection: keep-alive\\r\\n\\r\\n'\n"
     ]
    },
    {
     "name": "stderr",
     "output_type": "stream",
     "text": [
      "DEBUG:urllib3.connectionpool:https://catalog.archives.gov:443 \"GET /OpaAPI/media/24407615/content/dc-metro/rg-026/585454/0001-A1/Manning-1914/Manning-1914_0038.JPG HTTP/1.1\" 200 None\n"
     ]
    },
    {
     "name": "stdout",
     "output_type": "stream",
     "text": [
      "reply: 'HTTP/1.1 200 OK\\r\\n'\n",
      "header: Access-Control-Allow-Credentials: true\n",
      "header: Access-Control-Allow-Methods: DELETE, HEAD, GET, OPTION, POST, PUT\n",
      "header: Access-Control-Expose-Headers: JSESSIONID\n",
      "header: Access-Control-Max-Age: 3600\n",
      "header: BALANCER_NAME: (null)\n",
      "header: BALANCER_ROUTE_CHANGED: 1\n",
      "header: BALANCER_SESSION_ROUTE: (null)\n",
      "header: BALANCER_SESSION_STICKY: (null)\n",
      "header: BALANCER_WORKER_NAME: ajp://pa03.aws.nac.nara.gov:8009/OpaAPI\n",
      "header: BALANCER_WORKER_ROUTE: pa03\n",
      "header: Cache-Control: no-store, no-cache\n",
      "header: Content-Type: image/jpeg;charset=UTF-8\n",
      "header: Date: Mon, 25 Nov 2019 19:03:12 GMT\n",
      "header: hnweb: pw04\n",
      "header: Pragma: no-cache\n",
      "header: Server: Apache\n",
      "header: Strict-Transport-Security: max-age=31536000; includeSubDomains; preload\n",
      "header: transfer-encoding: chunked\n",
      "header: Connection: keep-alive\n"
     ]
    },
    {
     "name": "stderr",
     "output_type": "stream",
     "text": [
      "DEBUG:urllib3.connectionpool:Starting new HTTPS connection (1): catalog.archives.gov:443\n"
     ]
    },
    {
     "name": "stdout",
     "output_type": "stream",
     "text": [
      "send: b'GET /OpaAPI/media/24407615/content/dc-metro/rg-026/585454/0001-A1/Manning-1914/Manning-1914_0039.JPG HTTP/1.1\\r\\nHost: catalog.archives.gov\\r\\nUser-Agent: python-requests/2.22.0\\r\\nAccept-Encoding: gzip, deflate\\r\\nAccept: */*\\r\\nConnection: keep-alive\\r\\n\\r\\n'\n"
     ]
    },
    {
     "name": "stderr",
     "output_type": "stream",
     "text": [
      "DEBUG:urllib3.connectionpool:https://catalog.archives.gov:443 \"GET /OpaAPI/media/24407615/content/dc-metro/rg-026/585454/0001-A1/Manning-1914/Manning-1914_0039.JPG HTTP/1.1\" 200 None\n"
     ]
    },
    {
     "name": "stdout",
     "output_type": "stream",
     "text": [
      "reply: 'HTTP/1.1 200 OK\\r\\n'\n",
      "header: Access-Control-Allow-Credentials: true\n",
      "header: Access-Control-Allow-Methods: DELETE, HEAD, GET, OPTION, POST, PUT\n",
      "header: Access-Control-Expose-Headers: JSESSIONID\n",
      "header: Access-Control-Max-Age: 3600\n",
      "header: BALANCER_NAME: (null)\n",
      "header: BALANCER_ROUTE_CHANGED: 1\n",
      "header: BALANCER_SESSION_ROUTE: (null)\n",
      "header: BALANCER_SESSION_STICKY: (null)\n",
      "header: BALANCER_WORKER_NAME: ajp://pa03.aws.nac.nara.gov:8009/OpaAPI\n",
      "header: BALANCER_WORKER_ROUTE: pa03\n",
      "header: Cache-Control: no-store, no-cache\n",
      "header: Content-Type: image/jpeg;charset=UTF-8\n",
      "header: Date: Mon, 25 Nov 2019 19:03:15 GMT\n",
      "header: hnweb: pw04\n",
      "header: Pragma: no-cache\n",
      "header: Server: Apache\n",
      "header: Strict-Transport-Security: max-age=31536000; includeSubDomains; preload\n",
      "header: transfer-encoding: chunked\n",
      "header: Connection: keep-alive\n"
     ]
    },
    {
     "name": "stderr",
     "output_type": "stream",
     "text": [
      "DEBUG:urllib3.connectionpool:Starting new HTTPS connection (1): catalog.archives.gov:443\n"
     ]
    },
    {
     "name": "stdout",
     "output_type": "stream",
     "text": [
      "send: b'GET /OpaAPI/media/24407615/content/dc-metro/rg-026/585454/0001-A1/Manning-1914/Manning-1914_0040.JPG HTTP/1.1\\r\\nHost: catalog.archives.gov\\r\\nUser-Agent: python-requests/2.22.0\\r\\nAccept-Encoding: gzip, deflate\\r\\nAccept: */*\\r\\nConnection: keep-alive\\r\\n\\r\\n'\n"
     ]
    },
    {
     "name": "stderr",
     "output_type": "stream",
     "text": [
      "DEBUG:urllib3.connectionpool:https://catalog.archives.gov:443 \"GET /OpaAPI/media/24407615/content/dc-metro/rg-026/585454/0001-A1/Manning-1914/Manning-1914_0040.JPG HTTP/1.1\" 200 None\n"
     ]
    },
    {
     "name": "stdout",
     "output_type": "stream",
     "text": [
      "reply: 'HTTP/1.1 200 OK\\r\\n'\n",
      "header: Access-Control-Allow-Credentials: true\n",
      "header: Access-Control-Allow-Methods: DELETE, HEAD, GET, OPTION, POST, PUT\n",
      "header: Access-Control-Expose-Headers: JSESSIONID\n",
      "header: Access-Control-Max-Age: 3600\n",
      "header: BALANCER_NAME: (null)\n",
      "header: BALANCER_ROUTE_CHANGED: 1\n",
      "header: BALANCER_SESSION_ROUTE: (null)\n",
      "header: BALANCER_SESSION_STICKY: (null)\n",
      "header: BALANCER_WORKER_NAME: ajp://pa03.aws.nac.nara.gov:8009/OpaAPI\n",
      "header: BALANCER_WORKER_ROUTE: pa03\n",
      "header: Cache-Control: no-store, no-cache\n",
      "header: Content-Type: image/jpeg;charset=UTF-8\n",
      "header: Date: Mon, 25 Nov 2019 19:03:16 GMT\n",
      "header: hnweb: pw04\n",
      "header: Pragma: no-cache\n",
      "header: Server: Apache\n",
      "header: Strict-Transport-Security: max-age=31536000; includeSubDomains; preload\n",
      "header: transfer-encoding: chunked\n",
      "header: Connection: keep-alive\n"
     ]
    },
    {
     "name": "stderr",
     "output_type": "stream",
     "text": [
      "DEBUG:urllib3.connectionpool:Starting new HTTPS connection (1): catalog.archives.gov:443\n",
      "DEBUG:urllib3.connectionpool:https://catalog.archives.gov:443 \"GET /OpaAPI/media/24407615/content/dc-metro/rg-026/585454/0001-A1/Manning-1914/Manning-1914_0041.JPG HTTP/1.1\" 200 None\n"
     ]
    },
    {
     "name": "stdout",
     "output_type": "stream",
     "text": [
      "send: b'GET /OpaAPI/media/24407615/content/dc-metro/rg-026/585454/0001-A1/Manning-1914/Manning-1914_0041.JPG HTTP/1.1\\r\\nHost: catalog.archives.gov\\r\\nUser-Agent: python-requests/2.22.0\\r\\nAccept-Encoding: gzip, deflate\\r\\nAccept: */*\\r\\nConnection: keep-alive\\r\\n\\r\\n'\n",
      "reply: 'HTTP/1.1 200 OK\\r\\n'\n",
      "header: Access-Control-Allow-Credentials: true\n",
      "header: Access-Control-Allow-Methods: DELETE, HEAD, GET, OPTION, POST, PUT\n",
      "header: Access-Control-Expose-Headers: JSESSIONID\n",
      "header: Access-Control-Max-Age: 3600\n",
      "header: BALANCER_NAME: (null)\n",
      "header: BALANCER_ROUTE_CHANGED: 1\n",
      "header: BALANCER_SESSION_ROUTE: (null)\n",
      "header: BALANCER_SESSION_STICKY: (null)\n",
      "header: BALANCER_WORKER_NAME: ajp://pa01.aws.nac.nara.gov:8009/OpaAPI\n",
      "header: BALANCER_WORKER_ROUTE: pa01\n",
      "header: Cache-Control: no-store, no-cache\n",
      "header: Content-Type: image/jpeg;charset=UTF-8\n",
      "header: Date: Mon, 25 Nov 2019 19:03:18 GMT\n",
      "header: hnweb: pw03\n",
      "header: Pragma: no-cache\n",
      "header: Server: Apache/2.4.6 (Red Hat)\n",
      "header: Strict-Transport-Security: max-age=31536000; includeSubDomains; preload\n",
      "header: transfer-encoding: chunked\n",
      "header: Connection: keep-alive\n"
     ]
    },
    {
     "name": "stderr",
     "output_type": "stream",
     "text": [
      "DEBUG:urllib3.connectionpool:Starting new HTTPS connection (1): catalog.archives.gov:443\n"
     ]
    },
    {
     "name": "stdout",
     "output_type": "stream",
     "text": [
      "send: b'GET /OpaAPI/media/24407615/content/dc-metro/rg-026/585454/0001-A1/Manning-1914/Manning-1914_0042.JPG HTTP/1.1\\r\\nHost: catalog.archives.gov\\r\\nUser-Agent: python-requests/2.22.0\\r\\nAccept-Encoding: gzip, deflate\\r\\nAccept: */*\\r\\nConnection: keep-alive\\r\\n\\r\\n'\n"
     ]
    },
    {
     "name": "stderr",
     "output_type": "stream",
     "text": [
      "DEBUG:urllib3.connectionpool:https://catalog.archives.gov:443 \"GET /OpaAPI/media/24407615/content/dc-metro/rg-026/585454/0001-A1/Manning-1914/Manning-1914_0042.JPG HTTP/1.1\" 200 None\n"
     ]
    },
    {
     "name": "stdout",
     "output_type": "stream",
     "text": [
      "reply: 'HTTP/1.1 200 OK\\r\\n'\n",
      "header: Access-Control-Allow-Credentials: true\n",
      "header: Access-Control-Allow-Methods: DELETE, HEAD, GET, OPTION, POST, PUT\n",
      "header: Access-Control-Expose-Headers: JSESSIONID\n",
      "header: Access-Control-Max-Age: 3600\n",
      "header: BALANCER_NAME: (null)\n",
      "header: BALANCER_ROUTE_CHANGED: 1\n",
      "header: BALANCER_SESSION_ROUTE: (null)\n",
      "header: BALANCER_SESSION_STICKY: (null)\n",
      "header: BALANCER_WORKER_NAME: ajp://pa03.aws.nac.nara.gov:8009/OpaAPI\n",
      "header: BALANCER_WORKER_ROUTE: pa03\n",
      "header: Cache-Control: no-store, no-cache\n",
      "header: Content-Type: image/jpeg;charset=UTF-8\n",
      "header: Date: Mon, 25 Nov 2019 19:03:19 GMT\n",
      "header: hnweb: pw04\n",
      "header: Pragma: no-cache\n",
      "header: Server: Apache\n",
      "header: Strict-Transport-Security: max-age=31536000; includeSubDomains; preload\n",
      "header: transfer-encoding: chunked\n",
      "header: Connection: keep-alive\n"
     ]
    },
    {
     "name": "stderr",
     "output_type": "stream",
     "text": [
      "DEBUG:urllib3.connectionpool:Starting new HTTPS connection (1): catalog.archives.gov:443\n"
     ]
    },
    {
     "name": "stdout",
     "output_type": "stream",
     "text": [
      "send: b'GET /OpaAPI/media/24407615/content/dc-metro/rg-026/585454/0001-A1/Manning-1914/Manning-1914_0043.JPG HTTP/1.1\\r\\nHost: catalog.archives.gov\\r\\nUser-Agent: python-requests/2.22.0\\r\\nAccept-Encoding: gzip, deflate\\r\\nAccept: */*\\r\\nConnection: keep-alive\\r\\n\\r\\n'\n"
     ]
    },
    {
     "name": "stderr",
     "output_type": "stream",
     "text": [
      "DEBUG:urllib3.connectionpool:https://catalog.archives.gov:443 \"GET /OpaAPI/media/24407615/content/dc-metro/rg-026/585454/0001-A1/Manning-1914/Manning-1914_0043.JPG HTTP/1.1\" 200 None\n"
     ]
    },
    {
     "name": "stdout",
     "output_type": "stream",
     "text": [
      "reply: 'HTTP/1.1 200 OK\\r\\n'\n",
      "header: Access-Control-Allow-Credentials: true\n",
      "header: Access-Control-Allow-Methods: DELETE, HEAD, GET, OPTION, POST, PUT\n",
      "header: Access-Control-Expose-Headers: JSESSIONID\n",
      "header: Access-Control-Max-Age: 3600\n",
      "header: BALANCER_NAME: (null)\n",
      "header: BALANCER_ROUTE_CHANGED: 1\n",
      "header: BALANCER_SESSION_ROUTE: (null)\n",
      "header: BALANCER_SESSION_STICKY: (null)\n",
      "header: BALANCER_WORKER_NAME: ajp://pa01.aws.nac.nara.gov:8009/OpaAPI\n",
      "header: BALANCER_WORKER_ROUTE: pa01\n",
      "header: Cache-Control: no-store, no-cache\n",
      "header: Content-Type: image/jpeg;charset=UTF-8\n",
      "header: Date: Mon, 25 Nov 2019 19:03:20 GMT\n",
      "header: hnweb: pw01\n",
      "header: Pragma: no-cache\n",
      "header: Server: Apache/2.4.6 (Red Hat)\n",
      "header: Strict-Transport-Security: max-age=31536000; includeSubDomains; preload\n",
      "header: transfer-encoding: chunked\n",
      "header: Connection: keep-alive\n"
     ]
    },
    {
     "name": "stderr",
     "output_type": "stream",
     "text": [
      "DEBUG:urllib3.connectionpool:Starting new HTTPS connection (1): catalog.archives.gov:443\n",
      "DEBUG:urllib3.connectionpool:https://catalog.archives.gov:443 \"GET /OpaAPI/media/24407615/content/dc-metro/rg-026/585454/0001-A1/Manning-1914/Manning-1914_0044.JPG HTTP/1.1\" 200 None\n"
     ]
    },
    {
     "name": "stdout",
     "output_type": "stream",
     "text": [
      "send: b'GET /OpaAPI/media/24407615/content/dc-metro/rg-026/585454/0001-A1/Manning-1914/Manning-1914_0044.JPG HTTP/1.1\\r\\nHost: catalog.archives.gov\\r\\nUser-Agent: python-requests/2.22.0\\r\\nAccept-Encoding: gzip, deflate\\r\\nAccept: */*\\r\\nConnection: keep-alive\\r\\n\\r\\n'\n",
      "reply: 'HTTP/1.1 200 OK\\r\\n'\n",
      "header: Access-Control-Allow-Credentials: true\n",
      "header: Access-Control-Allow-Methods: DELETE, HEAD, GET, OPTION, POST, PUT\n",
      "header: Access-Control-Expose-Headers: JSESSIONID\n",
      "header: Access-Control-Max-Age: 3600\n",
      "header: BALANCER_NAME: (null)\n",
      "header: BALANCER_ROUTE_CHANGED: 1\n",
      "header: BALANCER_SESSION_ROUTE: (null)\n",
      "header: BALANCER_SESSION_STICKY: (null)\n",
      "header: BALANCER_WORKER_NAME: ajp://pa02.aws.nac.nara.gov:8009/OpaAPI\n",
      "header: BALANCER_WORKER_ROUTE: pa02\n",
      "header: Cache-Control: no-store, no-cache\n",
      "header: Content-Type: image/jpeg;charset=UTF-8\n",
      "header: Date: Mon, 25 Nov 2019 19:03:22 GMT\n",
      "header: hnweb: pw03\n",
      "header: Pragma: no-cache\n",
      "header: Server: Apache/2.4.6 (Red Hat)\n",
      "header: Strict-Transport-Security: max-age=31536000; includeSubDomains; preload\n",
      "header: transfer-encoding: chunked\n",
      "header: Connection: keep-alive\n"
     ]
    },
    {
     "name": "stderr",
     "output_type": "stream",
     "text": [
      "DEBUG:urllib3.connectionpool:Starting new HTTPS connection (1): catalog.archives.gov:443\n"
     ]
    },
    {
     "name": "stdout",
     "output_type": "stream",
     "text": [
      "send: b'GET /OpaAPI/media/24407615/content/dc-metro/rg-026/585454/0001-A1/Manning-1914/Manning-1914_0045.JPG HTTP/1.1\\r\\nHost: catalog.archives.gov\\r\\nUser-Agent: python-requests/2.22.0\\r\\nAccept-Encoding: gzip, deflate\\r\\nAccept: */*\\r\\nConnection: keep-alive\\r\\n\\r\\n'\n"
     ]
    },
    {
     "name": "stderr",
     "output_type": "stream",
     "text": [
      "DEBUG:urllib3.connectionpool:https://catalog.archives.gov:443 \"GET /OpaAPI/media/24407615/content/dc-metro/rg-026/585454/0001-A1/Manning-1914/Manning-1914_0045.JPG HTTP/1.1\" 200 None\n"
     ]
    },
    {
     "name": "stdout",
     "output_type": "stream",
     "text": [
      "reply: 'HTTP/1.1 200 OK\\r\\n'\n",
      "header: Access-Control-Allow-Credentials: true\n",
      "header: Access-Control-Allow-Methods: DELETE, HEAD, GET, OPTION, POST, PUT\n",
      "header: Access-Control-Expose-Headers: JSESSIONID\n",
      "header: Access-Control-Max-Age: 3600\n",
      "header: BALANCER_NAME: (null)\n",
      "header: BALANCER_ROUTE_CHANGED: 1\n",
      "header: BALANCER_SESSION_ROUTE: (null)\n",
      "header: BALANCER_SESSION_STICKY: (null)\n",
      "header: BALANCER_WORKER_NAME: ajp://pa03.aws.nac.nara.gov:8009/OpaAPI\n",
      "header: BALANCER_WORKER_ROUTE: pa03\n",
      "header: Cache-Control: no-store, no-cache\n",
      "header: Content-Type: image/jpeg;charset=UTF-8\n",
      "header: Date: Mon, 25 Nov 2019 19:03:23 GMT\n",
      "header: hnweb: pw04\n",
      "header: Pragma: no-cache\n",
      "header: Server: Apache\n",
      "header: Strict-Transport-Security: max-age=31536000; includeSubDomains; preload\n",
      "header: transfer-encoding: chunked\n",
      "header: Connection: keep-alive\n"
     ]
    },
    {
     "name": "stderr",
     "output_type": "stream",
     "text": [
      "DEBUG:urllib3.connectionpool:Starting new HTTPS connection (1): catalog.archives.gov:443\n"
     ]
    },
    {
     "name": "stdout",
     "output_type": "stream",
     "text": [
      "send: b'GET /OpaAPI/media/24407615/content/dc-metro/rg-026/585454/0001-A1/Manning-1914/Manning-1914_0046.JPG HTTP/1.1\\r\\nHost: catalog.archives.gov\\r\\nUser-Agent: python-requests/2.22.0\\r\\nAccept-Encoding: gzip, deflate\\r\\nAccept: */*\\r\\nConnection: keep-alive\\r\\n\\r\\n'\n"
     ]
    },
    {
     "name": "stderr",
     "output_type": "stream",
     "text": [
      "DEBUG:urllib3.connectionpool:https://catalog.archives.gov:443 \"GET /OpaAPI/media/24407615/content/dc-metro/rg-026/585454/0001-A1/Manning-1914/Manning-1914_0046.JPG HTTP/1.1\" 200 None\n"
     ]
    },
    {
     "name": "stdout",
     "output_type": "stream",
     "text": [
      "reply: 'HTTP/1.1 200 OK\\r\\n'\n",
      "header: Access-Control-Allow-Credentials: true\n",
      "header: Access-Control-Allow-Methods: DELETE, HEAD, GET, OPTION, POST, PUT\n",
      "header: Access-Control-Expose-Headers: JSESSIONID\n",
      "header: Access-Control-Max-Age: 3600\n",
      "header: BALANCER_NAME: (null)\n",
      "header: BALANCER_ROUTE_CHANGED: 1\n",
      "header: BALANCER_SESSION_ROUTE: (null)\n",
      "header: BALANCER_SESSION_STICKY: (null)\n",
      "header: BALANCER_WORKER_NAME: ajp://pa03.aws.nac.nara.gov:8009/OpaAPI\n",
      "header: BALANCER_WORKER_ROUTE: pa03\n",
      "header: Cache-Control: no-store, no-cache\n",
      "header: Content-Type: image/jpeg;charset=UTF-8\n",
      "header: Date: Mon, 25 Nov 2019 19:03:24 GMT\n",
      "header: hnweb: pw02\n",
      "header: Pragma: no-cache\n",
      "header: Server: Apache\n",
      "header: Strict-Transport-Security: max-age=31536000; includeSubDomains; preload\n",
      "header: transfer-encoding: chunked\n",
      "header: Connection: keep-alive\n"
     ]
    },
    {
     "name": "stderr",
     "output_type": "stream",
     "text": [
      "DEBUG:urllib3.connectionpool:Starting new HTTPS connection (1): catalog.archives.gov:443\n"
     ]
    },
    {
     "name": "stdout",
     "output_type": "stream",
     "text": [
      "send: b'GET /OpaAPI/media/24407615/content/dc-metro/rg-026/585454/0001-A1/Manning-1914/Manning-1914_0047.JPG HTTP/1.1\\r\\nHost: catalog.archives.gov\\r\\nUser-Agent: python-requests/2.22.0\\r\\nAccept-Encoding: gzip, deflate\\r\\nAccept: */*\\r\\nConnection: keep-alive\\r\\n\\r\\n'\n",
      "reply: 'HTTP/1.1 200 OK\\r\\n'\n",
      "header: Access-Control-Allow-Credentials: true\n",
      "header: Access-Control-Allow-Methods: DELETE, HEAD, GET, OPTION, POST, PUT\n",
      "header: Access-Control-Expose-Headers: JSESSIONID\n",
      "header: Access-Control-Max-Age: 3600\n",
      "header: BALANCER_NAME: (null)\n"
     ]
    },
    {
     "name": "stderr",
     "output_type": "stream",
     "text": [
      "DEBUG:urllib3.connectionpool:https://catalog.archives.gov:443 \"GET /OpaAPI/media/24407615/content/dc-metro/rg-026/585454/0001-A1/Manning-1914/Manning-1914_0047.JPG HTTP/1.1\" 200 None\n"
     ]
    },
    {
     "name": "stdout",
     "output_type": "stream",
     "text": [
      "header: BALANCER_ROUTE_CHANGED: 1\n",
      "header: BALANCER_SESSION_ROUTE: (null)\n",
      "header: BALANCER_SESSION_STICKY: (null)\n",
      "header: BALANCER_WORKER_NAME: ajp://pa03.aws.nac.nara.gov:8009/OpaAPI\n",
      "header: BALANCER_WORKER_ROUTE: pa03\n",
      "header: Cache-Control: no-store, no-cache\n",
      "header: Content-Type: image/jpeg;charset=UTF-8\n",
      "header: Date: Mon, 25 Nov 2019 19:03:26 GMT\n",
      "header: hnweb: pw04\n",
      "header: Pragma: no-cache\n",
      "header: Server: Apache\n",
      "header: Strict-Transport-Security: max-age=31536000; includeSubDomains; preload\n",
      "header: transfer-encoding: chunked\n",
      "header: Connection: keep-alive\n"
     ]
    },
    {
     "name": "stderr",
     "output_type": "stream",
     "text": [
      "DEBUG:urllib3.connectionpool:Starting new HTTPS connection (1): catalog.archives.gov:443\n"
     ]
    },
    {
     "name": "stdout",
     "output_type": "stream",
     "text": [
      "send: b'GET /OpaAPI/media/24407615/content/dc-metro/rg-026/585454/0001-A1/Manning-1914/Manning-1914_0048.JPG HTTP/1.1\\r\\nHost: catalog.archives.gov\\r\\nUser-Agent: python-requests/2.22.0\\r\\nAccept-Encoding: gzip, deflate\\r\\nAccept: */*\\r\\nConnection: keep-alive\\r\\n\\r\\n'\n"
     ]
    },
    {
     "name": "stderr",
     "output_type": "stream",
     "text": [
      "DEBUG:urllib3.connectionpool:https://catalog.archives.gov:443 \"GET /OpaAPI/media/24407615/content/dc-metro/rg-026/585454/0001-A1/Manning-1914/Manning-1914_0048.JPG HTTP/1.1\" 200 None\n"
     ]
    },
    {
     "name": "stdout",
     "output_type": "stream",
     "text": [
      "reply: 'HTTP/1.1 200 OK\\r\\n'\n",
      "header: Access-Control-Allow-Credentials: true\n",
      "header: Access-Control-Allow-Methods: DELETE, HEAD, GET, OPTION, POST, PUT\n",
      "header: Access-Control-Expose-Headers: JSESSIONID\n",
      "header: Access-Control-Max-Age: 3600\n",
      "header: BALANCER_NAME: (null)\n",
      "header: BALANCER_ROUTE_CHANGED: 1\n",
      "header: BALANCER_SESSION_ROUTE: (null)\n",
      "header: BALANCER_SESSION_STICKY: (null)\n",
      "header: BALANCER_WORKER_NAME: ajp://pa04.aws.nac.nara.gov:8009/OpaAPI\n",
      "header: BALANCER_WORKER_ROUTE: pa04\n",
      "header: Cache-Control: no-store, no-cache\n",
      "header: Content-Type: image/jpeg;charset=UTF-8\n",
      "header: Date: Mon, 25 Nov 2019 19:03:27 GMT\n",
      "header: hnweb: pw01\n",
      "header: Pragma: no-cache\n",
      "header: Server: Apache/2.4.6 (Red Hat)\n",
      "header: Strict-Transport-Security: max-age=31536000; includeSubDomains; preload\n",
      "header: transfer-encoding: chunked\n",
      "header: Connection: keep-alive\n"
     ]
    },
    {
     "name": "stderr",
     "output_type": "stream",
     "text": [
      "DEBUG:urllib3.connectionpool:Starting new HTTPS connection (1): catalog.archives.gov:443\n"
     ]
    },
    {
     "name": "stdout",
     "output_type": "stream",
     "text": [
      "send: b'GET /OpaAPI/media/24407615/content/dc-metro/rg-026/585454/0001-A1/Manning-1914/Manning-1914_0049.JPG HTTP/1.1\\r\\nHost: catalog.archives.gov\\r\\nUser-Agent: python-requests/2.22.0\\r\\nAccept-Encoding: gzip, deflate\\r\\nAccept: */*\\r\\nConnection: keep-alive\\r\\n\\r\\n'\n"
     ]
    },
    {
     "name": "stderr",
     "output_type": "stream",
     "text": [
      "DEBUG:urllib3.connectionpool:https://catalog.archives.gov:443 \"GET /OpaAPI/media/24407615/content/dc-metro/rg-026/585454/0001-A1/Manning-1914/Manning-1914_0049.JPG HTTP/1.1\" 200 None\n"
     ]
    },
    {
     "name": "stdout",
     "output_type": "stream",
     "text": [
      "reply: 'HTTP/1.1 200 OK\\r\\n'\n",
      "header: Access-Control-Allow-Credentials: true\n",
      "header: Access-Control-Allow-Methods: DELETE, HEAD, GET, OPTION, POST, PUT\n",
      "header: Access-Control-Expose-Headers: JSESSIONID\n",
      "header: Access-Control-Max-Age: 3600\n",
      "header: BALANCER_NAME: (null)\n",
      "header: BALANCER_ROUTE_CHANGED: 1\n",
      "header: BALANCER_SESSION_ROUTE: (null)\n",
      "header: BALANCER_SESSION_STICKY: (null)\n",
      "header: BALANCER_WORKER_NAME: ajp://pa03.aws.nac.nara.gov:8009/OpaAPI\n",
      "header: BALANCER_WORKER_ROUTE: pa03\n",
      "header: Cache-Control: no-store, no-cache\n",
      "header: Content-Type: image/jpeg;charset=UTF-8\n",
      "header: Date: Mon, 25 Nov 2019 19:03:29 GMT\n",
      "header: hnweb: pw03\n",
      "header: Pragma: no-cache\n",
      "header: Server: Apache/2.4.6 (Red Hat)\n",
      "header: Strict-Transport-Security: max-age=31536000; includeSubDomains; preload\n",
      "header: transfer-encoding: chunked\n",
      "header: Connection: keep-alive\n"
     ]
    },
    {
     "name": "stderr",
     "output_type": "stream",
     "text": [
      "DEBUG:urllib3.connectionpool:Starting new HTTPS connection (1): catalog.archives.gov:443\n",
      "DEBUG:urllib3.connectionpool:https://catalog.archives.gov:443 \"GET /OpaAPI/media/24407615/content/dc-metro/rg-026/585454/0001-A1/Manning-1914/Manning-1914_0050.JPG HTTP/1.1\" 200 None\n"
     ]
    },
    {
     "name": "stdout",
     "output_type": "stream",
     "text": [
      "send: b'GET /OpaAPI/media/24407615/content/dc-metro/rg-026/585454/0001-A1/Manning-1914/Manning-1914_0050.JPG HTTP/1.1\\r\\nHost: catalog.archives.gov\\r\\nUser-Agent: python-requests/2.22.0\\r\\nAccept-Encoding: gzip, deflate\\r\\nAccept: */*\\r\\nConnection: keep-alive\\r\\n\\r\\n'\n",
      "reply: 'HTTP/1.1 200 OK\\r\\n'\n",
      "header: Access-Control-Allow-Credentials: true\n",
      "header: Access-Control-Allow-Methods: DELETE, HEAD, GET, OPTION, POST, PUT\n",
      "header: Access-Control-Expose-Headers: JSESSIONID\n",
      "header: Access-Control-Max-Age: 3600\n",
      "header: BALANCER_NAME: (null)\n",
      "header: BALANCER_ROUTE_CHANGED: 1\n",
      "header: BALANCER_SESSION_ROUTE: (null)\n",
      "header: BALANCER_SESSION_STICKY: (null)\n",
      "header: BALANCER_WORKER_NAME: ajp://pa02.aws.nac.nara.gov:8009/OpaAPI\n",
      "header: BALANCER_WORKER_ROUTE: pa02\n",
      "header: Cache-Control: no-store, no-cache\n",
      "header: Content-Type: image/jpeg;charset=UTF-8\n",
      "header: Date: Mon, 25 Nov 2019 19:03:30 GMT\n",
      "header: hnweb: pw04\n",
      "header: Pragma: no-cache\n",
      "header: Server: Apache\n",
      "header: Strict-Transport-Security: max-age=31536000; includeSubDomains; preload\n",
      "header: transfer-encoding: chunked\n",
      "header: Connection: keep-alive\n"
     ]
    },
    {
     "name": "stderr",
     "output_type": "stream",
     "text": [
      "DEBUG:urllib3.connectionpool:Starting new HTTPS connection (1): catalog.archives.gov:443\n"
     ]
    },
    {
     "name": "stdout",
     "output_type": "stream",
     "text": [
      "send: b'GET /OpaAPI/media/24407615/content/dc-metro/rg-026/585454/0001-A1/Manning-1914/Manning-1914_0051.JPG HTTP/1.1\\r\\nHost: catalog.archives.gov\\r\\nUser-Agent: python-requests/2.22.0\\r\\nAccept-Encoding: gzip, deflate\\r\\nAccept: */*\\r\\nConnection: keep-alive\\r\\n\\r\\n'\n"
     ]
    },
    {
     "name": "stderr",
     "output_type": "stream",
     "text": [
      "DEBUG:urllib3.connectionpool:https://catalog.archives.gov:443 \"GET /OpaAPI/media/24407615/content/dc-metro/rg-026/585454/0001-A1/Manning-1914/Manning-1914_0051.JPG HTTP/1.1\" 200 None\n"
     ]
    },
    {
     "name": "stdout",
     "output_type": "stream",
     "text": [
      "reply: 'HTTP/1.1 200 OK\\r\\n'\n",
      "header: Access-Control-Allow-Credentials: true\n",
      "header: Access-Control-Allow-Methods: DELETE, HEAD, GET, OPTION, POST, PUT\n",
      "header: Access-Control-Expose-Headers: JSESSIONID\n",
      "header: Access-Control-Max-Age: 3600\n",
      "header: BALANCER_NAME: (null)\n",
      "header: BALANCER_ROUTE_CHANGED: 1\n",
      "header: BALANCER_SESSION_ROUTE: (null)\n",
      "header: BALANCER_SESSION_STICKY: (null)\n",
      "header: BALANCER_WORKER_NAME: ajp://pa04.aws.nac.nara.gov:8009/OpaAPI\n",
      "header: BALANCER_WORKER_ROUTE: pa04\n",
      "header: Cache-Control: no-store, no-cache\n",
      "header: Content-Type: image/jpeg;charset=UTF-8\n",
      "header: Date: Mon, 25 Nov 2019 19:03:32 GMT\n",
      "header: hnweb: pw01\n",
      "header: Pragma: no-cache\n",
      "header: Server: Apache/2.4.6 (Red Hat)\n",
      "header: Strict-Transport-Security: max-age=31536000; includeSubDomains; preload\n",
      "header: transfer-encoding: chunked\n",
      "header: Connection: keep-alive\n"
     ]
    },
    {
     "name": "stderr",
     "output_type": "stream",
     "text": [
      "DEBUG:urllib3.connectionpool:Starting new HTTPS connection (1): catalog.archives.gov:443\n"
     ]
    },
    {
     "name": "stdout",
     "output_type": "stream",
     "text": [
      "send: b'GET /OpaAPI/media/24407615/content/dc-metro/rg-026/585454/0001-A1/Manning-1914/Manning-1914_0052.JPG HTTP/1.1\\r\\nHost: catalog.archives.gov\\r\\nUser-Agent: python-requests/2.22.0\\r\\nAccept-Encoding: gzip, deflate\\r\\nAccept: */*\\r\\nConnection: keep-alive\\r\\n\\r\\n'\n"
     ]
    },
    {
     "name": "stderr",
     "output_type": "stream",
     "text": [
      "DEBUG:urllib3.connectionpool:https://catalog.archives.gov:443 \"GET /OpaAPI/media/24407615/content/dc-metro/rg-026/585454/0001-A1/Manning-1914/Manning-1914_0052.JPG HTTP/1.1\" 200 None\n"
     ]
    },
    {
     "name": "stdout",
     "output_type": "stream",
     "text": [
      "reply: 'HTTP/1.1 200 OK\\r\\n'\n",
      "header: Access-Control-Allow-Credentials: true\n",
      "header: Access-Control-Allow-Methods: DELETE, HEAD, GET, OPTION, POST, PUT\n",
      "header: Access-Control-Expose-Headers: JSESSIONID\n",
      "header: Access-Control-Max-Age: 3600\n",
      "header: BALANCER_NAME: (null)\n",
      "header: BALANCER_ROUTE_CHANGED: 1\n",
      "header: BALANCER_SESSION_ROUTE: (null)\n",
      "header: BALANCER_SESSION_STICKY: (null)\n",
      "header: BALANCER_WORKER_NAME: ajp://pa04.aws.nac.nara.gov:8009/OpaAPI\n",
      "header: BALANCER_WORKER_ROUTE: pa04\n",
      "header: Cache-Control: no-store, no-cache\n",
      "header: Content-Type: image/jpeg;charset=UTF-8\n",
      "header: Date: Mon, 25 Nov 2019 19:03:33 GMT\n",
      "header: hnweb: pw02\n",
      "header: Pragma: no-cache\n",
      "header: Server: Apache\n",
      "header: Strict-Transport-Security: max-age=31536000; includeSubDomains; preload\n",
      "header: transfer-encoding: chunked\n",
      "header: Connection: keep-alive\n"
     ]
    },
    {
     "name": "stderr",
     "output_type": "stream",
     "text": [
      "DEBUG:urllib3.connectionpool:Starting new HTTPS connection (1): catalog.archives.gov:443\n"
     ]
    },
    {
     "name": "stdout",
     "output_type": "stream",
     "text": [
      "send: b'GET /OpaAPI/media/24407615/content/dc-metro/rg-026/585454/0001-A1/Manning-1914/Manning-1914_0053.JPG HTTP/1.1\\r\\nHost: catalog.archives.gov\\r\\nUser-Agent: python-requests/2.22.0\\r\\nAccept-Encoding: gzip, deflate\\r\\nAccept: */*\\r\\nConnection: keep-alive\\r\\n\\r\\n'\n"
     ]
    },
    {
     "name": "stderr",
     "output_type": "stream",
     "text": [
      "DEBUG:urllib3.connectionpool:https://catalog.archives.gov:443 \"GET /OpaAPI/media/24407615/content/dc-metro/rg-026/585454/0001-A1/Manning-1914/Manning-1914_0053.JPG HTTP/1.1\" 200 None\n"
     ]
    },
    {
     "name": "stdout",
     "output_type": "stream",
     "text": [
      "reply: 'HTTP/1.1 200 OK\\r\\n'\n",
      "header: Access-Control-Allow-Credentials: true\n",
      "header: Access-Control-Allow-Methods: DELETE, HEAD, GET, OPTION, POST, PUT\n",
      "header: Access-Control-Expose-Headers: JSESSIONID\n",
      "header: Access-Control-Max-Age: 3600\n",
      "header: BALANCER_NAME: (null)\n",
      "header: BALANCER_ROUTE_CHANGED: 1\n",
      "header: BALANCER_SESSION_ROUTE: (null)\n",
      "header: BALANCER_SESSION_STICKY: (null)\n",
      "header: BALANCER_WORKER_NAME: ajp://pa01.aws.nac.nara.gov:8009/OpaAPI\n",
      "header: BALANCER_WORKER_ROUTE: pa01\n",
      "header: Cache-Control: no-store, no-cache\n",
      "header: Content-Type: image/jpeg;charset=UTF-8\n",
      "header: Date: Mon, 25 Nov 2019 19:03:35 GMT\n",
      "header: hnweb: pw02\n",
      "header: Pragma: no-cache\n",
      "header: Server: Apache\n",
      "header: Strict-Transport-Security: max-age=31536000; includeSubDomains; preload\n",
      "header: transfer-encoding: chunked\n",
      "header: Connection: keep-alive\n"
     ]
    },
    {
     "name": "stderr",
     "output_type": "stream",
     "text": [
      "DEBUG:urllib3.connectionpool:Starting new HTTPS connection (1): catalog.archives.gov:443\n"
     ]
    },
    {
     "name": "stdout",
     "output_type": "stream",
     "text": [
      "send: b'GET /OpaAPI/media/24407615/content/dc-metro/rg-026/585454/0001-A1/Manning-1914/Manning-1914_0054.JPG HTTP/1.1\\r\\nHost: catalog.archives.gov\\r\\nUser-Agent: python-requests/2.22.0\\r\\nAccept-Encoding: gzip, deflate\\r\\nAccept: */*\\r\\nConnection: keep-alive\\r\\n\\r\\n'\n"
     ]
    },
    {
     "name": "stderr",
     "output_type": "stream",
     "text": [
      "DEBUG:urllib3.connectionpool:https://catalog.archives.gov:443 \"GET /OpaAPI/media/24407615/content/dc-metro/rg-026/585454/0001-A1/Manning-1914/Manning-1914_0054.JPG HTTP/1.1\" 200 None\n"
     ]
    },
    {
     "name": "stdout",
     "output_type": "stream",
     "text": [
      "reply: 'HTTP/1.1 200 OK\\r\\n'\n",
      "header: Access-Control-Allow-Credentials: true\n",
      "header: Access-Control-Allow-Methods: DELETE, HEAD, GET, OPTION, POST, PUT\n",
      "header: Access-Control-Expose-Headers: JSESSIONID\n",
      "header: Access-Control-Max-Age: 3600\n",
      "header: BALANCER_NAME: (null)\n",
      "header: BALANCER_ROUTE_CHANGED: 1\n",
      "header: BALANCER_SESSION_ROUTE: (null)\n",
      "header: BALANCER_SESSION_STICKY: (null)\n",
      "header: BALANCER_WORKER_NAME: ajp://pa04.aws.nac.nara.gov:8009/OpaAPI\n",
      "header: BALANCER_WORKER_ROUTE: pa04\n",
      "header: Cache-Control: no-store, no-cache\n",
      "header: Content-Type: image/jpeg;charset=UTF-8\n",
      "header: Date: Mon, 25 Nov 2019 19:03:36 GMT\n",
      "header: hnweb: pw02\n",
      "header: Pragma: no-cache\n",
      "header: Server: Apache\n",
      "header: Strict-Transport-Security: max-age=31536000; includeSubDomains; preload\n",
      "header: transfer-encoding: chunked\n",
      "header: Connection: keep-alive\n"
     ]
    },
    {
     "name": "stderr",
     "output_type": "stream",
     "text": [
      "DEBUG:urllib3.connectionpool:Starting new HTTPS connection (1): catalog.archives.gov:443\n"
     ]
    },
    {
     "name": "stdout",
     "output_type": "stream",
     "text": [
      "send: b'GET /OpaAPI/media/24407615/content/dc-metro/rg-026/585454/0001-A1/Manning-1914/Manning-1914_0055.JPG HTTP/1.1\\r\\nHost: catalog.archives.gov\\r\\nUser-Agent: python-requests/2.22.0\\r\\nAccept-Encoding: gzip, deflate\\r\\nAccept: */*\\r\\nConnection: keep-alive\\r\\n\\r\\n'\n"
     ]
    },
    {
     "name": "stderr",
     "output_type": "stream",
     "text": [
      "DEBUG:urllib3.connectionpool:https://catalog.archives.gov:443 \"GET /OpaAPI/media/24407615/content/dc-metro/rg-026/585454/0001-A1/Manning-1914/Manning-1914_0055.JPG HTTP/1.1\" 200 None\n"
     ]
    },
    {
     "name": "stdout",
     "output_type": "stream",
     "text": [
      "reply: 'HTTP/1.1 200 OK\\r\\n'\n",
      "header: Access-Control-Allow-Credentials: true\n",
      "header: Access-Control-Allow-Methods: DELETE, HEAD, GET, OPTION, POST, PUT\n",
      "header: Access-Control-Expose-Headers: JSESSIONID\n",
      "header: Access-Control-Max-Age: 3600\n",
      "header: BALANCER_NAME: (null)\n",
      "header: BALANCER_ROUTE_CHANGED: 1\n",
      "header: BALANCER_SESSION_ROUTE: (null)\n",
      "header: BALANCER_SESSION_STICKY: (null)\n",
      "header: BALANCER_WORKER_NAME: ajp://pa01.aws.nac.nara.gov:8009/OpaAPI\n",
      "header: BALANCER_WORKER_ROUTE: pa01\n",
      "header: Cache-Control: no-store, no-cache\n",
      "header: Content-Type: image/jpeg;charset=UTF-8\n",
      "header: Date: Mon, 25 Nov 2019 19:03:38 GMT\n",
      "header: hnweb: pw01\n",
      "header: Pragma: no-cache\n",
      "header: Server: Apache/2.4.6 (Red Hat)\n",
      "header: Strict-Transport-Security: max-age=31536000; includeSubDomains; preload\n",
      "header: transfer-encoding: chunked\n",
      "header: Connection: keep-alive\n"
     ]
    },
    {
     "name": "stderr",
     "output_type": "stream",
     "text": [
      "DEBUG:urllib3.connectionpool:Starting new HTTPS connection (1): catalog.archives.gov:443\n"
     ]
    },
    {
     "name": "stdout",
     "output_type": "stream",
     "text": [
      "send: b'GET /OpaAPI/media/24407615/content/dc-metro/rg-026/585454/0001-A1/Manning-1914/Manning-1914_0056.JPG HTTP/1.1\\r\\nHost: catalog.archives.gov\\r\\nUser-Agent: python-requests/2.22.0\\r\\nAccept-Encoding: gzip, deflate\\r\\nAccept: */*\\r\\nConnection: keep-alive\\r\\n\\r\\n'\n"
     ]
    },
    {
     "name": "stderr",
     "output_type": "stream",
     "text": [
      "DEBUG:urllib3.connectionpool:https://catalog.archives.gov:443 \"GET /OpaAPI/media/24407615/content/dc-metro/rg-026/585454/0001-A1/Manning-1914/Manning-1914_0056.JPG HTTP/1.1\" 200 None\n"
     ]
    },
    {
     "name": "stdout",
     "output_type": "stream",
     "text": [
      "reply: 'HTTP/1.1 200 OK\\r\\n'\n",
      "header: Access-Control-Allow-Credentials: true\n",
      "header: Access-Control-Allow-Methods: DELETE, HEAD, GET, OPTION, POST, PUT\n",
      "header: Access-Control-Expose-Headers: JSESSIONID\n",
      "header: Access-Control-Max-Age: 3600\n",
      "header: BALANCER_NAME: (null)\n",
      "header: BALANCER_ROUTE_CHANGED: 1\n",
      "header: BALANCER_SESSION_ROUTE: (null)\n",
      "header: BALANCER_SESSION_STICKY: (null)\n",
      "header: BALANCER_WORKER_NAME: ajp://pa04.aws.nac.nara.gov:8009/OpaAPI\n",
      "header: BALANCER_WORKER_ROUTE: pa04\n",
      "header: Cache-Control: no-store, no-cache\n",
      "header: Content-Type: image/jpeg;charset=UTF-8\n",
      "header: Date: Mon, 25 Nov 2019 19:03:39 GMT\n",
      "header: hnweb: pw01\n",
      "header: Pragma: no-cache\n",
      "header: Server: Apache/2.4.6 (Red Hat)\n",
      "header: Strict-Transport-Security: max-age=31536000; includeSubDomains; preload\n",
      "header: transfer-encoding: chunked\n",
      "header: Connection: keep-alive\n"
     ]
    },
    {
     "name": "stderr",
     "output_type": "stream",
     "text": [
      "DEBUG:urllib3.connectionpool:Starting new HTTPS connection (1): catalog.archives.gov:443\n"
     ]
    },
    {
     "name": "stdout",
     "output_type": "stream",
     "text": [
      "send: b'GET /OpaAPI/media/24407615/content/dc-metro/rg-026/585454/0001-A1/Manning-1914/Manning-1914_0057.JPG HTTP/1.1\\r\\nHost: catalog.archives.gov\\r\\nUser-Agent: python-requests/2.22.0\\r\\nAccept-Encoding: gzip, deflate\\r\\nAccept: */*\\r\\nConnection: keep-alive\\r\\n\\r\\n'\n"
     ]
    },
    {
     "name": "stderr",
     "output_type": "stream",
     "text": [
      "DEBUG:urllib3.connectionpool:https://catalog.archives.gov:443 \"GET /OpaAPI/media/24407615/content/dc-metro/rg-026/585454/0001-A1/Manning-1914/Manning-1914_0057.JPG HTTP/1.1\" 200 None\n"
     ]
    },
    {
     "name": "stdout",
     "output_type": "stream",
     "text": [
      "reply: 'HTTP/1.1 200 OK\\r\\n'\n",
      "header: Access-Control-Allow-Credentials: true\n",
      "header: Access-Control-Allow-Methods: DELETE, HEAD, GET, OPTION, POST, PUT\n",
      "header: Access-Control-Expose-Headers: JSESSIONID\n",
      "header: Access-Control-Max-Age: 3600\n",
      "header: BALANCER_NAME: (null)\n",
      "header: BALANCER_ROUTE_CHANGED: 1\n",
      "header: BALANCER_SESSION_ROUTE: (null)\n",
      "header: BALANCER_SESSION_STICKY: (null)\n",
      "header: BALANCER_WORKER_NAME: ajp://pa04.aws.nac.nara.gov:8009/OpaAPI\n",
      "header: BALANCER_WORKER_ROUTE: pa04\n",
      "header: Cache-Control: no-store, no-cache\n",
      "header: Content-Type: image/jpeg;charset=UTF-8\n",
      "header: Date: Mon, 25 Nov 2019 19:03:40 GMT\n",
      "header: hnweb: pw02\n",
      "header: Pragma: no-cache\n",
      "header: Server: Apache\n",
      "header: Strict-Transport-Security: max-age=31536000; includeSubDomains; preload\n",
      "header: transfer-encoding: chunked\n",
      "header: Connection: keep-alive\n"
     ]
    },
    {
     "name": "stderr",
     "output_type": "stream",
     "text": [
      "DEBUG:urllib3.connectionpool:Starting new HTTPS connection (1): catalog.archives.gov:443\n",
      "DEBUG:urllib3.connectionpool:https://catalog.archives.gov:443 \"GET /OpaAPI/media/24407615/content/dc-metro/rg-026/585454/0001-A1/Manning-1914/Manning-1914_0058.JPG HTTP/1.1\" 200 None\n"
     ]
    },
    {
     "name": "stdout",
     "output_type": "stream",
     "text": [
      "send: b'GET /OpaAPI/media/24407615/content/dc-metro/rg-026/585454/0001-A1/Manning-1914/Manning-1914_0058.JPG HTTP/1.1\\r\\nHost: catalog.archives.gov\\r\\nUser-Agent: python-requests/2.22.0\\r\\nAccept-Encoding: gzip, deflate\\r\\nAccept: */*\\r\\nConnection: keep-alive\\r\\n\\r\\n'\n",
      "reply: 'HTTP/1.1 200 OK\\r\\n'\n",
      "header: Access-Control-Allow-Credentials: true\n",
      "header: Access-Control-Allow-Methods: DELETE, HEAD, GET, OPTION, POST, PUT\n",
      "header: Access-Control-Expose-Headers: JSESSIONID\n",
      "header: Access-Control-Max-Age: 3600\n",
      "header: BALANCER_NAME: (null)\n",
      "header: BALANCER_ROUTE_CHANGED: 1\n",
      "header: BALANCER_SESSION_ROUTE: (null)\n",
      "header: BALANCER_SESSION_STICKY: (null)\n",
      "header: BALANCER_WORKER_NAME: ajp://pa04.aws.nac.nara.gov:8009/OpaAPI\n",
      "header: BALANCER_WORKER_ROUTE: pa04\n",
      "header: Cache-Control: no-store, no-cache\n",
      "header: Content-Type: image/jpeg;charset=UTF-8\n",
      "header: Date: Mon, 25 Nov 2019 19:03:42 GMT\n",
      "header: hnweb: pw02\n",
      "header: Pragma: no-cache\n",
      "header: Server: Apache\n",
      "header: Strict-Transport-Security: max-age=31536000; includeSubDomains; preload\n",
      "header: transfer-encoding: chunked\n",
      "header: Connection: keep-alive\n"
     ]
    },
    {
     "name": "stderr",
     "output_type": "stream",
     "text": [
      "DEBUG:urllib3.connectionpool:Starting new HTTPS connection (1): catalog.archives.gov:443\n"
     ]
    },
    {
     "name": "stdout",
     "output_type": "stream",
     "text": [
      "send: b'GET /OpaAPI/media/24407615/content/dc-metro/rg-026/585454/0001-A1/Manning-1914/Manning-1914_0059.JPG HTTP/1.1\\r\\nHost: catalog.archives.gov\\r\\nUser-Agent: python-requests/2.22.0\\r\\nAccept-Encoding: gzip, deflate\\r\\nAccept: */*\\r\\nConnection: keep-alive\\r\\n\\r\\n'\n"
     ]
    },
    {
     "name": "stderr",
     "output_type": "stream",
     "text": [
      "DEBUG:urllib3.connectionpool:https://catalog.archives.gov:443 \"GET /OpaAPI/media/24407615/content/dc-metro/rg-026/585454/0001-A1/Manning-1914/Manning-1914_0059.JPG HTTP/1.1\" 200 None\n"
     ]
    },
    {
     "name": "stdout",
     "output_type": "stream",
     "text": [
      "reply: 'HTTP/1.1 200 OK\\r\\n'\n",
      "header: Access-Control-Allow-Credentials: true\n",
      "header: Access-Control-Allow-Methods: DELETE, HEAD, GET, OPTION, POST, PUT\n",
      "header: Access-Control-Expose-Headers: JSESSIONID\n",
      "header: Access-Control-Max-Age: 3600\n",
      "header: BALANCER_NAME: (null)\n",
      "header: BALANCER_ROUTE_CHANGED: 1\n",
      "header: BALANCER_SESSION_ROUTE: (null)\n",
      "header: BALANCER_SESSION_STICKY: (null)\n",
      "header: BALANCER_WORKER_NAME: ajp://pa04.aws.nac.nara.gov:8009/OpaAPI\n",
      "header: BALANCER_WORKER_ROUTE: pa04\n",
      "header: Cache-Control: no-store, no-cache\n",
      "header: Content-Type: image/jpeg;charset=UTF-8\n",
      "header: Date: Mon, 25 Nov 2019 19:03:43 GMT\n",
      "header: hnweb: pw04\n",
      "header: Pragma: no-cache\n",
      "header: Server: Apache\n",
      "header: Strict-Transport-Security: max-age=31536000; includeSubDomains; preload\n",
      "header: transfer-encoding: chunked\n",
      "header: Connection: keep-alive\n"
     ]
    },
    {
     "name": "stderr",
     "output_type": "stream",
     "text": [
      "DEBUG:urllib3.connectionpool:Starting new HTTPS connection (1): catalog.archives.gov:443\n"
     ]
    },
    {
     "name": "stdout",
     "output_type": "stream",
     "text": [
      "send: b'GET /OpaAPI/media/24407615/content/dc-metro/rg-026/585454/0001-A1/Manning-1914/Manning-1914_0060.JPG HTTP/1.1\\r\\nHost: catalog.archives.gov\\r\\nUser-Agent: python-requests/2.22.0\\r\\nAccept-Encoding: gzip, deflate\\r\\nAccept: */*\\r\\nConnection: keep-alive\\r\\n\\r\\n'\n"
     ]
    },
    {
     "name": "stderr",
     "output_type": "stream",
     "text": [
      "DEBUG:urllib3.connectionpool:https://catalog.archives.gov:443 \"GET /OpaAPI/media/24407615/content/dc-metro/rg-026/585454/0001-A1/Manning-1914/Manning-1914_0060.JPG HTTP/1.1\" 200 None\n"
     ]
    },
    {
     "name": "stdout",
     "output_type": "stream",
     "text": [
      "reply: 'HTTP/1.1 200 OK\\r\\n'\n",
      "header: Access-Control-Allow-Credentials: true\n",
      "header: Access-Control-Allow-Methods: DELETE, HEAD, GET, OPTION, POST, PUT\n",
      "header: Access-Control-Expose-Headers: JSESSIONID\n",
      "header: Access-Control-Max-Age: 3600\n",
      "header: BALANCER_NAME: (null)\n",
      "header: BALANCER_ROUTE_CHANGED: 1\n",
      "header: BALANCER_SESSION_ROUTE: (null)\n",
      "header: BALANCER_SESSION_STICKY: (null)\n",
      "header: BALANCER_WORKER_NAME: ajp://pa03.aws.nac.nara.gov:8009/OpaAPI\n",
      "header: BALANCER_WORKER_ROUTE: pa03\n",
      "header: Cache-Control: no-store, no-cache\n",
      "header: Content-Type: image/jpeg;charset=UTF-8\n",
      "header: Date: Mon, 25 Nov 2019 19:03:44 GMT\n",
      "header: hnweb: pw02\n",
      "header: Pragma: no-cache\n",
      "header: Server: Apache\n",
      "header: Strict-Transport-Security: max-age=31536000; includeSubDomains; preload\n",
      "header: transfer-encoding: chunked\n",
      "header: Connection: keep-alive\n"
     ]
    },
    {
     "name": "stderr",
     "output_type": "stream",
     "text": [
      "DEBUG:urllib3.connectionpool:Starting new HTTPS connection (1): catalog.archives.gov:443\n"
     ]
    },
    {
     "name": "stdout",
     "output_type": "stream",
     "text": [
      "send: b'GET /OpaAPI/media/24407615/content/dc-metro/rg-026/585454/0001-A1/Manning-1914/Manning-1914_0061.JPG HTTP/1.1\\r\\nHost: catalog.archives.gov\\r\\nUser-Agent: python-requests/2.22.0\\r\\nAccept-Encoding: gzip, deflate\\r\\nAccept: */*\\r\\nConnection: keep-alive\\r\\n\\r\\n'\n"
     ]
    },
    {
     "name": "stderr",
     "output_type": "stream",
     "text": [
      "DEBUG:urllib3.connectionpool:https://catalog.archives.gov:443 \"GET /OpaAPI/media/24407615/content/dc-metro/rg-026/585454/0001-A1/Manning-1914/Manning-1914_0061.JPG HTTP/1.1\" 200 None\n"
     ]
    },
    {
     "name": "stdout",
     "output_type": "stream",
     "text": [
      "reply: 'HTTP/1.1 200 OK\\r\\n'\n",
      "header: Access-Control-Allow-Credentials: true\n",
      "header: Access-Control-Allow-Methods: DELETE, HEAD, GET, OPTION, POST, PUT\n",
      "header: Access-Control-Expose-Headers: JSESSIONID\n",
      "header: Access-Control-Max-Age: 3600\n",
      "header: BALANCER_NAME: (null)\n",
      "header: BALANCER_ROUTE_CHANGED: 1\n",
      "header: BALANCER_SESSION_ROUTE: (null)\n",
      "header: BALANCER_SESSION_STICKY: (null)\n",
      "header: BALANCER_WORKER_NAME: ajp://pa03.aws.nac.nara.gov:8009/OpaAPI\n",
      "header: BALANCER_WORKER_ROUTE: pa03\n",
      "header: Cache-Control: no-store, no-cache\n",
      "header: Content-Type: image/jpeg;charset=UTF-8\n",
      "header: Date: Mon, 25 Nov 2019 19:03:46 GMT\n",
      "header: hnweb: pw04\n",
      "header: Pragma: no-cache\n",
      "header: Server: Apache\n",
      "header: Strict-Transport-Security: max-age=31536000; includeSubDomains; preload\n",
      "header: transfer-encoding: chunked\n",
      "header: Connection: keep-alive\n"
     ]
    },
    {
     "name": "stderr",
     "output_type": "stream",
     "text": [
      "DEBUG:urllib3.connectionpool:Starting new HTTPS connection (1): catalog.archives.gov:443\n"
     ]
    },
    {
     "name": "stdout",
     "output_type": "stream",
     "text": [
      "send: b'GET /OpaAPI/media/24407615/content/dc-metro/rg-026/585454/0001-A1/Manning-1914/Manning-1914_0062.JPG HTTP/1.1\\r\\nHost: catalog.archives.gov\\r\\nUser-Agent: python-requests/2.22.0\\r\\nAccept-Encoding: gzip, deflate\\r\\nAccept: */*\\r\\nConnection: keep-alive\\r\\n\\r\\n'\n"
     ]
    },
    {
     "name": "stderr",
     "output_type": "stream",
     "text": [
      "DEBUG:urllib3.connectionpool:https://catalog.archives.gov:443 \"GET /OpaAPI/media/24407615/content/dc-metro/rg-026/585454/0001-A1/Manning-1914/Manning-1914_0062.JPG HTTP/1.1\" 200 None\n"
     ]
    },
    {
     "name": "stdout",
     "output_type": "stream",
     "text": [
      "reply: 'HTTP/1.1 200 OK\\r\\n'\n",
      "header: Access-Control-Allow-Credentials: true\n",
      "header: Access-Control-Allow-Methods: DELETE, HEAD, GET, OPTION, POST, PUT\n",
      "header: Access-Control-Expose-Headers: JSESSIONID\n",
      "header: Access-Control-Max-Age: 3600\n",
      "header: BALANCER_NAME: (null)\n",
      "header: BALANCER_ROUTE_CHANGED: 1\n",
      "header: BALANCER_SESSION_ROUTE: (null)\n",
      "header: BALANCER_SESSION_STICKY: (null)\n",
      "header: BALANCER_WORKER_NAME: ajp://pa03.aws.nac.nara.gov:8009/OpaAPI\n",
      "header: BALANCER_WORKER_ROUTE: pa03\n",
      "header: Cache-Control: no-store, no-cache\n",
      "header: Content-Type: image/jpeg;charset=UTF-8\n",
      "header: Date: Mon, 25 Nov 2019 19:03:47 GMT\n",
      "header: hnweb: pw04\n",
      "header: Pragma: no-cache\n",
      "header: Server: Apache\n",
      "header: Strict-Transport-Security: max-age=31536000; includeSubDomains; preload\n",
      "header: transfer-encoding: chunked\n",
      "header: Connection: keep-alive\n"
     ]
    },
    {
     "name": "stderr",
     "output_type": "stream",
     "text": [
      "DEBUG:urllib3.connectionpool:Starting new HTTPS connection (1): catalog.archives.gov:443\n"
     ]
    },
    {
     "name": "stdout",
     "output_type": "stream",
     "text": [
      "send: b'GET /OpaAPI/media/24407615/content/dc-metro/rg-026/585454/0001-A1/Manning-1914/Manning-1914_0063.JPG HTTP/1.1\\r\\nHost: catalog.archives.gov\\r\\nUser-Agent: python-requests/2.22.0\\r\\nAccept-Encoding: gzip, deflate\\r\\nAccept: */*\\r\\nConnection: keep-alive\\r\\n\\r\\n'\n"
     ]
    },
    {
     "name": "stderr",
     "output_type": "stream",
     "text": [
      "DEBUG:urllib3.connectionpool:https://catalog.archives.gov:443 \"GET /OpaAPI/media/24407615/content/dc-metro/rg-026/585454/0001-A1/Manning-1914/Manning-1914_0063.JPG HTTP/1.1\" 200 None\n"
     ]
    },
    {
     "name": "stdout",
     "output_type": "stream",
     "text": [
      "reply: 'HTTP/1.1 200 OK\\r\\n'\n",
      "header: Access-Control-Allow-Credentials: true\n",
      "header: Access-Control-Allow-Methods: DELETE, HEAD, GET, OPTION, POST, PUT\n",
      "header: Access-Control-Expose-Headers: JSESSIONID\n",
      "header: Access-Control-Max-Age: 3600\n",
      "header: BALANCER_NAME: (null)\n",
      "header: BALANCER_ROUTE_CHANGED: 1\n",
      "header: BALANCER_SESSION_ROUTE: (null)\n",
      "header: BALANCER_SESSION_STICKY: (null)\n",
      "header: BALANCER_WORKER_NAME: ajp://pa01.aws.nac.nara.gov:8009/OpaAPI\n",
      "header: BALANCER_WORKER_ROUTE: pa01\n",
      "header: Cache-Control: no-store, no-cache\n",
      "header: Content-Type: image/jpeg;charset=UTF-8\n",
      "header: Date: Mon, 25 Nov 2019 19:03:48 GMT\n",
      "header: hnweb: pw01\n",
      "header: Pragma: no-cache\n",
      "header: Server: Apache/2.4.6 (Red Hat)\n",
      "header: Strict-Transport-Security: max-age=31536000; includeSubDomains; preload\n",
      "header: transfer-encoding: chunked\n",
      "header: Connection: keep-alive\n"
     ]
    },
    {
     "name": "stderr",
     "output_type": "stream",
     "text": [
      "DEBUG:urllib3.connectionpool:Starting new HTTPS connection (1): catalog.archives.gov:443\n"
     ]
    },
    {
     "name": "stdout",
     "output_type": "stream",
     "text": [
      "send: b'GET /OpaAPI/media/24407615/content/dc-metro/rg-026/585454/0001-A1/Manning-1914/Manning-1914_0064.JPG HTTP/1.1\\r\\nHost: catalog.archives.gov\\r\\nUser-Agent: python-requests/2.22.0\\r\\nAccept-Encoding: gzip, deflate\\r\\nAccept: */*\\r\\nConnection: keep-alive\\r\\n\\r\\n'\n"
     ]
    },
    {
     "name": "stderr",
     "output_type": "stream",
     "text": [
      "DEBUG:urllib3.connectionpool:https://catalog.archives.gov:443 \"GET /OpaAPI/media/24407615/content/dc-metro/rg-026/585454/0001-A1/Manning-1914/Manning-1914_0064.JPG HTTP/1.1\" 200 None\n"
     ]
    },
    {
     "name": "stdout",
     "output_type": "stream",
     "text": [
      "reply: 'HTTP/1.1 200 OK\\r\\n'\n",
      "header: Access-Control-Allow-Credentials: true\n",
      "header: Access-Control-Allow-Methods: DELETE, HEAD, GET, OPTION, POST, PUT\n",
      "header: Access-Control-Expose-Headers: JSESSIONID\n",
      "header: Access-Control-Max-Age: 3600\n",
      "header: BALANCER_NAME: (null)\n",
      "header: BALANCER_ROUTE_CHANGED: 1\n",
      "header: BALANCER_SESSION_ROUTE: (null)\n",
      "header: BALANCER_SESSION_STICKY: (null)\n",
      "header: BALANCER_WORKER_NAME: ajp://pa01.aws.nac.nara.gov:8009/OpaAPI\n",
      "header: BALANCER_WORKER_ROUTE: pa01\n",
      "header: Cache-Control: no-store, no-cache\n",
      "header: Content-Type: image/jpeg;charset=UTF-8\n",
      "header: Date: Mon, 25 Nov 2019 19:03:50 GMT\n",
      "header: hnweb: pw01\n",
      "header: Pragma: no-cache\n",
      "header: Server: Apache/2.4.6 (Red Hat)\n",
      "header: Strict-Transport-Security: max-age=31536000; includeSubDomains; preload\n",
      "header: transfer-encoding: chunked\n",
      "header: Connection: keep-alive\n"
     ]
    },
    {
     "name": "stderr",
     "output_type": "stream",
     "text": [
      "DEBUG:urllib3.connectionpool:Starting new HTTPS connection (1): catalog.archives.gov:443\n",
      "DEBUG:urllib3.connectionpool:https://catalog.archives.gov:443 \"GET /OpaAPI/media/24407615/content/dc-metro/rg-026/585454/0001-A1/Manning-1914/Manning-1914_0065.JPG HTTP/1.1\" 200 None\n"
     ]
    },
    {
     "name": "stdout",
     "output_type": "stream",
     "text": [
      "send: b'GET /OpaAPI/media/24407615/content/dc-metro/rg-026/585454/0001-A1/Manning-1914/Manning-1914_0065.JPG HTTP/1.1\\r\\nHost: catalog.archives.gov\\r\\nUser-Agent: python-requests/2.22.0\\r\\nAccept-Encoding: gzip, deflate\\r\\nAccept: */*\\r\\nConnection: keep-alive\\r\\n\\r\\n'\n",
      "reply: 'HTTP/1.1 200 OK\\r\\n'\n",
      "header: Access-Control-Allow-Credentials: true\n",
      "header: Access-Control-Allow-Methods: DELETE, HEAD, GET, OPTION, POST, PUT\n",
      "header: Access-Control-Expose-Headers: JSESSIONID\n",
      "header: Access-Control-Max-Age: 3600\n",
      "header: BALANCER_NAME: (null)\n",
      "header: BALANCER_ROUTE_CHANGED: 1\n",
      "header: BALANCER_SESSION_ROUTE: (null)\n",
      "header: BALANCER_SESSION_STICKY: (null)\n",
      "header: BALANCER_WORKER_NAME: ajp://pa01.aws.nac.nara.gov:8009/OpaAPI\n",
      "header: BALANCER_WORKER_ROUTE: pa01\n",
      "header: Cache-Control: no-store, no-cache\n",
      "header: Content-Type: image/jpeg;charset=UTF-8\n",
      "header: Date: Mon, 25 Nov 2019 19:03:51 GMT\n",
      "header: hnweb: pw03\n",
      "header: Pragma: no-cache\n",
      "header: Server: Apache/2.4.6 (Red Hat)\n",
      "header: Strict-Transport-Security: max-age=31536000; includeSubDomains; preload\n",
      "header: transfer-encoding: chunked\n",
      "header: Connection: keep-alive\n"
     ]
    },
    {
     "name": "stderr",
     "output_type": "stream",
     "text": [
      "DEBUG:urllib3.connectionpool:Starting new HTTPS connection (1): catalog.archives.gov:443\n"
     ]
    },
    {
     "name": "stdout",
     "output_type": "stream",
     "text": [
      "send: b'GET /OpaAPI/media/24407615/content/dc-metro/rg-026/585454/0001-A1/Manning-1914/Manning-1914_0066.JPG HTTP/1.1\\r\\nHost: catalog.archives.gov\\r\\nUser-Agent: python-requests/2.22.0\\r\\nAccept-Encoding: gzip, deflate\\r\\nAccept: */*\\r\\nConnection: keep-alive\\r\\n\\r\\n'\n"
     ]
    },
    {
     "name": "stderr",
     "output_type": "stream",
     "text": [
      "DEBUG:urllib3.connectionpool:https://catalog.archives.gov:443 \"GET /OpaAPI/media/24407615/content/dc-metro/rg-026/585454/0001-A1/Manning-1914/Manning-1914_0066.JPG HTTP/1.1\" 200 None\n"
     ]
    },
    {
     "name": "stdout",
     "output_type": "stream",
     "text": [
      "reply: 'HTTP/1.1 200 OK\\r\\n'\n",
      "header: Access-Control-Allow-Credentials: true\n",
      "header: Access-Control-Allow-Methods: DELETE, HEAD, GET, OPTION, POST, PUT\n",
      "header: Access-Control-Expose-Headers: JSESSIONID\n",
      "header: Access-Control-Max-Age: 3600\n",
      "header: BALANCER_NAME: (null)\n",
      "header: BALANCER_ROUTE_CHANGED: 1\n",
      "header: BALANCER_SESSION_ROUTE: (null)\n",
      "header: BALANCER_SESSION_STICKY: (null)\n",
      "header: BALANCER_WORKER_NAME: ajp://pa01.aws.nac.nara.gov:8009/OpaAPI\n",
      "header: BALANCER_WORKER_ROUTE: pa01\n",
      "header: Cache-Control: no-store, no-cache\n",
      "header: Content-Type: image/jpeg;charset=UTF-8\n",
      "header: Date: Mon, 25 Nov 2019 19:03:53 GMT\n",
      "header: hnweb: pw04\n",
      "header: Pragma: no-cache\n",
      "header: Server: Apache\n",
      "header: Strict-Transport-Security: max-age=31536000; includeSubDomains; preload\n",
      "header: transfer-encoding: chunked\n",
      "header: Connection: keep-alive\n"
     ]
    },
    {
     "name": "stderr",
     "output_type": "stream",
     "text": [
      "DEBUG:urllib3.connectionpool:Starting new HTTPS connection (1): catalog.archives.gov:443\n"
     ]
    },
    {
     "name": "stdout",
     "output_type": "stream",
     "text": [
      "send: b'GET /OpaAPI/media/24407615/content/dc-metro/rg-026/585454/0001-A1/Manning-1914/Manning-1914_0067.JPG HTTP/1.1\\r\\nHost: catalog.archives.gov\\r\\nUser-Agent: python-requests/2.22.0\\r\\nAccept-Encoding: gzip, deflate\\r\\nAccept: */*\\r\\nConnection: keep-alive\\r\\n\\r\\n'\n"
     ]
    },
    {
     "name": "stderr",
     "output_type": "stream",
     "text": [
      "DEBUG:urllib3.connectionpool:https://catalog.archives.gov:443 \"GET /OpaAPI/media/24407615/content/dc-metro/rg-026/585454/0001-A1/Manning-1914/Manning-1914_0067.JPG HTTP/1.1\" 200 None\n"
     ]
    },
    {
     "name": "stdout",
     "output_type": "stream",
     "text": [
      "reply: 'HTTP/1.1 200 OK\\r\\n'\n",
      "header: Access-Control-Allow-Credentials: true\n",
      "header: Access-Control-Allow-Methods: DELETE, HEAD, GET, OPTION, POST, PUT\n",
      "header: Access-Control-Expose-Headers: JSESSIONID\n",
      "header: Access-Control-Max-Age: 3600\n",
      "header: BALANCER_NAME: (null)\n",
      "header: BALANCER_ROUTE_CHANGED: 1\n",
      "header: BALANCER_SESSION_ROUTE: (null)\n",
      "header: BALANCER_SESSION_STICKY: (null)\n",
      "header: BALANCER_WORKER_NAME: ajp://pa01.aws.nac.nara.gov:8009/OpaAPI\n",
      "header: BALANCER_WORKER_ROUTE: pa01\n",
      "header: Cache-Control: no-store, no-cache\n",
      "header: Content-Type: image/jpeg;charset=UTF-8\n",
      "header: Date: Mon, 25 Nov 2019 19:03:54 GMT\n",
      "header: hnweb: pw02\n",
      "header: Pragma: no-cache\n",
      "header: Server: Apache\n",
      "header: Strict-Transport-Security: max-age=31536000; includeSubDomains; preload\n",
      "header: transfer-encoding: chunked\n",
      "header: Connection: keep-alive\n"
     ]
    },
    {
     "name": "stderr",
     "output_type": "stream",
     "text": [
      "DEBUG:urllib3.connectionpool:Starting new HTTPS connection (1): catalog.archives.gov:443\n"
     ]
    },
    {
     "name": "stdout",
     "output_type": "stream",
     "text": [
      "send: b'GET /OpaAPI/media/24407615/content/dc-metro/rg-026/585454/0001-A1/Manning-1914/Manning-1914_0068.JPG HTTP/1.1\\r\\nHost: catalog.archives.gov\\r\\nUser-Agent: python-requests/2.22.0\\r\\nAccept-Encoding: gzip, deflate\\r\\nAccept: */*\\r\\nConnection: keep-alive\\r\\n\\r\\n'\n"
     ]
    },
    {
     "name": "stderr",
     "output_type": "stream",
     "text": [
      "DEBUG:urllib3.connectionpool:https://catalog.archives.gov:443 \"GET /OpaAPI/media/24407615/content/dc-metro/rg-026/585454/0001-A1/Manning-1914/Manning-1914_0068.JPG HTTP/1.1\" 200 None\n"
     ]
    },
    {
     "name": "stdout",
     "output_type": "stream",
     "text": [
      "reply: 'HTTP/1.1 200 OK\\r\\n'\n",
      "header: Access-Control-Allow-Credentials: true\n",
      "header: Access-Control-Allow-Methods: DELETE, HEAD, GET, OPTION, POST, PUT\n",
      "header: Access-Control-Expose-Headers: JSESSIONID\n",
      "header: Access-Control-Max-Age: 3600\n",
      "header: BALANCER_NAME: (null)\n",
      "header: BALANCER_ROUTE_CHANGED: 1\n",
      "header: BALANCER_SESSION_ROUTE: (null)\n",
      "header: BALANCER_SESSION_STICKY: (null)\n",
      "header: BALANCER_WORKER_NAME: ajp://pa02.aws.nac.nara.gov:8009/OpaAPI\n",
      "header: BALANCER_WORKER_ROUTE: pa02\n",
      "header: Cache-Control: no-store, no-cache\n",
      "header: Content-Type: image/jpeg;charset=UTF-8\n",
      "header: Date: Mon, 25 Nov 2019 19:03:56 GMT\n",
      "header: hnweb: pw04\n",
      "header: Pragma: no-cache\n",
      "header: Server: Apache\n",
      "header: Strict-Transport-Security: max-age=31536000; includeSubDomains; preload\n",
      "header: transfer-encoding: chunked\n",
      "header: Connection: keep-alive\n"
     ]
    },
    {
     "name": "stderr",
     "output_type": "stream",
     "text": [
      "DEBUG:urllib3.connectionpool:Starting new HTTPS connection (1): catalog.archives.gov:443\n"
     ]
    },
    {
     "name": "stdout",
     "output_type": "stream",
     "text": [
      "send: b'GET /OpaAPI/media/24407615/content/dc-metro/rg-026/585454/0001-A1/Manning-1914/Manning-1914_0069.JPG HTTP/1.1\\r\\nHost: catalog.archives.gov\\r\\nUser-Agent: python-requests/2.22.0\\r\\nAccept-Encoding: gzip, deflate\\r\\nAccept: */*\\r\\nConnection: keep-alive\\r\\n\\r\\n'\n"
     ]
    },
    {
     "name": "stderr",
     "output_type": "stream",
     "text": [
      "DEBUG:urllib3.connectionpool:https://catalog.archives.gov:443 \"GET /OpaAPI/media/24407615/content/dc-metro/rg-026/585454/0001-A1/Manning-1914/Manning-1914_0069.JPG HTTP/1.1\" 200 None\n"
     ]
    },
    {
     "name": "stdout",
     "output_type": "stream",
     "text": [
      "reply: 'HTTP/1.1 200 OK\\r\\n'\n",
      "header: Access-Control-Allow-Credentials: true\n",
      "header: Access-Control-Allow-Methods: DELETE, HEAD, GET, OPTION, POST, PUT\n",
      "header: Access-Control-Expose-Headers: JSESSIONID\n",
      "header: Access-Control-Max-Age: 3600\n",
      "header: BALANCER_NAME: (null)\n",
      "header: BALANCER_ROUTE_CHANGED: 1\n",
      "header: BALANCER_SESSION_ROUTE: (null)\n",
      "header: BALANCER_SESSION_STICKY: (null)\n",
      "header: BALANCER_WORKER_NAME: ajp://pa01.aws.nac.nara.gov:8009/OpaAPI\n",
      "header: BALANCER_WORKER_ROUTE: pa01\n",
      "header: Cache-Control: no-store, no-cache\n",
      "header: Content-Type: image/jpeg;charset=UTF-8\n",
      "header: Date: Mon, 25 Nov 2019 19:03:57 GMT\n",
      "header: hnweb: pw02\n",
      "header: Pragma: no-cache\n",
      "header: Server: Apache\n",
      "header: Strict-Transport-Security: max-age=31536000; includeSubDomains; preload\n",
      "header: transfer-encoding: chunked\n",
      "header: Connection: keep-alive\n"
     ]
    },
    {
     "name": "stderr",
     "output_type": "stream",
     "text": [
      "DEBUG:urllib3.connectionpool:Starting new HTTPS connection (1): catalog.archives.gov:443\n"
     ]
    },
    {
     "name": "stdout",
     "output_type": "stream",
     "text": [
      "send: b'GET /OpaAPI/media/24407615/content/dc-metro/rg-026/585454/0001-A1/Manning-1914/Manning-1914_0070.JPG HTTP/1.1\\r\\nHost: catalog.archives.gov\\r\\nUser-Agent: python-requests/2.22.0\\r\\nAccept-Encoding: gzip, deflate\\r\\nAccept: */*\\r\\nConnection: keep-alive\\r\\n\\r\\n'\n"
     ]
    },
    {
     "name": "stderr",
     "output_type": "stream",
     "text": [
      "DEBUG:urllib3.connectionpool:https://catalog.archives.gov:443 \"GET /OpaAPI/media/24407615/content/dc-metro/rg-026/585454/0001-A1/Manning-1914/Manning-1914_0070.JPG HTTP/1.1\" 200 None\n"
     ]
    },
    {
     "name": "stdout",
     "output_type": "stream",
     "text": [
      "reply: 'HTTP/1.1 200 OK\\r\\n'\n",
      "header: Access-Control-Allow-Credentials: true\n",
      "header: Access-Control-Allow-Methods: DELETE, HEAD, GET, OPTION, POST, PUT\n",
      "header: Access-Control-Expose-Headers: JSESSIONID\n",
      "header: Access-Control-Max-Age: 3600\n",
      "header: BALANCER_NAME: (null)\n",
      "header: BALANCER_ROUTE_CHANGED: 1\n",
      "header: BALANCER_SESSION_ROUTE: (null)\n",
      "header: BALANCER_SESSION_STICKY: (null)\n",
      "header: BALANCER_WORKER_NAME: ajp://pa01.aws.nac.nara.gov:8009/OpaAPI\n",
      "header: BALANCER_WORKER_ROUTE: pa01\n",
      "header: Cache-Control: no-store, no-cache\n",
      "header: Content-Type: image/jpeg;charset=UTF-8\n",
      "header: Date: Mon, 25 Nov 2019 19:03:58 GMT\n",
      "header: hnweb: pw02\n",
      "header: Pragma: no-cache\n",
      "header: Server: Apache\n",
      "header: Strict-Transport-Security: max-age=31536000; includeSubDomains; preload\n",
      "header: transfer-encoding: chunked\n",
      "header: Connection: keep-alive\n"
     ]
    },
    {
     "name": "stderr",
     "output_type": "stream",
     "text": [
      "DEBUG:urllib3.connectionpool:Starting new HTTPS connection (1): catalog.archives.gov:443\n"
     ]
    },
    {
     "name": "stdout",
     "output_type": "stream",
     "text": [
      "send: b'GET /OpaAPI/media/24407615/content/dc-metro/rg-026/585454/0001-A1/Manning-1914/Manning-1914_0071.JPG HTTP/1.1\\r\\nHost: catalog.archives.gov\\r\\nUser-Agent: python-requests/2.22.0\\r\\nAccept-Encoding: gzip, deflate\\r\\nAccept: */*\\r\\nConnection: keep-alive\\r\\n\\r\\n'\n"
     ]
    },
    {
     "name": "stderr",
     "output_type": "stream",
     "text": [
      "DEBUG:urllib3.connectionpool:https://catalog.archives.gov:443 \"GET /OpaAPI/media/24407615/content/dc-metro/rg-026/585454/0001-A1/Manning-1914/Manning-1914_0071.JPG HTTP/1.1\" 200 None\n"
     ]
    },
    {
     "name": "stdout",
     "output_type": "stream",
     "text": [
      "reply: 'HTTP/1.1 200 OK\\r\\n'\n",
      "header: Access-Control-Allow-Credentials: true\n",
      "header: Access-Control-Allow-Methods: DELETE, HEAD, GET, OPTION, POST, PUT\n",
      "header: Access-Control-Expose-Headers: JSESSIONID\n",
      "header: Access-Control-Max-Age: 3600\n",
      "header: BALANCER_NAME: (null)\n",
      "header: BALANCER_ROUTE_CHANGED: 1\n",
      "header: BALANCER_SESSION_ROUTE: (null)\n",
      "header: BALANCER_SESSION_STICKY: (null)\n",
      "header: BALANCER_WORKER_NAME: ajp://pa01.aws.nac.nara.gov:8009/OpaAPI\n",
      "header: BALANCER_WORKER_ROUTE: pa01\n",
      "header: Cache-Control: no-store, no-cache\n",
      "header: Content-Type: image/jpeg;charset=UTF-8\n",
      "header: Date: Mon, 25 Nov 2019 19:04:00 GMT\n",
      "header: hnweb: pw04\n",
      "header: Pragma: no-cache\n",
      "header: Server: Apache\n",
      "header: Strict-Transport-Security: max-age=31536000; includeSubDomains; preload\n",
      "header: transfer-encoding: chunked\n",
      "header: Connection: keep-alive\n"
     ]
    },
    {
     "name": "stderr",
     "output_type": "stream",
     "text": [
      "DEBUG:urllib3.connectionpool:Starting new HTTPS connection (1): catalog.archives.gov:443\n"
     ]
    },
    {
     "name": "stdout",
     "output_type": "stream",
     "text": [
      "send: b'GET /OpaAPI/media/24407615/content/dc-metro/rg-026/585454/0001-A1/Manning-1914/Manning-1914_0072.JPG HTTP/1.1\\r\\nHost: catalog.archives.gov\\r\\nUser-Agent: python-requests/2.22.0\\r\\nAccept-Encoding: gzip, deflate\\r\\nAccept: */*\\r\\nConnection: keep-alive\\r\\n\\r\\n'\n"
     ]
    },
    {
     "name": "stderr",
     "output_type": "stream",
     "text": [
      "DEBUG:urllib3.connectionpool:https://catalog.archives.gov:443 \"GET /OpaAPI/media/24407615/content/dc-metro/rg-026/585454/0001-A1/Manning-1914/Manning-1914_0072.JPG HTTP/1.1\" 200 None\n"
     ]
    },
    {
     "name": "stdout",
     "output_type": "stream",
     "text": [
      "reply: 'HTTP/1.1 200 OK\\r\\n'\n",
      "header: Access-Control-Allow-Credentials: true\n",
      "header: Access-Control-Allow-Methods: DELETE, HEAD, GET, OPTION, POST, PUT\n",
      "header: Access-Control-Expose-Headers: JSESSIONID\n",
      "header: Access-Control-Max-Age: 3600\n",
      "header: BALANCER_NAME: (null)\n",
      "header: BALANCER_ROUTE_CHANGED: 1\n",
      "header: BALANCER_SESSION_ROUTE: (null)\n",
      "header: BALANCER_SESSION_STICKY: (null)\n",
      "header: BALANCER_WORKER_NAME: ajp://pa01.aws.nac.nara.gov:8009/OpaAPI\n",
      "header: BALANCER_WORKER_ROUTE: pa01\n",
      "header: Cache-Control: no-store, no-cache\n",
      "header: Content-Type: image/jpeg;charset=UTF-8\n",
      "header: Date: Mon, 25 Nov 2019 19:04:01 GMT\n",
      "header: hnweb: pw02\n",
      "header: Pragma: no-cache\n",
      "header: Server: Apache\n",
      "header: Strict-Transport-Security: max-age=31536000; includeSubDomains; preload\n",
      "header: transfer-encoding: chunked\n",
      "header: Connection: keep-alive\n"
     ]
    },
    {
     "name": "stderr",
     "output_type": "stream",
     "text": [
      "DEBUG:urllib3.connectionpool:Starting new HTTPS connection (1): catalog.archives.gov:443\n"
     ]
    },
    {
     "name": "stdout",
     "output_type": "stream",
     "text": [
      "send: b'GET /OpaAPI/media/24407615/content/dc-metro/rg-026/585454/0001-A1/Manning-1914/Manning-1914_0073.JPG HTTP/1.1\\r\\nHost: catalog.archives.gov\\r\\nUser-Agent: python-requests/2.22.0\\r\\nAccept-Encoding: gzip, deflate\\r\\nAccept: */*\\r\\nConnection: keep-alive\\r\\n\\r\\n'\n"
     ]
    },
    {
     "name": "stderr",
     "output_type": "stream",
     "text": [
      "DEBUG:urllib3.connectionpool:https://catalog.archives.gov:443 \"GET /OpaAPI/media/24407615/content/dc-metro/rg-026/585454/0001-A1/Manning-1914/Manning-1914_0073.JPG HTTP/1.1\" 200 None\n"
     ]
    },
    {
     "name": "stdout",
     "output_type": "stream",
     "text": [
      "reply: 'HTTP/1.1 200 OK\\r\\n'\n",
      "header: Access-Control-Allow-Credentials: true\n",
      "header: Access-Control-Allow-Methods: DELETE, HEAD, GET, OPTION, POST, PUT\n",
      "header: Access-Control-Expose-Headers: JSESSIONID\n",
      "header: Access-Control-Max-Age: 3600\n",
      "header: BALANCER_NAME: (null)\n",
      "header: BALANCER_ROUTE_CHANGED: 1\n",
      "header: BALANCER_SESSION_ROUTE: (null)\n",
      "header: BALANCER_SESSION_STICKY: (null)\n",
      "header: BALANCER_WORKER_NAME: ajp://pa02.aws.nac.nara.gov:8009/OpaAPI\n",
      "header: BALANCER_WORKER_ROUTE: pa02\n",
      "header: Cache-Control: no-store, no-cache\n",
      "header: Content-Type: image/jpeg;charset=UTF-8\n",
      "header: Date: Mon, 25 Nov 2019 19:04:03 GMT\n",
      "header: hnweb: pw03\n",
      "header: Pragma: no-cache\n",
      "header: Server: Apache/2.4.6 (Red Hat)\n",
      "header: Strict-Transport-Security: max-age=31536000; includeSubDomains; preload\n",
      "header: transfer-encoding: chunked\n",
      "header: Connection: keep-alive\n"
     ]
    },
    {
     "name": "stderr",
     "output_type": "stream",
     "text": [
      "DEBUG:urllib3.connectionpool:Starting new HTTPS connection (1): catalog.archives.gov:443\n"
     ]
    },
    {
     "name": "stdout",
     "output_type": "stream",
     "text": [
      "send: b'GET /OpaAPI/media/24407615/content/dc-metro/rg-026/585454/0001-A1/Manning-1914/Manning-1914_0074.JPG HTTP/1.1\\r\\nHost: catalog.archives.gov\\r\\nUser-Agent: python-requests/2.22.0\\r\\nAccept-Encoding: gzip, deflate\\r\\nAccept: */*\\r\\nConnection: keep-alive\\r\\n\\r\\n'\n"
     ]
    },
    {
     "name": "stderr",
     "output_type": "stream",
     "text": [
      "DEBUG:urllib3.connectionpool:https://catalog.archives.gov:443 \"GET /OpaAPI/media/24407615/content/dc-metro/rg-026/585454/0001-A1/Manning-1914/Manning-1914_0074.JPG HTTP/1.1\" 200 None\n"
     ]
    },
    {
     "name": "stdout",
     "output_type": "stream",
     "text": [
      "reply: 'HTTP/1.1 200 OK\\r\\n'\n",
      "header: Access-Control-Allow-Credentials: true\n",
      "header: Access-Control-Allow-Methods: DELETE, HEAD, GET, OPTION, POST, PUT\n",
      "header: Access-Control-Expose-Headers: JSESSIONID\n",
      "header: Access-Control-Max-Age: 3600\n",
      "header: BALANCER_NAME: (null)\n",
      "header: BALANCER_ROUTE_CHANGED: 1\n",
      "header: BALANCER_SESSION_ROUTE: (null)\n",
      "header: BALANCER_SESSION_STICKY: (null)\n",
      "header: BALANCER_WORKER_NAME: ajp://pa03.aws.nac.nara.gov:8009/OpaAPI\n",
      "header: BALANCER_WORKER_ROUTE: pa03\n",
      "header: Cache-Control: no-store, no-cache\n",
      "header: Content-Type: image/jpeg;charset=UTF-8\n",
      "header: Date: Mon, 25 Nov 2019 19:04:05 GMT\n",
      "header: hnweb: pw04\n",
      "header: Pragma: no-cache\n",
      "header: Server: Apache\n",
      "header: Strict-Transport-Security: max-age=31536000; includeSubDomains; preload\n",
      "header: transfer-encoding: chunked\n",
      "header: Connection: keep-alive\n"
     ]
    },
    {
     "name": "stderr",
     "output_type": "stream",
     "text": [
      "DEBUG:urllib3.connectionpool:Starting new HTTPS connection (1): catalog.archives.gov:443\n"
     ]
    },
    {
     "name": "stdout",
     "output_type": "stream",
     "text": [
      "send: b'GET /OpaAPI/media/24407615/content/dc-metro/rg-026/585454/0001-A1/Manning-1914/Manning-1914_0075.JPG HTTP/1.1\\r\\nHost: catalog.archives.gov\\r\\nUser-Agent: python-requests/2.22.0\\r\\nAccept-Encoding: gzip, deflate\\r\\nAccept: */*\\r\\nConnection: keep-alive\\r\\n\\r\\n'\n"
     ]
    },
    {
     "name": "stderr",
     "output_type": "stream",
     "text": [
      "DEBUG:urllib3.connectionpool:https://catalog.archives.gov:443 \"GET /OpaAPI/media/24407615/content/dc-metro/rg-026/585454/0001-A1/Manning-1914/Manning-1914_0075.JPG HTTP/1.1\" 200 None\n"
     ]
    },
    {
     "name": "stdout",
     "output_type": "stream",
     "text": [
      "reply: 'HTTP/1.1 200 OK\\r\\n'\n",
      "header: Access-Control-Allow-Credentials: true\n",
      "header: Access-Control-Allow-Methods: DELETE, HEAD, GET, OPTION, POST, PUT\n",
      "header: Access-Control-Expose-Headers: JSESSIONID\n",
      "header: Access-Control-Max-Age: 3600\n",
      "header: BALANCER_NAME: (null)\n",
      "header: BALANCER_ROUTE_CHANGED: 1\n",
      "header: BALANCER_SESSION_ROUTE: (null)\n",
      "header: BALANCER_SESSION_STICKY: (null)\n",
      "header: BALANCER_WORKER_NAME: ajp://pa01.aws.nac.nara.gov:8009/OpaAPI\n",
      "header: BALANCER_WORKER_ROUTE: pa01\n",
      "header: Cache-Control: no-store, no-cache\n",
      "header: Content-Type: image/jpeg;charset=UTF-8\n",
      "header: Date: Mon, 25 Nov 2019 19:04:06 GMT\n",
      "header: hnweb: pw03\n",
      "header: Pragma: no-cache\n",
      "header: Server: Apache/2.4.6 (Red Hat)\n",
      "header: Strict-Transport-Security: max-age=31536000; includeSubDomains; preload\n",
      "header: transfer-encoding: chunked\n",
      "header: Connection: keep-alive\n"
     ]
    },
    {
     "name": "stderr",
     "output_type": "stream",
     "text": [
      "DEBUG:urllib3.connectionpool:Starting new HTTPS connection (1): catalog.archives.gov:443\n"
     ]
    },
    {
     "name": "stdout",
     "output_type": "stream",
     "text": [
      "send: b'GET /OpaAPI/media/24407615/content/dc-metro/rg-026/585454/0001-A1/Manning-1914/Manning-1914_0076.JPG HTTP/1.1\\r\\nHost: catalog.archives.gov\\r\\nUser-Agent: python-requests/2.22.0\\r\\nAccept-Encoding: gzip, deflate\\r\\nAccept: */*\\r\\nConnection: keep-alive\\r\\n\\r\\n'\n"
     ]
    },
    {
     "name": "stderr",
     "output_type": "stream",
     "text": [
      "DEBUG:urllib3.connectionpool:https://catalog.archives.gov:443 \"GET /OpaAPI/media/24407615/content/dc-metro/rg-026/585454/0001-A1/Manning-1914/Manning-1914_0076.JPG HTTP/1.1\" 200 None\n"
     ]
    },
    {
     "name": "stdout",
     "output_type": "stream",
     "text": [
      "reply: 'HTTP/1.1 200 OK\\r\\n'\n",
      "header: Access-Control-Allow-Credentials: true\n",
      "header: Access-Control-Allow-Methods: DELETE, HEAD, GET, OPTION, POST, PUT\n",
      "header: Access-Control-Expose-Headers: JSESSIONID\n",
      "header: Access-Control-Max-Age: 3600\n",
      "header: BALANCER_NAME: (null)\n",
      "header: BALANCER_ROUTE_CHANGED: 1\n",
      "header: BALANCER_SESSION_ROUTE: (null)\n",
      "header: BALANCER_SESSION_STICKY: (null)\n",
      "header: BALANCER_WORKER_NAME: ajp://pa02.aws.nac.nara.gov:8009/OpaAPI\n",
      "header: BALANCER_WORKER_ROUTE: pa02\n",
      "header: Cache-Control: no-store, no-cache\n",
      "header: Content-Type: image/jpeg;charset=UTF-8\n",
      "header: Date: Mon, 25 Nov 2019 19:04:07 GMT\n",
      "header: hnweb: pw03\n",
      "header: Pragma: no-cache\n",
      "header: Server: Apache/2.4.6 (Red Hat)\n",
      "header: Strict-Transport-Security: max-age=31536000; includeSubDomains; preload\n",
      "header: transfer-encoding: chunked\n",
      "header: Connection: keep-alive\n"
     ]
    },
    {
     "name": "stderr",
     "output_type": "stream",
     "text": [
      "DEBUG:urllib3.connectionpool:Starting new HTTPS connection (1): catalog.archives.gov:443\n"
     ]
    },
    {
     "name": "stdout",
     "output_type": "stream",
     "text": [
      "send: b'GET /OpaAPI/media/24407615/content/dc-metro/rg-026/585454/0001-A1/Manning-1914/Manning-1914_0077.JPG HTTP/1.1\\r\\nHost: catalog.archives.gov\\r\\nUser-Agent: python-requests/2.22.0\\r\\nAccept-Encoding: gzip, deflate\\r\\nAccept: */*\\r\\nConnection: keep-alive\\r\\n\\r\\n'\n"
     ]
    },
    {
     "name": "stderr",
     "output_type": "stream",
     "text": [
      "DEBUG:urllib3.connectionpool:https://catalog.archives.gov:443 \"GET /OpaAPI/media/24407615/content/dc-metro/rg-026/585454/0001-A1/Manning-1914/Manning-1914_0077.JPG HTTP/1.1\" 200 None\n"
     ]
    },
    {
     "name": "stdout",
     "output_type": "stream",
     "text": [
      "reply: 'HTTP/1.1 200 OK\\r\\n'\n",
      "header: Access-Control-Allow-Credentials: true\n",
      "header: Access-Control-Allow-Methods: DELETE, HEAD, GET, OPTION, POST, PUT\n",
      "header: Access-Control-Expose-Headers: JSESSIONID\n",
      "header: Access-Control-Max-Age: 3600\n",
      "header: BALANCER_NAME: (null)\n",
      "header: BALANCER_ROUTE_CHANGED: 1\n",
      "header: BALANCER_SESSION_ROUTE: (null)\n",
      "header: BALANCER_SESSION_STICKY: (null)\n",
      "header: BALANCER_WORKER_NAME: ajp://pa04.aws.nac.nara.gov:8009/OpaAPI\n",
      "header: BALANCER_WORKER_ROUTE: pa04\n",
      "header: Cache-Control: no-store, no-cache\n",
      "header: Content-Type: image/jpeg;charset=UTF-8\n",
      "header: Date: Mon, 25 Nov 2019 19:04:08 GMT\n",
      "header: hnweb: pw03\n",
      "header: Pragma: no-cache\n",
      "header: Server: Apache/2.4.6 (Red Hat)\n",
      "header: Strict-Transport-Security: max-age=31536000; includeSubDomains; preload\n",
      "header: transfer-encoding: chunked\n",
      "header: Connection: keep-alive\n"
     ]
    }
   ],
   "source": [
    "# tests # \n",
    "\n",
    "# test function for a single entry\n",
    "download_nara_entry(ndf.sample(1, random_state=0))"
   ]
  },
  {
   "cell_type": "code",
   "execution_count": null,
   "metadata": {},
   "outputs": [],
   "source": [
    "# do actually download for each sample entry\n",
    "# ndf.groupby('NARA URL').apply(download_nara_entry)"
   ]
  }
 ],
 "metadata": {
  "kernelspec": {
   "display_name": "Python 3",
   "language": "python",
   "name": "python3"
  },
  "language_info": {
   "codemirror_mode": {
    "name": "ipython",
    "version": 3
   },
   "file_extension": ".py",
   "mimetype": "text/x-python",
   "name": "python",
   "nbconvert_exporter": "python",
   "pygments_lexer": "ipython3",
   "version": "3.7.5"
  }
 },
 "nbformat": 4,
 "nbformat_minor": 2
}
