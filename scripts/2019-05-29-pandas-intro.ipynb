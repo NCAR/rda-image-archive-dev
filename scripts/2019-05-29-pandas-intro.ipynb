{
 "cells": [
  {
   "cell_type": "markdown",
   "metadata": {},
   "source": [
    "# 2019-05-29 \n",
    "\n",
    "## manipulating pandas objects\n",
    "\n",
    "I am following [Jake\n",
    "VanderPlas](https://github.com/jakevdp/PythonDataScienceHandbook)'\n",
    "`03.01-Introducing-Pandas-Objects.ipynb`.\n",
    "\n",
    "> ... three fundamental Pandas data\n",
    "structures: the ``Series``, ``DataFrame``, and ``Index``."
   ]
  },
  {
   "cell_type": "code",
   "execution_count": 269,
   "metadata": {
    "attributes": {
     "classes": [],
     "id": "",
     "n": "269"
    }
   },
   "outputs": [],
   "source": [
    "import numpy as np\n",
    "import pandas as pd"
   ]
  },
  {
   "cell_type": "code",
   "execution_count": 270,
   "metadata": {
    "attributes": {
     "classes": [],
     "id": "",
     "n": "270"
    }
   },
   "outputs": [
    {
     "name": "stdout",
     "output_type": "stream",
     "text": [
      "\u001b[0m\u001b[32mdata/2018-05-16-wood-metadata-federal-archives.txt\u001b[0m\r\n",
      "\r\n",
      "data/2018-05-16-NARA-master-manifest:\r\n",
      "\u001b[32mCG.csv\u001b[0m  \u001b[32mNavy_A2.csv\u001b[0m  \u001b[32mNavy.csv\u001b[0m  \u001b[32mRAC.csv\u001b[0m  \u001b[32msums.csv\u001b[0m  \u001b[32mUSCS.csv\u001b[0m\r\n"
     ]
    }
   ],
   "source": [
    "%ls data/*"
   ]
  },
  {
   "cell_type": "markdown",
   "metadata": {},
   "source": [
    "### `DataFrame`"
   ]
  },
  {
   "cell_type": "code",
   "execution_count": 356,
   "metadata": {
    "attributes": {
     "classes": [],
     "id": "",
     "n": "356"
    }
   },
   "outputs": [
    {
     "data": {
      "text/plain": [
       "[Ship Name                                                    AIVIK\n",
       " Record Group                                                    26\n",
       " Entry Number                                                 159-E\n",
       " Box or Volume Number                                         Box 2\n",
       " Digital Directory                                    aivik-1943-01\n",
       " Start Date                                              01/01/1943\n",
       " End Date                                                01/31/1943\n",
       " Box or Volume Number.1                                       Box 2\n",
       " Assets                                                           1\n",
       " Number of Images                                                38\n",
       " Number of Pages                                                 73\n",
       " NARA URL                  https://catalog.archives.gov/id/23709293\n",
       " Geographic Focus                                            Arctic\n",
       " Name: 0, dtype: object,\n",
       " Ship Name                                                   CHELAN\n",
       " Record Group                                                    26\n",
       " Entry Number                                                  159A\n",
       " Box or Volume Number                                       Box 536\n",
       " Digital Directory                                   chelan-1931-05\n",
       " Start Date                                              05/01/1931\n",
       " End Date                                                05/31/1931\n",
       " Box or Volume Number.1                                     Box 536\n",
       " Assets                                                           1\n",
       " Number of Images                                                44\n",
       " Number of Pages                                                 87\n",
       " NARA URL                  https://catalog.archives.gov/id/23676113\n",
       " Geographic Focus                                            Arctic\n",
       " Name: 333, dtype: object,\n",
       " Ship Name                                                  MANNING\n",
       " Record Group                                                    26\n",
       " Entry Number                                                 159-A\n",
       " Box or Volume Number                           Boxes 1482 and 1483\n",
       " Digital Directory                                     manning-1929\n",
       " Start Date                                              01/01/1929\n",
       " End Date                                                12/31/1929\n",
       " Box or Volume Number.1                         Boxes 1482 and 1483\n",
       " Assets                                                           2\n",
       " Number of Images                                               415\n",
       " Number of Pages                                                819\n",
       " NARA URL                  https://catalog.archives.gov/id/24413806\n",
       " Geographic Focus                                            Arctic\n",
       " Name: 666, dtype: object,\n",
       " Ship Name                                                  STORIS\n",
       " Record Group                                                   26\n",
       " Entry Number                                                159-F\n",
       " Box or Volume Number                                   b555, b556\n",
       " Digital Directory                         storis-1944 transcripts\n",
       " Start Date                                             06/01/1944\n",
       " End Date                                               07/31/1944\n",
       " Box or Volume Number.1                                 b555, b556\n",
       " Assets                                                          2\n",
       " Number of Images                                              268\n",
       " Number of Pages                                               268\n",
       " NARA URL                  http://catalog.archives/gov/id/38548000\n",
       " Geographic Focus                                           Arctic\n",
       " Name: 999, dtype: object]"
      ]
     },
     "execution_count": 356,
     "metadata": {},
     "output_type": "execute_result"
    }
   ],
   "source": [
    "# relies on relative location of metadata\n",
    "# https://stackoverflow.com/questions/47676958\n",
    "parentDirectory = os.path.abspath(os.path.join(os.getcwd(), os.pardir))\n",
    "table = pd.read_csv(os.path.join(parentDirectory, 'import/2018-05-16-NARA-master-manifest', 'CG.csv'))\n",
    "table.rename(str.strip, axis='columns',inplace=True) #trim spaces\n",
    "[table.loc[j] for j in range(0,1000, 333)] #preview"
   ]
  },
  {
   "cell_type": "code",
   "execution_count": 364,
   "metadata": {
    "attributes": {
     "classes": [],
     "id": "",
     "n": "364"
    }
   },
   "outputs": [
    {
     "data": {
      "text/plain": [
       "25     AKLAK\n",
       "26     AKLAK\n",
       "27     AKLAK\n",
       "28     AKLAK\n",
       "29     AKLAK\n",
       "30     AKLAK\n",
       "31    ALATOK\n",
       "32    ALATOK\n",
       "33    ALATOK\n",
       "34    ALATOK\n",
       "Name: Ship Name, dtype: object"
      ]
     },
     "execution_count": 364,
     "metadata": {},
     "output_type": "execute_result"
    }
   ],
   "source": [
    "# indexing a column returns a Series, from which ...\n",
    "table['Ship Name'][25:35] # we take an arbitrary slice"
   ]
  },
  {
   "cell_type": "markdown",
   "metadata": {},
   "source": [
    "> Like with a NumPy array, data can be accessed by the associated index via the\n",
    "familiar Python square-bracket notation:"
   ]
  },
  {
   "cell_type": "code",
   "execution_count": 272,
   "metadata": {
    "attributes": {
     "classes": [],
     "id": "",
     "n": "272"
    }
   },
   "outputs": [
    {
     "data": {
      "text/plain": [
       "array([['AIVIK', 26.0, '159-E', ..., '73',\n",
       "        'https://catalog.archives.gov/id/23709293', 'Arctic'],\n",
       "       ['AIVIK', 26.0, '159-E', ..., '63',\n",
       "        'https://catalog.archives.gov/id/23709331', 'Arctic'],\n",
       "       ['AIVIK', 26.0, '159-E', ..., '71',\n",
       "        'https://catalog.archives.gov/id/23709365', 'Arctic'],\n",
       "       ...,\n",
       "       ['WESTWIND (WAG-281)', 26.0, '330', ..., '384',\n",
       "        'https://catalog.archives.gov/id/23657590', 'Arctic'],\n",
       "       ['WESTWIND (WAG-281)', 26.0, '330', ..., '407',\n",
       "        'https://catalog.archives.gov/id/23657786', 'Arctic'],\n",
       "       ['TOTALS', nan, nan, ..., '446,700', nan, nan]], dtype=object)"
      ]
     },
     "execution_count": 272,
     "metadata": {},
     "output_type": "execute_result"
    }
   ],
   "source": [
    "table.values"
   ]
  },
  {
   "cell_type": "code",
   "execution_count": 293,
   "metadata": {
    "attributes": {
     "classes": [],
     "id": "",
     "n": "293"
    }
   },
   "outputs": [
    {
     "data": {
      "text/plain": [
       "array(['AIVIK', 26.0, '159-E', 'Box 2', 'aivik-1943-01', '01/01/1943',\n",
       "       '01/31/1943', 'Box 2', '1', '38', '73',\n",
       "       'https://catalog.archives.gov/id/23709293', 'Arctic'], dtype=object)"
      ]
     },
     "execution_count": 293,
     "metadata": {},
     "output_type": "execute_result"
    }
   ],
   "source": [
    "table.values[0]"
   ]
  },
  {
   "cell_type": "code",
   "execution_count": 294,
   "metadata": {
    "attributes": {
     "classes": [],
     "id": "",
     "n": "294"
    }
   },
   "outputs": [
    {
     "data": {
      "text/plain": [
       "array(['https://catalog.archives.gov/id/23709293',\n",
       "       'https://catalog.archives.gov/id/23709331',\n",
       "       'https://catalog.archives.gov/id/23709365', ...,\n",
       "       'https://catalog.archives.gov/id/23657590',\n",
       "       'https://catalog.archives.gov/id/23657786', nan], dtype=object)"
      ]
     },
     "execution_count": 294,
     "metadata": {},
     "output_type": "execute_result"
    }
   ],
   "source": [
    "table.values[:,-2]"
   ]
  },
  {
   "cell_type": "code",
   "execution_count": 295,
   "metadata": {
    "attributes": {
     "classes": [],
     "id": "",
     "n": "295"
    }
   },
   "outputs": [
    {
     "data": {
      "text/plain": [
       "RangeIndex(start=0, stop=1185, step=1)"
      ]
     },
     "execution_count": 295,
     "metadata": {},
     "output_type": "execute_result"
    }
   ],
   "source": [
    "table.index"
   ]
  },
  {
   "cell_type": "markdown",
   "metadata": {},
   "source": [
    "### `Series`\n",
    "\n",
    "Recall `np.linspace`. Recall accessing values in an array."
   ]
  },
  {
   "cell_type": "code",
   "execution_count": 296,
   "metadata": {
    "attributes": {
     "classes": [],
     "id": "",
     "n": "296"
    }
   },
   "outputs": [
    {
     "data": {
      "text/plain": [
       "0    0.00\n",
       "1    0.25\n",
       "2    0.50\n",
       "3    0.75\n",
       "4    1.00\n",
       "dtype: float64"
      ]
     },
     "execution_count": 296,
     "metadata": {},
     "output_type": "execute_result"
    }
   ],
   "source": [
    "data = pd.Series(np.linspace(0,1,5)); data"
   ]
  },
  {
   "cell_type": "code",
   "execution_count": 297,
   "metadata": {
    "attributes": {
     "classes": [],
     "id": "",
     "n": "297"
    }
   },
   "outputs": [
    {
     "data": {
      "text/plain": [
       "array([0.  , 0.25, 0.5 , 0.75, 1.  ])"
      ]
     },
     "execution_count": 297,
     "metadata": {},
     "output_type": "execute_result"
    }
   ],
   "source": [
    "data.values"
   ]
  },
  {
   "cell_type": "code",
   "execution_count": 298,
   "metadata": {
    "attributes": {
     "classes": [],
     "id": "",
     "n": "298"
    }
   },
   "outputs": [
    {
     "data": {
      "text/plain": [
       "RangeIndex(start=0, stop=5, step=1)"
      ]
     },
     "execution_count": 298,
     "metadata": {},
     "output_type": "execute_result"
    }
   ],
   "source": [
    "data.index"
   ]
  },
  {
   "cell_type": "code",
   "execution_count": 299,
   "metadata": {
    "attributes": {
     "classes": [],
     "id": "",
     "n": "299"
    }
   },
   "outputs": [
    {
     "data": {
      "text/plain": [
       "0    0.00\n",
       "1    0.25\n",
       "2    0.50\n",
       "3    0.75\n",
       "dtype: float64"
      ]
     },
     "execution_count": 299,
     "metadata": {},
     "output_type": "execute_result"
    }
   ],
   "source": [
    "data[:-1]"
   ]
  },
  {
   "cell_type": "code",
   "execution_count": 300,
   "metadata": {
    "attributes": {
     "classes": [],
     "id": "",
     "n": "300"
    }
   },
   "outputs": [
    {
     "data": {
      "text/plain": [
       "2    0.50\n",
       "3    0.75\n",
       "dtype: float64"
      ]
     },
     "execution_count": 300,
     "metadata": {},
     "output_type": "execute_result"
    }
   ],
   "source": [
    "data[2:-1]"
   ]
  },
  {
   "cell_type": "markdown",
   "metadata": {},
   "source": [
    "> From what we've seen so far, it may look like the ``Series`` object is\n",
    "basically interchangeable with a one-dimensional NumPy array.\n",
    "The essential\n",
    "difference is the presence of the index: while the Numpy Array has an\n",
    "*implicitly defined* integer index used to access the values, the Pandas\n",
    "``Series`` has an *explicitly defined* index associated with the values.\n",
    "\n",
    "> This\n",
    "explicit index definition gives the ``Series`` object additional capabilities.\n",
    "For example, the index need not be an integer, but can consist of values of any\n",
    "desired type.\n",
    "\n",
    "To define a series with a rational number as an index."
   ]
  },
  {
   "cell_type": "code",
   "execution_count": 301,
   "metadata": {
    "attributes": {
     "classes": [],
     "id": "",
     "n": "301"
    }
   },
   "outputs": [],
   "source": [
    "ell = len(table.values)"
   ]
  },
  {
   "cell_type": "code",
   "execution_count": 302,
   "metadata": {
    "attributes": {
     "classes": [],
     "id": "",
     "n": "302"
    }
   },
   "outputs": [
    {
     "data": {
      "text/plain": [
       "0.000000    https://catalog.archives.gov/id/23709293\n",
       "0.000845    https://catalog.archives.gov/id/23709331\n",
       "0.001689    https://catalog.archives.gov/id/23709365\n",
       "0.002534    https://catalog.archives.gov/id/23709403\n",
       "0.003378    https://catalog.archives.gov/id/23709436\n",
       "dtype: object"
      ]
     },
     "execution_count": 302,
     "metadata": {},
     "output_type": "execute_result"
    }
   ],
   "source": [
    "urls = pd.Series(table.values[:,-2], index=np.linspace(0,1,ell))\n",
    "urls.head()"
   ]
  },
  {
   "cell_type": "code",
   "execution_count": 303,
   "metadata": {
    "attributes": {
     "classes": [],
     "id": "",
     "n": "303"
    }
   },
   "outputs": [
    {
     "data": {
      "text/plain": [
       "0.0008445945945945946"
      ]
     },
     "execution_count": 303,
     "metadata": {},
     "output_type": "execute_result"
    }
   ],
   "source": [
    "step = 1.0/(ell-1)\n",
    "step"
   ]
  },
  {
   "cell_type": "markdown",
   "metadata": {},
   "source": [
    "> And the item access works as expected:"
   ]
  },
  {
   "cell_type": "code",
   "execution_count": 304,
   "metadata": {
    "attributes": {
     "classes": [],
     "id": "",
     "n": "304"
    }
   },
   "outputs": [
    {
     "data": {
      "text/plain": [
       "'https://catalog.archives.gov/id/23709331'"
      ]
     },
     "execution_count": 304,
     "metadata": {},
     "output_type": "execute_result"
    }
   ],
   "source": [
    "#urls[0.000845] fails, KeyError: 0.000845\n",
    "urls[step] #use the exact key"
   ]
  },
  {
   "cell_type": "markdown",
   "metadata": {},
   "source": [
    "To define a series with a URL as an index.\n",
    "> We can even use non-contiguous or\n",
    "non-sequential indices:"
   ]
  },
  {
   "cell_type": "code",
   "execution_count": 305,
   "metadata": {
    "attributes": {
     "classes": [],
     "id": "",
     "n": "305"
    }
   },
   "outputs": [
    {
     "data": {
      "text/plain": [
       "https://catalog.archives.gov/id/23709293    0.000000\n",
       "https://catalog.archives.gov/id/23709331    0.000845\n",
       "https://catalog.archives.gov/id/23709365    0.001689\n",
       "https://catalog.archives.gov/id/23709403    0.002534\n",
       "https://catalog.archives.gov/id/23709436    0.003378\n",
       "dtype: float64"
      ]
     },
     "execution_count": 305,
     "metadata": {},
     "output_type": "execute_result"
    }
   ],
   "source": [
    "urls_again = pd.Series(np.linspace(0,1,len(table.values[:,-2])), index=table.values[:,-2])\n",
    "urls_again.head()"
   ]
  },
  {
   "cell_type": "code",
   "execution_count": 306,
   "metadata": {
    "attributes": {
     "classes": [],
     "id": "",
     "n": "306"
    }
   },
   "outputs": [
    {
     "data": {
      "text/plain": [
       "Index(['https://catalog.archives.gov/id/23709293',\n",
       "       'https://catalog.archives.gov/id/23709331',\n",
       "       'https://catalog.archives.gov/id/23709365',\n",
       "       'https://catalog.archives.gov/id/23709403',\n",
       "       'https://catalog.archives.gov/id/23709436',\n",
       "       'https://catalog.archives.gov/id/23709473',\n",
       "       'https://catalog.archives.gov/id/23709510',\n",
       "       'https://catalog.archives.gov/id/23709548',\n",
       "       'https://catalog.archives.gov/id/23709581',\n",
       "       'https://catalog.archives.gov/id/23709618',\n",
       "       ...\n",
       "       'https://catalog.archives.gov/id/23656384',\n",
       "       'https://catalog.archives.gov/id/23656558',\n",
       "       'https://catalog.archives.gov/id/23656724',\n",
       "       'https://catalog.archives.gov/id/23656854',\n",
       "       'https://catalog.archives.gov/id/23656902',\n",
       "       'https://catalog.archives.gov/id/23657110',\n",
       "       'https://catalog.archives.gov/id/23657374',\n",
       "       'https://catalog.archives.gov/id/23657590',\n",
       "       'https://catalog.archives.gov/id/23657786',\n",
       "                                              nan],\n",
       "      dtype='object', length=1185)"
      ]
     },
     "execution_count": 306,
     "metadata": {},
     "output_type": "execute_result"
    }
   ],
   "source": [
    "urls_again.index"
   ]
  },
  {
   "cell_type": "code",
   "execution_count": 307,
   "metadata": {
    "attributes": {
     "classes": [],
     "id": "",
     "n": "307"
    }
   },
   "outputs": [
    {
     "data": {
      "text/plain": [
       "array([0.        , 0.00084459, 0.00168919, 0.00253378, 0.00337838,\n",
       "       0.00422297, 0.00506757, 0.00591216, 0.00675676, 0.00760135])"
      ]
     },
     "execution_count": 307,
     "metadata": {},
     "output_type": "execute_result"
    }
   ],
   "source": [
    "# For example, we access a url via the index's index, \n",
    "# then pass the url as a key for the Series `data`\n",
    "# (This is excessive.)\n",
    "np.array([urls_again[urls_again.index[i]] for i in range(10)])"
   ]
  },
  {
   "cell_type": "code",
   "execution_count": 308,
   "metadata": {
    "attributes": {
     "classes": [],
     "id": "",
     "n": "308"
    }
   },
   "outputs": [
    {
     "data": {
      "text/plain": [
       "array([0.        , 0.00084459, 0.00168919, 0.00253378, 0.00337838,\n",
       "       0.00422297, 0.00506757, 0.00591216, 0.00675676, 0.00760135])"
      ]
     },
     "execution_count": 308,
     "metadata": {},
     "output_type": "execute_result"
    }
   ],
   "source": [
    "# equivalently ...\n",
    "np.linspace(0,1,ell)[:10]"
   ]
  },
  {
   "cell_type": "markdown",
   "metadata": {},
   "source": [
    "### `Series` as specialized dictionary\n",
    "\n",
    "> In this way, you can think of a Pandas\n",
    "``Series`` a bit like a specialization of a Python dictionary.\n",
    "A dictionary is a\n",
    "structure that maps arbitrary keys to a set of arbitrary values, and a\n",
    "``Series`` is a structure which maps typed keys to a set of typed values.\n",
    "This\n",
    "typing is important: just as the type-specific compiled code behind a NumPy\n",
    "array makes it more efficient than a Python list for certain operations, the\n",
    "type information of a Pandas ``Series`` makes it much more efficient than Python\n",
    "dictionaries for certain operations.\n",
    "\n",
    "List unique ships."
   ]
  },
  {
   "cell_type": "code",
   "execution_count": 368,
   "metadata": {
    "attributes": {
     "classes": [],
     "id": "",
     "n": "368"
    }
   },
   "outputs": [
    {
     "data": {
      "text/plain": [
       "array(['AIVIK', 'AKLAK', 'ALATOK', 'ALERT', 'AMAROK', 'ARLUK', 'ATAK',\n",
       "       'ATALANTA', 'BEAR', 'BONHAM', 'CHELAN', 'COMANCHE',\n",
       "       'COMMODORE PERRY', 'CORWIN', 'CYANE', 'EASTWIND (WAG-279)',\n",
       "       'EASTWIND (WAGB-279)', 'FREDERICK LEE', 'HAIDA', 'MANNING',\n",
       "       'MCCULLOCH', 'McCULLOCH', 'MODOC', 'MOHAWK', 'MOJAVE', 'NANOK',\n",
       "       'NOGAK', 'NORTHLAND', 'NORTH STAR', 'NORTHWIND (WAG-282)',\n",
       "       'ONONDAGA (WPG-79)', 'RUSH', 'SHOSHONE', 'SNOHOMISH',\n",
       "       'SOUTHWIND (WAG-280)', 'STORIS', 'TAHOMA', 'TALLAPOOSA', 'THETIS',\n",
       "       'UNALGA', 'WESTWIND (WAG-281)', 'TOTALS'], dtype=object)"
      ]
     },
     "execution_count": 368,
     "metadata": {},
     "output_type": "execute_result"
    }
   ],
   "source": [
    "ships = table['Ship Name'].unique()\n",
    "ships"
   ]
  },
  {
   "cell_type": "markdown",
   "metadata": {},
   "source": [
    "Create a dictionary of ships against the number of unique URLs in `Navy.csv`\n",
    "(again, this is excessive).\n",
    "\n",
    "-\n",
    "<https://docs.python.org/3/tutorial/datastructures.html#dictionaries>\n",
    "-\n",
    "<https://stackoverflow.com/questions/20076195/what-is-the-most-efficient-way-of-\n",
    "counting-occurrences-in-pandas>"
   ]
  },
  {
   "cell_type": "code",
   "execution_count": 371,
   "metadata": {
    "attributes": {
     "classes": [],
     "id": "",
     "n": "371"
    }
   },
   "outputs": [
    {
     "data": {
      "text/plain": [
       "{'AIVIK': 19,\n",
       " 'AKLAK': 12,\n",
       " 'ALATOK': 20,\n",
       " 'ALERT': 5,\n",
       " 'AMAROK': 4,\n",
       " 'ARLUK': 6,\n",
       " 'ATAK': 6,\n",
       " 'ATALANTA': 143,\n",
       " 'BEAR': 72,\n",
       " 'BONHAM': 14,\n",
       " 'CHELAN': 153,\n",
       " 'COMANCHE': 11,\n",
       " 'COMMODORE PERRY': 26,\n",
       " 'CORWIN': 27,\n",
       " 'CYANE': 18,\n",
       " 'EASTWIND (WAG-279)': 6,\n",
       " 'EASTWIND (WAGB-279)': 7,\n",
       " 'FREDERICK LEE': 25,\n",
       " 'HAIDA': 55,\n",
       " 'MANNING': 39,\n",
       " 'MCCULLOCH': 3,\n",
       " 'McCULLOCH': 31,\n",
       " 'MODOC': 29,\n",
       " 'MOHAWK': 13,\n",
       " 'MOJAVE': 29,\n",
       " 'NANOK': 6,\n",
       " 'NOGAK': 6,\n",
       " 'NORTHLAND': 41,\n",
       " 'NORTH STAR': 7,\n",
       " 'NORTHWIND (WAG-282)': 27,\n",
       " 'ONONDAGA (WPG-79)': 14,\n",
       " 'RUSH': 49,\n",
       " 'SHOSHONE': 7,\n",
       " 'SNOHOMISH': 48,\n",
       " 'SOUTHWIND (WAG-280)': 3,\n",
       " 'STORIS': 41,\n",
       " 'TAHOMA': 1,\n",
       " 'TALLAPOOSA': 72,\n",
       " 'THETIS': 23,\n",
       " 'UNALGA': 56,\n",
       " 'WESTWIND (WAG-281)': 10,\n",
       " 'TOTALS': 1}"
      ]
     },
     "execution_count": 371,
     "metadata": {},
     "output_type": "execute_result"
    }
   ],
   "source": [
    "ship_url_dict = dict([(ship, table['Ship Name'].value_counts()[ship]) for ship in ships])\n",
    "ship_url_dict"
   ]
  },
  {
   "cell_type": "markdown",
   "metadata": {},
   "source": [
    "> The ``Series``-as-dictionary analogy can be made even more clear by\n",
    "constructing a ``Series`` object directly from a Python dictionary:"
   ]
  },
  {
   "cell_type": "code",
   "execution_count": 375,
   "metadata": {
    "attributes": {
     "classes": [],
     "id": "",
     "n": "375"
    }
   },
   "outputs": [
    {
     "data": {
      "text/plain": [
       "AIVIK                   19\n",
       "AKLAK                   12\n",
       "ALATOK                  20\n",
       "ALERT                    5\n",
       "AMAROK                   4\n",
       "ARLUK                    6\n",
       "ATAK                     6\n",
       "ATALANTA               143\n",
       "BEAR                    72\n",
       "BONHAM                  14\n",
       "CHELAN                 153\n",
       "COMANCHE                11\n",
       "COMMODORE PERRY         26\n",
       "CORWIN                  27\n",
       "CYANE                   18\n",
       "EASTWIND (WAG-279)       6\n",
       "EASTWIND (WAGB-279)      7\n",
       "FREDERICK LEE           25\n",
       "HAIDA                   55\n",
       "MANNING                 39\n",
       "MCCULLOCH                3\n",
       "McCULLOCH               31\n",
       "MODOC                   29\n",
       "MOHAWK                  13\n",
       "MOJAVE                  29\n",
       "NANOK                    6\n",
       "NOGAK                    6\n",
       "NORTHLAND               41\n",
       "NORTH STAR               7\n",
       "NORTHWIND (WAG-282)     27\n",
       "ONONDAGA (WPG-79)       14\n",
       "RUSH                    49\n",
       "SHOSHONE                 7\n",
       "SNOHOMISH               48\n",
       "SOUTHWIND (WAG-280)      3\n",
       "STORIS                  41\n",
       "TAHOMA                   1\n",
       "TALLAPOOSA              72\n",
       "THETIS                  23\n",
       "UNALGA                  56\n",
       "WESTWIND (WAG-281)      10\n",
       "TOTALS                   1\n",
       "dtype: int64"
      ]
     },
     "execution_count": 375,
     "metadata": {},
     "output_type": "execute_result"
    }
   ],
   "source": [
    "ship_url_counts = pd.Series(ship_url_dict)\n",
    "ship_url_counts"
   ]
  },
  {
   "cell_type": "markdown",
   "metadata": {},
   "source": [
    "> By default, a ``Series`` will be created where the index is drawn from the\n",
    "sorted keys.\n",
    "From here, typical dictionary-style item access can be performed:"
   ]
  },
  {
   "cell_type": "code",
   "execution_count": 383,
   "metadata": {
    "attributes": {
     "classes": [],
     "id": "",
     "n": "383"
    }
   },
   "outputs": [
    {
     "data": {
      "text/plain": [
       "12"
      ]
     },
     "execution_count": 383,
     "metadata": {},
     "output_type": "execute_result"
    }
   ],
   "source": [
    "ship_url_counts['AKLAK']"
   ]
  },
  {
   "cell_type": "markdown",
   "metadata": {},
   "source": [
    "> Unlike a dictionary, though, the ``Series`` also supports array-style\n",
    "operations such as slicing:"
   ]
  },
  {
   "cell_type": "code",
   "execution_count": 382,
   "metadata": {
    "attributes": {
     "classes": [],
     "id": "",
     "n": "382"
    }
   },
   "outputs": [
    {
     "data": {
      "text/plain": [
       "COMMODORE PERRY        26\n",
       "CORWIN                 27\n",
       "CYANE                  18\n",
       "EASTWIND (WAG-279)      6\n",
       "EASTWIND (WAGB-279)     7\n",
       "FREDERICK LEE          25\n",
       "HAIDA                  55\n",
       "MANNING                39\n",
       "MCCULLOCH               3\n",
       "McCULLOCH              31\n",
       "MODOC                  29\n",
       "dtype: int64"
      ]
     },
     "execution_count": 382,
     "metadata": {},
     "output_type": "execute_result"
    }
   ],
   "source": [
    "ship_url_counts['COMMODORE PERRY':'MODOC']"
   ]
  },
  {
   "cell_type": "markdown",
   "metadata": {},
   "source": [
    "> ### Constructing Series objects\n",
    "> \n",
    "> We've already seen a few ways of\n",
    "constructing a Pandas ``Series`` from scratch; all of them are some version of\n",
    "the following:\n",
    "> \n",
    "> ```python\n",
    "> >>> pd.Series(data, index=index)\n",
    "> ```\n",
    "> \n",
    ">\n",
    "where ``index`` is an optional argument, and ``data`` can be one of many\n",
    "entities.\n",
    "> \n",
    "> For example, ``data`` can be a list or NumPy array, in which case\n",
    "``index`` defaults to an integer sequence:"
   ]
  },
  {
   "cell_type": "code",
   "execution_count": 392,
   "metadata": {
    "attributes": {
     "classes": [],
     "id": "",
     "n": "392"
    }
   },
   "outputs": [
    {
     "data": {
      "text/plain": [
       "0            38\n",
       "1            32\n",
       "2            36\n",
       "3            31\n",
       "4            35\n",
       "5            35\n",
       "6            36\n",
       "7            31\n",
       "8            35\n",
       "9            36\n",
       "10           31\n",
       "11           38\n",
       "12           36\n",
       "13           35\n",
       "14           36\n",
       "15           36\n",
       "16           38\n",
       "17           35\n",
       "18           29\n",
       "19           35\n",
       "20           33\n",
       "21           33\n",
       "22           35\n",
       "23           37\n",
       "24           37\n",
       "25           29\n",
       "26           38\n",
       "27           32\n",
       "28           35\n",
       "29           34\n",
       "         ...   \n",
       "1155        192\n",
       "1156        218\n",
       "1157        229\n",
       "1158        258\n",
       "1159        118\n",
       "1160        269\n",
       "1161        265\n",
       "1162        156\n",
       "1163        164\n",
       "1164        172\n",
       "1165         41\n",
       "1166        223\n",
       "1167        203\n",
       "1168         45\n",
       "1169        151\n",
       "1170        196\n",
       "1171        220\n",
       "1172        116\n",
       "1173        424\n",
       "1174         44\n",
       "1175        172\n",
       "1176        164\n",
       "1177        128\n",
       "1178         46\n",
       "1179        206\n",
       "1180        262\n",
       "1181        214\n",
       "1182        194\n",
       "1183        206\n",
       "1184    264,789\n",
       "Name: Number of Images, Length: 1185, dtype: object"
      ]
     },
     "execution_count": 392,
     "metadata": {},
     "output_type": "execute_result"
    }
   ],
   "source": [
    "pd.Series(table['Number of Images'])\n",
    "# pd.Series(table['Number of Images'])[:10]"
   ]
  },
  {
   "cell_type": "markdown",
   "metadata": {},
   "source": [
    "> ``data`` can be a scalar, which is repeated to fill the specified index:"
   ]
  },
  {
   "cell_type": "code",
   "execution_count": 391,
   "metadata": {
    "attributes": {
     "classes": [],
     "id": "",
     "n": "391"
    }
   },
   "outputs": [
    {
     "data": {
      "text/plain": [
       "NARA URL\n",
       "https://catalog.archives.gov/id/23709293    AIVIK\n",
       "https://catalog.archives.gov/id/23709331    AIVIK\n",
       "https://catalog.archives.gov/id/23709365    AIVIK\n",
       "https://catalog.archives.gov/id/23709403    AIVIK\n",
       "https://catalog.archives.gov/id/23709436    AIVIK\n",
       "https://catalog.archives.gov/id/23709473    AIVIK\n",
       "https://catalog.archives.gov/id/23709510    AIVIK\n",
       "https://catalog.archives.gov/id/23709548    AIVIK\n",
       "https://catalog.archives.gov/id/23709581    AIVIK\n",
       "https://catalog.archives.gov/id/23709618    AIVIK\n",
       "https://catalog.archives.gov/id/23709656    AIVIK\n",
       "https://catalog.archives.gov/id/23709689    AIVIK\n",
       "https://catalog.archives.gov/id/23709729    AIVIK\n",
       "https://catalog.archives.gov/id/23709767    AIVIK\n",
       "https://catalog.archives.gov/id/23709804    AIVIK\n",
       "https://catalog.archives.gov/id/23709842    AIVIK\n",
       "https://catalog.archives.gov/id/23709880    AIVIK\n",
       "https://catalog.archives.gov/id/23709920    AIVIK\n",
       "https://catalog.archives.gov/id/23709957    AIVIK\n",
       "https://catalog.archives.gov/id/23709988    AIVIK\n",
       "https://catalog.archives.gov/id/23710024    AIVIK\n",
       "https://catalog.archives.gov/id/23710058    AIVIK\n",
       "https://catalog.archives.gov/id/23710092    AIVIK\n",
       "https://catalog.archives.gov/id/23710129    AIVIK\n",
       "https://catalog.archives.gov/id/23710168    AIVIK\n",
       "https://catalog.archives.gov/id/23710207    AIVIK\n",
       "https://catalog.archives.gov/id/23710238    AIVIK\n",
       "https://catalog.archives.gov/id/23710278    AIVIK\n",
       "https://catalog.archives.gov/id/23710312    AIVIK\n",
       "https://catalog.archives.gov/id/23710349    AIVIK\n",
       "                                            ...  \n",
       "https://catalog.archives.gov/id/23706875    AIVIK\n",
       "https://catalog.archives.gov/id/23707068    AIVIK\n",
       "https://catalog.archives.gov/id/23707287    AIVIK\n",
       "https://catalog.archives.gov/id/23707517    AIVIK\n",
       "https://catalog.archives.gov/id/23707776    AIVIK\n",
       "https://catalog.archives.gov/id/23722079    AIVIK\n",
       "https://catalog.archives.gov/id/23722349    AIVIK\n",
       "https://catalog.archives.gov/id/23722615    AIVIK\n",
       "https://catalog.archives.gov/id/23722772    AIVIK\n",
       "https://catalog.archives.gov/id/23722937    AIVIK\n",
       "https://catalog.archives.gov/id/23723110    AIVIK\n",
       "https://catalog.archives.gov/id/23723152    AIVIK\n",
       "https://catalog.archives.gov/id/23723376    AIVIK\n",
       "https://catalog.archives.gov/id/23723580    AIVIK\n",
       "https://catalog.archives.gov/id/23723626    AIVIK\n",
       "https://catalog.archives.gov/id/23723778    AIVIK\n",
       "https://catalog.archives.gov/id/23723975    AIVIK\n",
       "https://catalog.archives.gov/id/23724196    AIVIK\n",
       "https://catalog.archives.gov/id/23724313    AIVIK\n",
       "https://catalog.archives.gov/id/23656338    AIVIK\n",
       "https://catalog.archives.gov/id/23656384    AIVIK\n",
       "https://catalog.archives.gov/id/23656558    AIVIK\n",
       "https://catalog.archives.gov/id/23656724    AIVIK\n",
       "https://catalog.archives.gov/id/23656854    AIVIK\n",
       "https://catalog.archives.gov/id/23656902    AIVIK\n",
       "https://catalog.archives.gov/id/23657110    AIVIK\n",
       "https://catalog.archives.gov/id/23657374    AIVIK\n",
       "https://catalog.archives.gov/id/23657590    AIVIK\n",
       "https://catalog.archives.gov/id/23657786    AIVIK\n",
       "NaN                                         AIVIK\n",
       "Length: 1185, dtype: object"
      ]
     },
     "execution_count": 391,
     "metadata": {},
     "output_type": "execute_result"
    }
   ],
   "source": [
    "pd.Series('AIVIK', index=table['NARA URL'])"
   ]
  },
  {
   "cell_type": "code",
   "execution_count": 397,
   "metadata": {
    "attributes": {
     "classes": [],
     "id": "",
     "n": "397"
    }
   },
   "outputs": [
    {
     "data": {
      "text/plain": [
       "{'AIVIK': 'https://catalog.archives.gov/id/23709957',\n",
       " 'AKLAK': 'https://catalog.archives.gov/id/23807071',\n",
       " 'ALATOK': 'https://catalog.archives.gov/id/23711091',\n",
       " 'ALERT': 'Shipped March 2017',\n",
       " 'AMAROK': 'https://catalog.archives.gov/id/23711526',\n",
       " 'ARLUK': 'https://catalog.archives.gov/id/23712407; https://catalog.archives.gov/id/23712444',\n",
       " 'ATAK': 'https://catalog.archives.gov/id/23713319',\n",
       " 'ATALANTA': 'https://catalog.archives.gov/id/23716058',\n",
       " 'BEAR': 'https://catalog.archives.gov/id/24388344; https://catalog.archives.gov/id/24387977; https://catalog.archives.gov/id/23701468',\n",
       " 'BONHAM': 'https://catalog.archives.gov/id/33393493',\n",
       " 'CHELAN': 'https://catalog.archives.gov/id/23681720',\n",
       " 'COMANCHE': 'https://catalog.archives.gov/id/33390613',\n",
       " 'COMMODORE PERRY': 'http://research.archives.gov/description/7329653',\n",
       " 'CORWIN': 'http://research.archives.gov/description/6919290',\n",
       " 'CYANE': 'http://catalog.archives/gov/id/38548076',\n",
       " 'EASTWIND (WAG-279)': 'https://catalog.archives.gov/id/24337995',\n",
       " 'EASTWIND (WAGB-279)': 'https://catalog.archives.gov/id/24341892',\n",
       " 'FREDERICK LEE': 'http://catalog.archives/gov/id/38547949',\n",
       " 'HAIDA': 'https://catalog.archives.gov/id/23719454; https://catalog.archives.gov/id/23719496',\n",
       " 'MANNING': 'https://catalog.archives.gov/id/24414223',\n",
       " 'MCCULLOCH': 'Shipped March 2017',\n",
       " 'McCULLOCH': 'Shipped March 2017',\n",
       " 'MODOC': 'http://catalog.archives.gov/id/38548072',\n",
       " 'MOHAWK': 'http://catalog.archives.gov/id/38548068',\n",
       " 'MOJAVE': 'http://catalog.archives/gov/id/38547993',\n",
       " 'NANOK': 'https://catalog.archives.gov/id/23720195; https://catalog.archives.gov/id/23720232; https://catalog.archives.gov/id/23720271; https://catalog.archives.gov/id/23720308',\n",
       " 'NOGAK': 'https://catalog.archives.gov/id/23720909; https://catalog.archives.gov/id/23720945; https://catalog.archives.gov/id/23720982; https://catalog.archives.gov/id/23721020; https://catalog.archives.gov/id/23721057',\n",
       " 'NORTHLAND': 'http://research.archives.gov/description/7284576',\n",
       " 'NORTH STAR': '?',\n",
       " 'NORTHWIND (WAG-282)': 'https://catalog.archives.gov/id/23656157',\n",
       " 'ONONDAGA (WPG-79)': 'https://catalog.archives.gov/id/24432464',\n",
       " 'RUSH': 'https://catalog.archives.gov/id/24426743',\n",
       " 'SHOSHONE': 'https://catalog.archives.gov/id/23669492',\n",
       " 'SNOHOMISH': 'https://catalog.archives.gov/id/24398794; https://catalog.archives.gov/id/24398978; https://catalog.archives.gov/id/24399168; https://catalog.archives.gov/id/24399358; ',\n",
       " 'SOUTHWIND (WAG-280)': 'https://catalog.archives.gov/id/23709167',\n",
       " 'STORIS': 'Shipped March 2017',\n",
       " 'TAHOMA': 'NOT SHIPPED YET',\n",
       " 'TALLAPOOSA': 'In Preservation ',\n",
       " 'THETIS': 'http://research.archives.gov/description/7284570',\n",
       " 'UNALGA': 'https://catalog.archives.gov/id/23724313',\n",
       " 'WESTWIND (WAG-281)': 'https://catalog.archives.gov/id/23657786',\n",
       " 'TOTALS': nan}"
      ]
     },
     "execution_count": 397,
     "metadata": {},
     "output_type": "execute_result"
    }
   ],
   "source": [
    "url_ship_dict = dict([(table['Ship Name'][j], table['NARA URL'][j]) for j in range(ell)])\n",
    "url_ship_dict\n",
    "# note that dictionary comprehension writes the last declared url to each ship"
   ]
  },
  {
   "cell_type": "code",
   "execution_count": 416,
   "metadata": {
    "attributes": {
     "classes": [],
     "id": "",
     "n": "416"
    }
   },
   "outputs": [
    {
     "data": {
      "text/plain": [
       "{'AIVIK': 'https://catalog.archives.gov/id/23709293',\n",
       " 'AKLAK': 'https://catalog.archives.gov/id/23709988',\n",
       " 'ALATOK': 'https://catalog.archives.gov/id/23710397',\n",
       " 'ALERT': 'Shipped March 2017',\n",
       " 'AMAROK': 'https://catalog.archives.gov/id/23711111; https://catalog.archives.gov/id/23711125; https://catalog.archives.gov/id/23711173',\n",
       " 'ARLUK': 'https://catalog.archives.gov/id/23711540; https://catalog.archives.gov/id/23711561; https://catalog.archives.gov/id/23711601; https://catalog.archives.gov/id/23711636; https://catalog.archives.gov/id/23711679; https://catalog.archives.gov/id/23711717',\n",
       " 'ATAK': 'https://catalog.archives.gov/id/23712457; https://catalog.archives.gov/id/23712492; https://catalog.archives.gov/id/23712527; https://catalog.archives.gov/id/23712559; https://catalog.archives.gov/id/23712592; https://catalog.archives.gov/id/23712635',\n",
       " 'ATALANTA': 'https://catalog.archives.gov/id/23669755',\n",
       " 'BEAR': 'http://research.archives.gov/description/6919206',\n",
       " 'BONHAM': 'https://catalog.archives.gov/id/33384552',\n",
       " 'CHELAN': 'https://catalog.archives.gov/id/23674771',\n",
       " 'COMANCHE': 'https://catalog.archives.gov/id/33381387',\n",
       " 'COMMODORE PERRY': 'http://research.archives.gov/description/7329628',\n",
       " 'CORWIN': 'https://catalog.archives.gov/id/23701717',\n",
       " 'CYANE': 'http://catalog.archives/gov/id/38548040',\n",
       " 'EASTWIND (WAG-279)': 'https://catalog.archives.gov/id/24428007',\n",
       " 'EASTWIND (WAGB-279)': 'https://catalog.archives.gov/id/24338174',\n",
       " 'FREDERICK LEE': 'http://catalog.archives/gov/id/38548026',\n",
       " 'HAIDA': 'https://catalog.archives.gov/id/23681730; https://catalog.archives.gov/id/23681742; https://catalog.archives.gov/id/23681780; https://catalog.archives.gov/id/23807083; https://catalog.archives.gov/id/23681856; https://catalog.archives.gov/id/23681892',\n",
       " 'MANNING': 'https://catalog.archives.gov/id/24401214',\n",
       " 'MCCULLOCH': 'https://catalog.archives.gov/id/23702165',\n",
       " 'McCULLOCH': 'https://catalog.archives.gov/id/23719518; https://catalog.archives.gov/id/23719524; https://catalog.archives.gov/id/23719547; https://catalog.archives.gov/id/23719581; https://catalog.archives.gov/id/23719617; https://catalog.archives.gov/id/23719656; https://catalog.archives.gov/id/23719692',\n",
       " 'MODOC': 'Shipped March 2017',\n",
       " 'MOHAWK': 'http://catalog.archives.gov/id/38548001',\n",
       " 'MOJAVE': 'http://catalog.archives/gov/id/38548048',\n",
       " 'NANOK': 'https://catalog.archives.gov/id/23719518; https://catalog.archives.gov/id/23719524; https://catalog.archives.gov/id/23719547; https://catalog.archives.gov/id/23719581; https://catalog.archives.gov/id/23719617; https://catalog.archives.gov/id/23719656; https://catalog.archives.gov/id/23719692',\n",
       " 'NOGAK': 'https://catalog.archives.gov/id/23720340; https://catalog.archives.gov/id/23720348; https://catalog.archives.gov/id/23720379; https://catalog.archives.gov/id/23720414; https://catalog.archives.gov/id/23720451 \\n(NO SEPT)',\n",
       " 'NORTHLAND': 'http://research.archives.gov/description/7284518',\n",
       " 'NORTH STAR': 'http://research.archives.gov/description/7284518',\n",
       " 'NORTHWIND (WAG-282)': 'https://catalog.archives.gov/id/23707898',\n",
       " 'ONONDAGA (WPG-79)': 'https://catalog.archives.gov/id/24414430',\n",
       " 'RUSH': 'https://catalog.archives.gov/id/24418472; https://catalog.archives.gov/id/24418527',\n",
       " 'SHOSHONE': 'https://catalog.archives.gov/id/23666122',\n",
       " 'SNOHOMISH': 'https://catalog.archives.gov/id/24399419',\n",
       " 'SOUTHWIND (WAG-280)': 'https://catalog.archives.gov/id/23708882',\n",
       " 'STORIS': 'http://catalog.archives/gov/id/38547994',\n",
       " 'TAHOMA': 'NOT SHIPPED YET',\n",
       " 'TALLAPOOSA': 'https://catalog.archives.gov/id/24400954',\n",
       " 'THETIS': 'http://research.archives.gov/description/7284547',\n",
       " 'UNALGA': 'https://catalog.archives.gov/id/24382328',\n",
       " 'WESTWIND (WAG-281)': 'https://catalog.archives.gov/id/23656338',\n",
       " 'TOTALS': 'https://catalog.archives.gov/id/24382328'}"
      ]
     },
     "execution_count": 416,
     "metadata": {},
     "output_type": "execute_result"
    }
   ],
   "source": [
    "# we find the first url listed for each ship\n",
    "first_url_ship_dict = dict([(ship, table['NARA URL'][np.searchsorted(table['Ship Name'].values, ship)]) for ship in ships])\n",
    "first_url_ship_dict"
   ]
  },
  {
   "cell_type": "markdown",
   "metadata": {},
   "source": [
    "Apparently, I don't understand the values on the RHS of a python dictionary\n",
    "object."
   ]
  },
  {
   "cell_type": "code",
   "execution_count": 433,
   "metadata": {
    "attributes": {
     "classes": [],
     "id": "",
     "n": "433"
    }
   },
   "outputs": [
    {
     "data": {
      "text/plain": [
       "'https://catalog.archives.gov/id/23709957'"
      ]
     },
     "execution_count": 433,
     "metadata": {},
     "output_type": "execute_result"
    }
   ],
   "source": [
    "su['AIVIK']"
   ]
  },
  {
   "cell_type": "code",
   "execution_count": 435,
   "metadata": {
    "attributes": {
     "classes": [],
     "id": "",
     "n": "435"
    }
   },
   "outputs": [
    {
     "data": {
      "text/plain": [
       "'https://catalog.archives.gov/id/24388344; https://catalog.archives.gov/id/24387977; https://catalog.archives.gov/id/23701468'"
      ]
     },
     "execution_count": 435,
     "metadata": {},
     "output_type": "execute_result"
    }
   ],
   "source": [
    "su['BEAR'] #yikes! apparently I don't understand dictionaries"
   ]
  },
  {
   "cell_type": "code",
   "execution_count": 426,
   "metadata": {
    "attributes": {
     "classes": [],
     "id": "",
     "n": "426"
    }
   },
   "outputs": [
    {
     "name": "stdout",
     "output_type": "stream",
     "text": [
      "ALERT\n",
      "TAHOMA\n"
     ]
    }
   ],
   "source": [
    "# we compare both dictionaries to get an idea of which ships haven't yet been archived at NARA\n",
    "for ship in ships:\n",
    "    if first_url_ship_dict[ship] == url_ship_dict[ship]:\n",
    "        print(ship)"
   ]
  },
  {
   "cell_type": "markdown",
   "metadata": {},
   "source": [
    ">  ``data`` can be a dictionary, in which ``index`` defaults to the sorted\n",
    "dictionary keys:"
   ]
  },
  {
   "cell_type": "code",
   "execution_count": 430,
   "metadata": {
    "attributes": {
     "classes": [],
     "id": "",
     "n": "430"
    }
   },
   "outputs": [
    {
     "data": {
      "text/plain": [
       "AIVIK                           https://catalog.archives.gov/id/23709957\n",
       "AKLAK                           https://catalog.archives.gov/id/23807071\n",
       "ALATOK                          https://catalog.archives.gov/id/23711091\n",
       "ALERT                                                 Shipped March 2017\n",
       "AMAROK                          https://catalog.archives.gov/id/23711526\n",
       "ARLUK                  https://catalog.archives.gov/id/23712407; http...\n",
       "ATAK                            https://catalog.archives.gov/id/23713319\n",
       "ATALANTA                        https://catalog.archives.gov/id/23716058\n",
       "BEAR                   https://catalog.archives.gov/id/24388344; http...\n",
       "BONHAM                          https://catalog.archives.gov/id/33393493\n",
       "CHELAN                          https://catalog.archives.gov/id/23681720\n",
       "COMANCHE                        https://catalog.archives.gov/id/33390613\n",
       "COMMODORE PERRY         http://research.archives.gov/description/7329653\n",
       "CORWIN                  http://research.archives.gov/description/6919290\n",
       "CYANE                            http://catalog.archives/gov/id/38548076\n",
       "EASTWIND (WAG-279)              https://catalog.archives.gov/id/24337995\n",
       "EASTWIND (WAGB-279)             https://catalog.archives.gov/id/24341892\n",
       "FREDERICK LEE                    http://catalog.archives/gov/id/38547949\n",
       "HAIDA                  https://catalog.archives.gov/id/23719454; http...\n",
       "MANNING                         https://catalog.archives.gov/id/24414223\n",
       "MCCULLOCH                                             Shipped March 2017\n",
       "McCULLOCH                                             Shipped March 2017\n",
       "MODOC                            http://catalog.archives.gov/id/38548072\n",
       "MOHAWK                           http://catalog.archives.gov/id/38548068\n",
       "MOJAVE                           http://catalog.archives/gov/id/38547993\n",
       "NANOK                  https://catalog.archives.gov/id/23720195; http...\n",
       "NOGAK                  https://catalog.archives.gov/id/23720909; http...\n",
       "NORTHLAND               http://research.archives.gov/description/7284576\n",
       "NORTH STAR                                                             ?\n",
       "NORTHWIND (WAG-282)             https://catalog.archives.gov/id/23656157\n",
       "ONONDAGA (WPG-79)               https://catalog.archives.gov/id/24432464\n",
       "RUSH                            https://catalog.archives.gov/id/24426743\n",
       "SHOSHONE                        https://catalog.archives.gov/id/23669492\n",
       "SNOHOMISH              https://catalog.archives.gov/id/24398794; http...\n",
       "SOUTHWIND (WAG-280)             https://catalog.archives.gov/id/23709167\n",
       "STORIS                                                Shipped March 2017\n",
       "TAHOMA                                                   NOT SHIPPED YET\n",
       "TALLAPOOSA                                              In Preservation \n",
       "THETIS                  http://research.archives.gov/description/7284570\n",
       "UNALGA                          https://catalog.archives.gov/id/23724313\n",
       "WESTWIND (WAG-281)              https://catalog.archives.gov/id/23657786\n",
       "TOTALS                                                               NaN\n",
       "dtype: object"
      ]
     },
     "execution_count": 430,
     "metadata": {},
     "output_type": "execute_result"
    }
   ],
   "source": [
    "su = pd.Series(url_ship_dict)\n",
    "su"
   ]
  },
  {
   "cell_type": "code",
   "execution_count": 436,
   "metadata": {
    "attributes": {
     "classes": [],
     "id": "",
     "n": "436"
    }
   },
   "outputs": [
    {
     "data": {
      "text/plain": [
       "AIVIK                  False\n",
       "AKLAK                  False\n",
       "ALATOK                 False\n",
       "ALERT                   True\n",
       "AMAROK                 False\n",
       "ARLUK                  False\n",
       "ATAK                   False\n",
       "ATALANTA               False\n",
       "BEAR                   False\n",
       "BONHAM                 False\n",
       "CHELAN                 False\n",
       "COMANCHE               False\n",
       "COMMODORE PERRY        False\n",
       "CORWIN                 False\n",
       "CYANE                  False\n",
       "EASTWIND (WAG-279)     False\n",
       "EASTWIND (WAGB-279)    False\n",
       "FREDERICK LEE          False\n",
       "HAIDA                  False\n",
       "MANNING                False\n",
       "MCCULLOCH              False\n",
       "McCULLOCH              False\n",
       "MODOC                  False\n",
       "MOHAWK                 False\n",
       "MOJAVE                 False\n",
       "NANOK                  False\n",
       "NOGAK                  False\n",
       "NORTHLAND              False\n",
       "NORTH STAR             False\n",
       "NORTHWIND (WAG-282)    False\n",
       "ONONDAGA (WPG-79)      False\n",
       "RUSH                   False\n",
       "SHOSHONE               False\n",
       "SNOHOMISH              False\n",
       "SOUTHWIND (WAG-280)    False\n",
       "STORIS                 False\n",
       "TAHOMA                  True\n",
       "TALLAPOOSA             False\n",
       "THETIS                 False\n",
       "UNALGA                 False\n",
       "WESTWIND (WAG-281)     False\n",
       "TOTALS                 False\n",
       "dtype: bool"
      ]
     },
     "execution_count": 436,
     "metadata": {},
     "output_type": "execute_result"
    }
   ],
   "source": [
    "# so we determine \n",
    "\n",
    "# for ship in ships:\n",
    "#     if first_url_ship_dict[ship] == url_ship_dict[ship]:\n",
    "#         print(ship)\n",
    "\n",
    "# equivalently by considering ... \n",
    "pd.Series(url_ship_dict) == pd.Series(first_url_ship_dict)"
   ]
  }
 ],
 "metadata": {},
 "nbformat": 4,
 "nbformat_minor": 2
}
